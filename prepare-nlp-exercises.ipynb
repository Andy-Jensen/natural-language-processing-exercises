{
 "cells": [
  {
   "cell_type": "code",
   "execution_count": 1,
   "id": "f6f07f1d",
   "metadata": {},
   "outputs": [],
   "source": [
    "import unicodedata\n",
    "import re\n",
    "import json\n",
    "import os\n",
    "from requests import get\n",
    "from bs4 import BeautifulSoup\n",
    "\n",
    "import nltk\n",
    "from nltk.tokenize.toktok import ToktokTokenizer\n",
    "from nltk.corpus import stopwords\n",
    "\n",
    "import pandas as pd\n",
    "import numpy as np\n",
    "\n",
    "import acquire as ac\n"
   ]
  },
  {
   "cell_type": "markdown",
   "id": "1002abc2",
   "metadata": {},
   "source": [
    "## Define a function named basic_clean. It should take in a string and apply some basic text cleaning to it:\n",
    "\n",
    "### Lowercase everything\n",
    "### Normalize unicode characters\n",
    "### Replace anything that is not a letter, number, whitespace or a single quote."
   ]
  },
  {
   "cell_type": "code",
   "execution_count": 2,
   "id": "6bc51c49",
   "metadata": {},
   "outputs": [],
   "source": [
    "def basic_clean(text):\n",
    "    text = text.lower()\n",
    "    text = unicodedata.normalize('NFKD', text)\\\n",
    "    .encode('ascii', 'ignore')\\\n",
    "    .decode('utf-8', 'ignore')\n",
    "    text = re.sub(r\"[^a-z0-9'\\s]\", '', text)\n",
    "    return text"
   ]
  },
  {
   "cell_type": "markdown",
   "id": "e1c4005a",
   "metadata": {},
   "source": [
    "## Define a function named tokenize. It should take in a string and tokenize all the words in the string."
   ]
  },
  {
   "cell_type": "code",
   "execution_count": 3,
   "id": "d070f5d8",
   "metadata": {},
   "outputs": [],
   "source": [
    "def tokenize(string):\n",
    "    tokenizer = nltk.tokenize.ToktokTokenizer()\n",
    "\n",
    "    string= tokenizer.tokenize(string, return_str=True)\n",
    "    return string\n"
   ]
  },
  {
   "cell_type": "markdown",
   "id": "e8c5fc1b",
   "metadata": {},
   "source": [
    "## Define a function named stem. It should accept some text and return the text after applying stemming to all the words.\n",
    "\n"
   ]
  },
  {
   "cell_type": "code",
   "execution_count": 4,
   "id": "ad6441c5",
   "metadata": {},
   "outputs": [],
   "source": [
    "def stem(text):\n",
    "    ps = nltk.porter.PorterStemmer()\n",
    "    stems = [ps.stem(word) for word in text.split()]\n",
    "    text = ' '.join(stems)\n",
    "    return text "
   ]
  },
  {
   "cell_type": "markdown",
   "id": "19b41b3d",
   "metadata": {},
   "source": [
    "## Define a function named lemmatize. It should accept some text and return the text after applying lemmatization to each word.\n",
    "\n"
   ]
  },
  {
   "cell_type": "code",
   "execution_count": 5,
   "id": "9f9e0da9",
   "metadata": {},
   "outputs": [],
   "source": [
    "def lemmatize(text):\n",
    "    wnl = nltk.stem.WordNetLemmatizer()\n",
    "    lemmas = [wnl.lemmatize(word) for word in text.split()]\n",
    "    text = ' '.join(lemmas)\n",
    "    return text"
   ]
  },
  {
   "cell_type": "markdown",
   "id": "0d52ac72",
   "metadata": {},
   "source": [
    "## Define a function named remove_stopwords. It should accept some text and return the text after removing all the stopwords.\n",
    "\n",
    "## This function should define two optional parameters, extra_words and exclude_words. These parameters should define any additional stop words to include, and any words that we don't want to remove."
   ]
  },
  {
   "cell_type": "code",
   "execution_count": 6,
   "id": "67341395",
   "metadata": {},
   "outputs": [],
   "source": [
    "def remove_stopwords(text, extra_words=None, exclude_words=None):\n",
    "    stopword_list = stopwords.words('english')\n",
    "    \n",
    "    stopword_list.remove(exclude_words)\n",
    "    words = text.split()\n",
    "    filtered_words = [w for w in extra_words if w not in stopword_list]\n",
    "    \n",
    "    text = ' '.join(filtered_words)\n",
    "    return text\n",
    "    "
   ]
  },
  {
   "cell_type": "markdown",
   "id": "f8f148ce",
   "metadata": {},
   "source": [
    "## Use your data from the acquire to produce a dataframe of the news articles. Name the dataframe news_df.\n",
    "\n"
   ]
  },
  {
   "cell_type": "code",
   "execution_count": 7,
   "id": "2119cd5a",
   "metadata": {},
   "outputs": [],
   "source": [
    "news_df=ac.get_news_articles(['business','sports','technology','entertainment'])"
   ]
  },
  {
   "cell_type": "code",
   "execution_count": 8,
   "id": "b8eba9d2",
   "metadata": {},
   "outputs": [
    {
     "data": {
      "text/html": [
       "<div>\n",
       "<style scoped>\n",
       "    .dataframe tbody tr th:only-of-type {\n",
       "        vertical-align: middle;\n",
       "    }\n",
       "\n",
       "    .dataframe tbody tr th {\n",
       "        vertical-align: top;\n",
       "    }\n",
       "\n",
       "    .dataframe thead th {\n",
       "        text-align: right;\n",
       "    }\n",
       "</style>\n",
       "<table border=\"1\" class=\"dataframe\">\n",
       "  <thead>\n",
       "    <tr style=\"text-align: right;\">\n",
       "      <th></th>\n",
       "      <th>title</th>\n",
       "      <th>text</th>\n",
       "      <th>category</th>\n",
       "    </tr>\n",
       "  </thead>\n",
       "  <tbody>\n",
       "    <tr>\n",
       "      <th>0</th>\n",
       "      <td>All Adani stocks end higher for the first time...</td>\n",
       "      <td>All 10 Adani Group stocks closed higher on Wed...</td>\n",
       "      <td>business</td>\n",
       "    </tr>\n",
       "    <tr>\n",
       "      <th>1</th>\n",
       "      <td>Smriti Irani's 2011 tweet on LPG price hike re...</td>\n",
       "      <td>Hours after the central government raised the ...</td>\n",
       "      <td>business</td>\n",
       "    </tr>\n",
       "    <tr>\n",
       "      <th>2</th>\n",
       "      <td>Indian-Americans Renjen, Subramaniam to be mem...</td>\n",
       "      <td>Indian-Americans Punit Renjen and Rajesh Subra...</td>\n",
       "      <td>business</td>\n",
       "    </tr>\n",
       "    <tr>\n",
       "      <th>3</th>\n",
       "      <td>Adani secures $3 bn credit from a sovereign we...</td>\n",
       "      <td>Adani Group has reportedly told creditors it h...</td>\n",
       "      <td>business</td>\n",
       "    </tr>\n",
       "    <tr>\n",
       "      <th>4</th>\n",
       "      <td>We can score a century for progress: Gates on ...</td>\n",
       "      <td>Microsoft Co-founder Bill Gates shared a messa...</td>\n",
       "      <td>business</td>\n",
       "    </tr>\n",
       "    <tr>\n",
       "      <th>...</th>\n",
       "      <td>...</td>\n",
       "      <td>...</td>\n",
       "      <td>...</td>\n",
       "    </tr>\n",
       "    <tr>\n",
       "      <th>95</th>\n",
       "      <td>Nandita said she won't make Zwigato with a sta...</td>\n",
       "      <td>Comedian-actor Kapil Sharma said that when Nan...</td>\n",
       "      <td>entertainment</td>\n",
       "    </tr>\n",
       "    <tr>\n",
       "      <th>96</th>\n",
       "      <td>His wife Aaliya has tolerated a lot: Shamas on...</td>\n",
       "      <td>Actor Nawazuddin Siddiqui's brother Shamas Naw...</td>\n",
       "      <td>entertainment</td>\n",
       "    </tr>\n",
       "    <tr>\n",
       "      <th>97</th>\n",
       "      <td>We'd end up matching clothes without planning:...</td>\n",
       "      <td>Speaking about the similarities that she found...</td>\n",
       "      <td>entertainment</td>\n",
       "    </tr>\n",
       "    <tr>\n",
       "      <th>98</th>\n",
       "      <td>Kartik Aaryan announces 'Bhool Bhulaiyaa 3', t...</td>\n",
       "      <td>Actor Kartik Aaryan took to Instagram and anno...</td>\n",
       "      <td>entertainment</td>\n",
       "    </tr>\n",
       "    <tr>\n",
       "      <th>99</th>\n",
       "      <td>I won't pay the bill on a date, says Nora Fatehi</td>\n",
       "      <td>Kapil Sharma, in a recent episode of 'The Kapi...</td>\n",
       "      <td>entertainment</td>\n",
       "    </tr>\n",
       "  </tbody>\n",
       "</table>\n",
       "<p>100 rows × 3 columns</p>\n",
       "</div>"
      ],
      "text/plain": [
       "                                                title  \\\n",
       "0   All Adani stocks end higher for the first time...   \n",
       "1   Smriti Irani's 2011 tweet on LPG price hike re...   \n",
       "2   Indian-Americans Renjen, Subramaniam to be mem...   \n",
       "3   Adani secures $3 bn credit from a sovereign we...   \n",
       "4   We can score a century for progress: Gates on ...   \n",
       "..                                                ...   \n",
       "95  Nandita said she won't make Zwigato with a sta...   \n",
       "96  His wife Aaliya has tolerated a lot: Shamas on...   \n",
       "97  We'd end up matching clothes without planning:...   \n",
       "98  Kartik Aaryan announces 'Bhool Bhulaiyaa 3', t...   \n",
       "99   I won't pay the bill on a date, says Nora Fatehi   \n",
       "\n",
       "                                                 text       category  \n",
       "0   All 10 Adani Group stocks closed higher on Wed...       business  \n",
       "1   Hours after the central government raised the ...       business  \n",
       "2   Indian-Americans Punit Renjen and Rajesh Subra...       business  \n",
       "3   Adani Group has reportedly told creditors it h...       business  \n",
       "4   Microsoft Co-founder Bill Gates shared a messa...       business  \n",
       "..                                                ...            ...  \n",
       "95  Comedian-actor Kapil Sharma said that when Nan...  entertainment  \n",
       "96  Actor Nawazuddin Siddiqui's brother Shamas Naw...  entertainment  \n",
       "97  Speaking about the similarities that she found...  entertainment  \n",
       "98  Actor Kartik Aaryan took to Instagram and anno...  entertainment  \n",
       "99  Kapil Sharma, in a recent episode of 'The Kapi...  entertainment  \n",
       "\n",
       "[100 rows x 3 columns]"
      ]
     },
     "execution_count": 8,
     "metadata": {},
     "output_type": "execute_result"
    }
   ],
   "source": [
    "news_df=pd.DataFrame(news_df)\n",
    "news_df"
   ]
  },
  {
   "cell_type": "markdown",
   "id": "b839c19c",
   "metadata": {},
   "source": [
    "## Make another dataframe for the Codeup blog posts. Name the dataframe codeup_df.\n",
    "\n"
   ]
  },
  {
   "cell_type": "code",
   "execution_count": 9,
   "id": "9aaab437",
   "metadata": {},
   "outputs": [],
   "source": [
    "codeup_df=ac.get_blog_articles()\n",
    "codeup_df=pd.DataFrame(codeup_df)"
   ]
  },
  {
   "cell_type": "code",
   "execution_count": 10,
   "id": "d5e2307c",
   "metadata": {},
   "outputs": [
    {
     "data": {
      "text/html": [
       "<div>\n",
       "<style scoped>\n",
       "    .dataframe tbody tr th:only-of-type {\n",
       "        vertical-align: middle;\n",
       "    }\n",
       "\n",
       "    .dataframe tbody tr th {\n",
       "        vertical-align: top;\n",
       "    }\n",
       "\n",
       "    .dataframe thead th {\n",
       "        text-align: right;\n",
       "    }\n",
       "</style>\n",
       "<table border=\"1\" class=\"dataframe\">\n",
       "  <thead>\n",
       "    <tr style=\"text-align: right;\">\n",
       "      <th></th>\n",
       "      <th>title</th>\n",
       "      <th>date_published</th>\n",
       "      <th>content</th>\n",
       "    </tr>\n",
       "  </thead>\n",
       "  <tbody>\n",
       "    <tr>\n",
       "      <th>0</th>\n",
       "      <td>Coding Bootcamp or Self-Learning? Which is Bes...</td>\n",
       "      <td>Jan 20, 2023</td>\n",
       "      <td>\\nIf you’re interested in embarking on a caree...</td>\n",
       "    </tr>\n",
       "    <tr>\n",
       "      <th>1</th>\n",
       "      <td>Codeup Among Top 58 Best Coding Bootcamps of 2023</td>\n",
       "      <td>Jan 12, 2023</td>\n",
       "      <td>\\nCodeup is pleased to announce we have been r...</td>\n",
       "    </tr>\n",
       "    <tr>\n",
       "      <th>2</th>\n",
       "      <td>Black excellence in tech: Panelist Spotlight –...</td>\n",
       "      <td>Feb 6, 2023</td>\n",
       "      <td>\\nBlack excellence in tech: Panelist Spotlight...</td>\n",
       "    </tr>\n",
       "    <tr>\n",
       "      <th>3</th>\n",
       "      <td>Black excellence in tech: Panelist Spotlight –...</td>\n",
       "      <td>Feb 10, 2023</td>\n",
       "      <td>\\nBlack excellence in tech: Panelist Spotlight...</td>\n",
       "    </tr>\n",
       "    <tr>\n",
       "      <th>4</th>\n",
       "      <td>Black excellence in tech: Panelist Spotlight –...</td>\n",
       "      <td>Feb 13, 2023</td>\n",
       "      <td>\\nBlack excellence in tech: Panelist Spotlight...</td>\n",
       "    </tr>\n",
       "  </tbody>\n",
       "</table>\n",
       "</div>"
      ],
      "text/plain": [
       "                                               title date_published  \\\n",
       "0  Coding Bootcamp or Self-Learning? Which is Bes...   Jan 20, 2023   \n",
       "1  Codeup Among Top 58 Best Coding Bootcamps of 2023   Jan 12, 2023   \n",
       "2  Black excellence in tech: Panelist Spotlight –...    Feb 6, 2023   \n",
       "3  Black excellence in tech: Panelist Spotlight –...   Feb 10, 2023   \n",
       "4  Black excellence in tech: Panelist Spotlight –...   Feb 13, 2023   \n",
       "\n",
       "                                             content  \n",
       "0  \\nIf you’re interested in embarking on a caree...  \n",
       "1  \\nCodeup is pleased to announce we have been r...  \n",
       "2  \\nBlack excellence in tech: Panelist Spotlight...  \n",
       "3  \\nBlack excellence in tech: Panelist Spotlight...  \n",
       "4  \\nBlack excellence in tech: Panelist Spotlight...  "
      ]
     },
     "execution_count": 10,
     "metadata": {},
     "output_type": "execute_result"
    }
   ],
   "source": [
    "codeup_df"
   ]
  },
  {
   "cell_type": "markdown",
   "id": "7df81899",
   "metadata": {},
   "source": [
    "## For each dataframe, produce the following columns:\n",
    "\n",
    "* title to hold the title\n",
    "* original to hold the original article/post content\n",
    "* clean to hold the normalized and tokenized original with the stopwords removed.\n",
    "* stemmed to hold the stemmed version of the cleaned data.\n",
    "* lemmatized to hold the lemmatized version of the cleaned data."
   ]
  },
  {
   "cell_type": "markdown",
   "id": "d4057fe8",
   "metadata": {},
   "source": [
    "### news"
   ]
  },
  {
   "cell_type": "code",
   "execution_count": 11,
   "id": "b6a4b9a6",
   "metadata": {
    "scrolled": true
   },
   "outputs": [
    {
     "data": {
      "text/plain": [
       "0     All 10 Adani Group stocks closed higher on Wed...\n",
       "1     Hours after the central government raised the ...\n",
       "2     Indian-Americans Punit Renjen and Rajesh Subra...\n",
       "3     Adani Group has reportedly told creditors it h...\n",
       "4     Microsoft Co-founder Bill Gates shared a messa...\n",
       "                            ...                        \n",
       "95    Comedian-actor Kapil Sharma said that when Nan...\n",
       "96    Actor Nawazuddin Siddiqui's brother Shamas Naw...\n",
       "97    Speaking about the similarities that she found...\n",
       "98    Actor Kartik Aaryan took to Instagram and anno...\n",
       "99    Kapil Sharma, in a recent episode of 'The Kapi...\n",
       "Name: text, Length: 100, dtype: object"
      ]
     },
     "execution_count": 11,
     "metadata": {},
     "output_type": "execute_result"
    }
   ],
   "source": [
    "news_df['text']"
   ]
  },
  {
   "cell_type": "code",
   "execution_count": 15,
   "id": "6c6bca0c",
   "metadata": {},
   "outputs": [],
   "source": [
    "news_df['tokenized']=news_df['text'].apply(basic_clean)"
   ]
  },
  {
   "cell_type": "code",
   "execution_count": 16,
   "id": "4ae50d33",
   "metadata": {},
   "outputs": [
    {
     "data": {
      "text/plain": [
       "0     all 10 adani group stocks closed higher on wed...\n",
       "1     hours after the central government raised the ...\n",
       "2     indianamericans punit renjen and rajesh subram...\n",
       "3     adani group has reportedly told creditors it h...\n",
       "4     microsoft cofounder bill gates shared a messag...\n",
       "                            ...                        \n",
       "95    comedianactor kapil sharma said that when nand...\n",
       "96    actor nawazuddin siddiqui's brother shamas naw...\n",
       "97    speaking about the similarities that she found...\n",
       "98    actor kartik aaryan took to instagram and anno...\n",
       "99    kapil sharma in a recent episode of 'the kapil...\n",
       "Name: tokenized, Length: 100, dtype: object"
      ]
     },
     "execution_count": 16,
     "metadata": {},
     "output_type": "execute_result"
    }
   ],
   "source": [
    "news_df['tokenized']"
   ]
  },
  {
   "cell_type": "code",
   "execution_count": 17,
   "id": "43204265",
   "metadata": {},
   "outputs": [],
   "source": [
    "news_df['tokenized']=news_df['tokenized'].apply(tokenize)"
   ]
  },
  {
   "cell_type": "code",
   "execution_count": 18,
   "id": "09a247b2",
   "metadata": {},
   "outputs": [
    {
     "data": {
      "text/plain": [
       "0     all 10 adani group stocks closed higher on wed...\n",
       "1     hours after the central government raised the ...\n",
       "2     indianamericans punit renjen and rajesh subram...\n",
       "3     adani group has reportedly told creditors it h...\n",
       "4     microsoft cofounder bill gates shared a messag...\n",
       "                            ...                        \n",
       "95    comedianactor kapil sharma said that when nand...\n",
       "96    actor nawazuddin siddiqui ' s brother shamas n...\n",
       "97    speaking about the similarities that she found...\n",
       "98    actor kartik aaryan took to instagram and anno...\n",
       "99    kapil sharma in a recent episode of ' the kapi...\n",
       "Name: tokenized, Length: 100, dtype: object"
      ]
     },
     "execution_count": 18,
     "metadata": {},
     "output_type": "execute_result"
    }
   ],
   "source": [
    "news_df['tokenized']"
   ]
  },
  {
   "cell_type": "code",
   "execution_count": 21,
   "id": "d7f4f6cc",
   "metadata": {},
   "outputs": [],
   "source": [
    "news_df['stemmed']=news_df['tokenized'].apply(stem)"
   ]
  },
  {
   "cell_type": "code",
   "execution_count": 22,
   "id": "6532623b",
   "metadata": {},
   "outputs": [
    {
     "data": {
      "text/plain": [
       "0     all 10 adani group stock close higher on wedne...\n",
       "1     hour after the central govern rais the price o...\n",
       "2     indianamerican punit renjen and rajesh subrama...\n",
       "3     adani group ha reportedli told creditor it ha ...\n",
       "4     microsoft cofound bill gate share a messag on ...\n",
       "                            ...                        \n",
       "95    comedianactor kapil sharma said that when nand...\n",
       "96    actor nawazuddin siddiqui ' s brother shama na...\n",
       "97    speak about the similar that she found with he...\n",
       "98    actor kartik aaryan took to instagram and anno...\n",
       "99    kapil sharma in a recent episod of ' the kapil...\n",
       "Name: stemmed, Length: 100, dtype: object"
      ]
     },
     "execution_count": 22,
     "metadata": {},
     "output_type": "execute_result"
    }
   ],
   "source": [
    "news_df['stemmed']"
   ]
  },
  {
   "cell_type": "code",
   "execution_count": 27,
   "id": "41dc3936",
   "metadata": {
    "scrolled": false
   },
   "outputs": [],
   "source": [
    "news_df['lemmatized']=news_df['tokenized'].apply(lemmatize)"
   ]
  },
  {
   "cell_type": "code",
   "execution_count": 28,
   "id": "afb073c5",
   "metadata": {},
   "outputs": [
    {
     "data": {
      "text/plain": [
       "0     all 10 adani group stock closed higher on wedn...\n",
       "1     hour after the central government raised the p...\n",
       "2     indianamericans punit renjen and rajesh subram...\n",
       "3     adani group ha reportedly told creditor it ha ...\n",
       "4     microsoft cofounder bill gate shared a message...\n",
       "                            ...                        \n",
       "95    comedianactor kapil sharma said that when nand...\n",
       "96    actor nawazuddin siddiqui ' s brother shamas n...\n",
       "97    speaking about the similarity that she found w...\n",
       "98    actor kartik aaryan took to instagram and anno...\n",
       "99    kapil sharma in a recent episode of ' the kapi...\n",
       "Name: lemmatized, Length: 100, dtype: object"
      ]
     },
     "execution_count": 28,
     "metadata": {},
     "output_type": "execute_result"
    }
   ],
   "source": [
    "news_df['lemmatized']"
   ]
  },
  {
   "cell_type": "code",
   "execution_count": 29,
   "id": "ce844af4",
   "metadata": {},
   "outputs": [
    {
     "data": {
      "text/html": [
       "<div>\n",
       "<style scoped>\n",
       "    .dataframe tbody tr th:only-of-type {\n",
       "        vertical-align: middle;\n",
       "    }\n",
       "\n",
       "    .dataframe tbody tr th {\n",
       "        vertical-align: top;\n",
       "    }\n",
       "\n",
       "    .dataframe thead th {\n",
       "        text-align: right;\n",
       "    }\n",
       "</style>\n",
       "<table border=\"1\" class=\"dataframe\">\n",
       "  <thead>\n",
       "    <tr style=\"text-align: right;\">\n",
       "      <th></th>\n",
       "      <th>title</th>\n",
       "      <th>text</th>\n",
       "      <th>category</th>\n",
       "      <th>tokenized</th>\n",
       "      <th>stemmed</th>\n",
       "      <th>lemmatized</th>\n",
       "    </tr>\n",
       "  </thead>\n",
       "  <tbody>\n",
       "    <tr>\n",
       "      <th>0</th>\n",
       "      <td>All Adani stocks end higher for the first time...</td>\n",
       "      <td>All 10 Adani Group stocks closed higher on Wed...</td>\n",
       "      <td>business</td>\n",
       "      <td>all 10 adani group stocks closed higher on wed...</td>\n",
       "      <td>all 10 adani group stock close higher on wedne...</td>\n",
       "      <td>all 10 adani group stock closed higher on wedn...</td>\n",
       "    </tr>\n",
       "    <tr>\n",
       "      <th>1</th>\n",
       "      <td>Smriti Irani's 2011 tweet on LPG price hike re...</td>\n",
       "      <td>Hours after the central government raised the ...</td>\n",
       "      <td>business</td>\n",
       "      <td>hours after the central government raised the ...</td>\n",
       "      <td>hour after the central govern rais the price o...</td>\n",
       "      <td>hour after the central government raised the p...</td>\n",
       "    </tr>\n",
       "    <tr>\n",
       "      <th>2</th>\n",
       "      <td>Indian-Americans Renjen, Subramaniam to be mem...</td>\n",
       "      <td>Indian-Americans Punit Renjen and Rajesh Subra...</td>\n",
       "      <td>business</td>\n",
       "      <td>indianamericans punit renjen and rajesh subram...</td>\n",
       "      <td>indianamerican punit renjen and rajesh subrama...</td>\n",
       "      <td>indianamericans punit renjen and rajesh subram...</td>\n",
       "    </tr>\n",
       "    <tr>\n",
       "      <th>3</th>\n",
       "      <td>Adani secures $3 bn credit from a sovereign we...</td>\n",
       "      <td>Adani Group has reportedly told creditors it h...</td>\n",
       "      <td>business</td>\n",
       "      <td>adani group has reportedly told creditors it h...</td>\n",
       "      <td>adani group ha reportedli told creditor it ha ...</td>\n",
       "      <td>adani group ha reportedly told creditor it ha ...</td>\n",
       "    </tr>\n",
       "    <tr>\n",
       "      <th>4</th>\n",
       "      <td>We can score a century for progress: Gates on ...</td>\n",
       "      <td>Microsoft Co-founder Bill Gates shared a messa...</td>\n",
       "      <td>business</td>\n",
       "      <td>microsoft cofounder bill gates shared a messag...</td>\n",
       "      <td>microsoft cofound bill gate share a messag on ...</td>\n",
       "      <td>microsoft cofounder bill gate shared a message...</td>\n",
       "    </tr>\n",
       "  </tbody>\n",
       "</table>\n",
       "</div>"
      ],
      "text/plain": [
       "                                               title  \\\n",
       "0  All Adani stocks end higher for the first time...   \n",
       "1  Smriti Irani's 2011 tweet on LPG price hike re...   \n",
       "2  Indian-Americans Renjen, Subramaniam to be mem...   \n",
       "3  Adani secures $3 bn credit from a sovereign we...   \n",
       "4  We can score a century for progress: Gates on ...   \n",
       "\n",
       "                                                text  category  \\\n",
       "0  All 10 Adani Group stocks closed higher on Wed...  business   \n",
       "1  Hours after the central government raised the ...  business   \n",
       "2  Indian-Americans Punit Renjen and Rajesh Subra...  business   \n",
       "3  Adani Group has reportedly told creditors it h...  business   \n",
       "4  Microsoft Co-founder Bill Gates shared a messa...  business   \n",
       "\n",
       "                                           tokenized  \\\n",
       "0  all 10 adani group stocks closed higher on wed...   \n",
       "1  hours after the central government raised the ...   \n",
       "2  indianamericans punit renjen and rajesh subram...   \n",
       "3  adani group has reportedly told creditors it h...   \n",
       "4  microsoft cofounder bill gates shared a messag...   \n",
       "\n",
       "                                             stemmed  \\\n",
       "0  all 10 adani group stock close higher on wedne...   \n",
       "1  hour after the central govern rais the price o...   \n",
       "2  indianamerican punit renjen and rajesh subrama...   \n",
       "3  adani group ha reportedli told creditor it ha ...   \n",
       "4  microsoft cofound bill gate share a messag on ...   \n",
       "\n",
       "                                          lemmatized  \n",
       "0  all 10 adani group stock closed higher on wedn...  \n",
       "1  hour after the central government raised the p...  \n",
       "2  indianamericans punit renjen and rajesh subram...  \n",
       "3  adani group ha reportedly told creditor it ha ...  \n",
       "4  microsoft cofounder bill gate shared a message...  "
      ]
     },
     "execution_count": 29,
     "metadata": {},
     "output_type": "execute_result"
    }
   ],
   "source": [
    "news_df.head()"
   ]
  },
  {
   "cell_type": "markdown",
   "id": "9a5c83e1",
   "metadata": {},
   "source": [
    "### codeup_df"
   ]
  },
  {
   "cell_type": "code",
   "execution_count": 30,
   "id": "894e7c43",
   "metadata": {},
   "outputs": [],
   "source": [
    "codeup_df['tokenized']=codeup_df['content'].apply(basic_clean)"
   ]
  },
  {
   "cell_type": "code",
   "execution_count": 31,
   "id": "e0bdf784",
   "metadata": {},
   "outputs": [],
   "source": [
    "codeup_df['tokenized']=codeup_df['content'].apply(tokenize)"
   ]
  },
  {
   "cell_type": "code",
   "execution_count": 32,
   "id": "a58e1afa",
   "metadata": {},
   "outputs": [],
   "source": [
    "codeup_df['stemmed']=codeup_df['content'].apply(stem)"
   ]
  },
  {
   "cell_type": "code",
   "execution_count": 33,
   "id": "70c27dc5",
   "metadata": {},
   "outputs": [],
   "source": [
    "codeup_df['lemmatized']=codeup_df['content'].apply(lemmatize)"
   ]
  },
  {
   "cell_type": "code",
   "execution_count": 34,
   "id": "705d0053",
   "metadata": {},
   "outputs": [
    {
     "data": {
      "text/html": [
       "<div>\n",
       "<style scoped>\n",
       "    .dataframe tbody tr th:only-of-type {\n",
       "        vertical-align: middle;\n",
       "    }\n",
       "\n",
       "    .dataframe tbody tr th {\n",
       "        vertical-align: top;\n",
       "    }\n",
       "\n",
       "    .dataframe thead th {\n",
       "        text-align: right;\n",
       "    }\n",
       "</style>\n",
       "<table border=\"1\" class=\"dataframe\">\n",
       "  <thead>\n",
       "    <tr style=\"text-align: right;\">\n",
       "      <th></th>\n",
       "      <th>title</th>\n",
       "      <th>date_published</th>\n",
       "      <th>content</th>\n",
       "      <th>tokenized</th>\n",
       "      <th>stemmed</th>\n",
       "      <th>lemmatized</th>\n",
       "    </tr>\n",
       "  </thead>\n",
       "  <tbody>\n",
       "    <tr>\n",
       "      <th>0</th>\n",
       "      <td>Coding Bootcamp or Self-Learning? Which is Bes...</td>\n",
       "      <td>Jan 20, 2023</td>\n",
       "      <td>\\nIf you’re interested in embarking on a caree...</td>\n",
       "      <td>If you ’ re interested in embarking on a caree...</td>\n",
       "      <td>if you’r interest in embark on a career in tec...</td>\n",
       "      <td>If you’re interested in embarking on a career ...</td>\n",
       "    </tr>\n",
       "    <tr>\n",
       "      <th>1</th>\n",
       "      <td>Codeup Among Top 58 Best Coding Bootcamps of 2023</td>\n",
       "      <td>Jan 12, 2023</td>\n",
       "      <td>\\nCodeup is pleased to announce we have been r...</td>\n",
       "      <td>Codeup is pleased to announce we have been ran...</td>\n",
       "      <td>codeup is pleas to announc we have been rank a...</td>\n",
       "      <td>Codeup is pleased to announce we have been ran...</td>\n",
       "    </tr>\n",
       "    <tr>\n",
       "      <th>2</th>\n",
       "      <td>Black excellence in tech: Panelist Spotlight –...</td>\n",
       "      <td>Feb 6, 2023</td>\n",
       "      <td>\\nBlack excellence in tech: Panelist Spotlight...</td>\n",
       "      <td>Black excellence in tech : Panelist Spotlight ...</td>\n",
       "      <td>black excel in tech: panelist spotlight – jean...</td>\n",
       "      <td>Black excellence in tech: Panelist Spotlight –...</td>\n",
       "    </tr>\n",
       "    <tr>\n",
       "      <th>3</th>\n",
       "      <td>Black excellence in tech: Panelist Spotlight –...</td>\n",
       "      <td>Feb 10, 2023</td>\n",
       "      <td>\\nBlack excellence in tech: Panelist Spotlight...</td>\n",
       "      <td>Black excellence in tech : Panelist Spotlight ...</td>\n",
       "      <td>black excel in tech: panelist spotlight – jame...</td>\n",
       "      <td>Black excellence in tech: Panelist Spotlight –...</td>\n",
       "    </tr>\n",
       "    <tr>\n",
       "      <th>4</th>\n",
       "      <td>Black excellence in tech: Panelist Spotlight –...</td>\n",
       "      <td>Feb 13, 2023</td>\n",
       "      <td>\\nBlack excellence in tech: Panelist Spotlight...</td>\n",
       "      <td>Black excellence in tech : Panelist Spotlight ...</td>\n",
       "      <td>black excel in tech: panelist spotlight – step...</td>\n",
       "      <td>Black excellence in tech: Panelist Spotlight –...</td>\n",
       "    </tr>\n",
       "  </tbody>\n",
       "</table>\n",
       "</div>"
      ],
      "text/plain": [
       "                                               title date_published  \\\n",
       "0  Coding Bootcamp or Self-Learning? Which is Bes...   Jan 20, 2023   \n",
       "1  Codeup Among Top 58 Best Coding Bootcamps of 2023   Jan 12, 2023   \n",
       "2  Black excellence in tech: Panelist Spotlight –...    Feb 6, 2023   \n",
       "3  Black excellence in tech: Panelist Spotlight –...   Feb 10, 2023   \n",
       "4  Black excellence in tech: Panelist Spotlight –...   Feb 13, 2023   \n",
       "\n",
       "                                             content  \\\n",
       "0  \\nIf you’re interested in embarking on a caree...   \n",
       "1  \\nCodeup is pleased to announce we have been r...   \n",
       "2  \\nBlack excellence in tech: Panelist Spotlight...   \n",
       "3  \\nBlack excellence in tech: Panelist Spotlight...   \n",
       "4  \\nBlack excellence in tech: Panelist Spotlight...   \n",
       "\n",
       "                                           tokenized  \\\n",
       "0  If you ’ re interested in embarking on a caree...   \n",
       "1  Codeup is pleased to announce we have been ran...   \n",
       "2  Black excellence in tech : Panelist Spotlight ...   \n",
       "3  Black excellence in tech : Panelist Spotlight ...   \n",
       "4  Black excellence in tech : Panelist Spotlight ...   \n",
       "\n",
       "                                             stemmed  \\\n",
       "0  if you’r interest in embark on a career in tec...   \n",
       "1  codeup is pleas to announc we have been rank a...   \n",
       "2  black excel in tech: panelist spotlight – jean...   \n",
       "3  black excel in tech: panelist spotlight – jame...   \n",
       "4  black excel in tech: panelist spotlight – step...   \n",
       "\n",
       "                                          lemmatized  \n",
       "0  If you’re interested in embarking on a career ...  \n",
       "1  Codeup is pleased to announce we have been ran...  \n",
       "2  Black excellence in tech: Panelist Spotlight –...  \n",
       "3  Black excellence in tech: Panelist Spotlight –...  \n",
       "4  Black excellence in tech: Panelist Spotlight –...  "
      ]
     },
     "execution_count": 34,
     "metadata": {},
     "output_type": "execute_result"
    }
   ],
   "source": [
    "codeup_df.head()"
   ]
  },
  {
   "cell_type": "markdown",
   "id": "9c92608e",
   "metadata": {},
   "source": [
    "## Ask yourself:\n",
    "\n",
    "* If your corpus is 493KB, would you prefer to use stemmed or lemmatized text?\n",
    "    * lemmatized\n",
    "* If your corpus is 25MB, would you prefer to use stemmed or lemmatized text?\n",
    "    * either one would be ok\n",
    "* If your corpus is 200TB of text and you're charged by the megabyte for your hosted computational resources, would you prefer to use stemmed or lemmatized text?\n",
    "    * stemmed data"
   ]
  },
  {
   "cell_type": "code",
   "execution_count": null,
   "id": "5afe1628",
   "metadata": {},
   "outputs": [],
   "source": []
  }
 ],
 "metadata": {
  "kernelspec": {
   "display_name": "Python 3 (ipykernel)",
   "language": "python",
   "name": "python3"
  },
  "language_info": {
   "codemirror_mode": {
    "name": "ipython",
    "version": 3
   },
   "file_extension": ".py",
   "mimetype": "text/x-python",
   "name": "python",
   "nbconvert_exporter": "python",
   "pygments_lexer": "ipython3",
   "version": "3.9.13"
  }
 },
 "nbformat": 4,
 "nbformat_minor": 5
}
