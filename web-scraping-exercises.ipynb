{
 "cells": [
  {
   "cell_type": "code",
   "execution_count": 10,
   "id": "744b6b65",
   "metadata": {},
   "outputs": [],
   "source": [
    "from requests import get\n",
    "from bs4 import BeautifulSoup\n",
    "import os\n",
    "import json\n"
   ]
  },
  {
   "cell_type": "markdown",
   "id": "a6b94b24",
   "metadata": {},
   "source": [
    "https://codeup.com/tips-for-prospective-students/coding-bootcamp-or-self-learning/\n",
    "https://codeup.com/codeup-news/codeup-best-bootcamps/\n",
    "https://codeup.com/events/black-excellence-in-tech-panelist-spotlight/\n",
    "https://codeup.com/events/black-excellence-in-tech-panelist-spotlight-james-cooper/\n",
    "https://codeup.com/events/black-excellence-in-tech-panelist-spotlight-stephanie-jones/"
   ]
  },
  {
   "cell_type": "code",
   "execution_count": 2,
   "id": "008c43db",
   "metadata": {},
   "outputs": [],
   "source": [
    "url = 'https://codeup.com/tips-for-prospective-students/coding-bootcamp-or-self-learning/'\n",
    "headers = {'User-Agent': 'Codeup Data Science'}\n",
    "response = get(url, headers=headers)"
   ]
  },
  {
   "cell_type": "code",
   "execution_count": 3,
   "id": "143fe79d",
   "metadata": {},
   "outputs": [
    {
     "data": {
      "text/plain": [
       "<Response [200]>"
      ]
     },
     "execution_count": 3,
     "metadata": {},
     "output_type": "execute_result"
    }
   ],
   "source": [
    "response"
   ]
  },
  {
   "cell_type": "code",
   "execution_count": 5,
   "id": "70f686d6",
   "metadata": {},
   "outputs": [],
   "source": [
    "# Make a soup variable holding the response content\n",
    "soup = BeautifulSoup(response.content, 'html.parser')"
   ]
  },
  {
   "cell_type": "code",
   "execution_count": 10,
   "id": "8e4b238e",
   "metadata": {
    "scrolled": true
   },
   "outputs": [
    {
     "data": {
      "text/plain": [
       "[<h1 class=\"entry-title\">Coding Bootcamp or Self-Learning? Which is Best for You?</h1>]"
      ]
     },
     "execution_count": 10,
     "metadata": {},
     "output_type": "execute_result"
    }
   ],
   "source": [
    "soup.find_all('h1')"
   ]
  },
  {
   "cell_type": "code",
   "execution_count": 11,
   "id": "445110de",
   "metadata": {},
   "outputs": [
    {
     "data": {
      "text/plain": [
       "[<h1 class=\"entry-title\">Coding Bootcamp or Self-Learning? Which is Best for You?</h1>]"
      ]
     },
     "execution_count": 11,
     "metadata": {},
     "output_type": "execute_result"
    }
   ],
   "source": [
    "soup.select('h1')"
   ]
  },
  {
   "cell_type": "code",
   "execution_count": 13,
   "id": "51cc0111",
   "metadata": {},
   "outputs": [
    {
     "data": {
      "text/plain": [
       "<h1 class=\"entry-title\">Coding Bootcamp or Self-Learning? Which is Best for You?</h1>"
      ]
     },
     "execution_count": 13,
     "metadata": {},
     "output_type": "execute_result"
    }
   ],
   "source": [
    "soup.find('h1')"
   ]
  },
  {
   "cell_type": "code",
   "execution_count": 53,
   "id": "9cae0606",
   "metadata": {},
   "outputs": [
    {
     "data": {
      "text/plain": [
       "'Jan 20, 2023 | Tips for Prospective Students'"
      ]
     },
     "execution_count": 53,
     "metadata": {},
     "output_type": "execute_result"
    }
   ],
   "source": [
    "soup.find('p').getText()"
   ]
  },
  {
   "cell_type": "code",
   "execution_count": 45,
   "id": "42461bc6",
   "metadata": {},
   "outputs": [
    {
     "data": {
      "text/plain": [
       "[<p class=\"post-meta\"><span class=\"published\">Jan 20, 2023</span> | <a href=\"https://codeup.com/category/tips-for-prospective-students/\" rel=\"category tag\">Tips for Prospective Students</a></p>,\n",
       " <p>If you’re interested in embarking on a career in tech, it is likely that you have taken a look into two learning paths: self-learning vs. coding bootcamps. But what are the differences?</p>,\n",
       " <p>Many online institutions offer self-learning courses. This is becoming increasingly popular as students are becoming more aware of their individual learning styles, and value flexibility and self-paced programs.</p>,\n",
       " <p>Coding bootcamps have a reputation for being the accelerated path to launching a career in tech. This tends to work best for students that thrive off of structured learning, with a support team to assist throughout the process.</p>,\n",
       " <p>Both options have their advantages and disadvantages, but selecting which path is the correct choice for you should be based on your learning style and life circumstances.</p>,\n",
       " <p>Codeup is the first, and currently the only accredited* coding bootcamp in Texas. Our program offerings range from 15 to 20 weeks and include: Full-Stack Web Development, Data Science and Cloud Administration. These programs are open to individuals of all backgrounds and experience levels.</p>,\n",
       " <p>When you decide to transition careers with Codeup, our commitment to you goes beyond class-time. You will have direct access to a support system including:</p>,\n",
       " <p>We also offer a <a href=\"https://codeup.com/refund/\">tuition refund guarantee</a>! We will refund your paid tuition back to you if you do not find a job in-field within six months of completing a Codeup program.</p>,\n",
       " <p>If this sounds like a good fit for you, use any of the following options to launch your career in tech!</p>,\n",
       " <p><strong>*Codeup is accredited for postsecondary, non-degree granting, career and technology programs by the Middle States Commission on Secondary Schools of the Middle States Association of Colleges and Schools, 3624 Market Street, Philadelphia, PA 19104, (267) 284-5000</strong></p>,\n",
       " <p></p>,\n",
       " <p></p>,\n",
       " <p></p>,\n",
       " <p>Submit your email address to gain access to more information about our programs, financial aid, and benefits. We may even send you some free swag!</p>,\n",
       " <p><a href=\"tel:12108027289\" title=\"call Codeup\">(210) 802–7289</a></p>,\n",
       " <p><a href=\"/dallas\">Dallas</a> | <a href=\"/san-antonio\">San Antonio</a> </p>,\n",
       " <p><a href=\"/why-codeup/\" title=\"About Codeup\">Why Codeup?</a><br/> <a href=\"/financial-aid/\" title=\"how to pay for bootcamp\">Financial Aid Options</a><br/> <a href=\"/my-story/\" title=\"Codeup Reviews\">Student Reviews</a><br/> <a href=\"/hire-tech-talent/\">Employers</a><br/> <a href=\"/refund/\" title=\"Codeup Refund Policy\">Refund Policy</a><br/><a href=\"/frequently-asked-questions/\" title=\"frequently asked questions\">FAQs</a><br/><a href=\"/careers/\" title=\"Jobs at Codeup\">Careers</a><br/><a href=\"/pr/\" title=\"press assets for Codeup\">Media Kit</a></p>,\n",
       " <p>© 2013-2022 Copyright. <a href=\"/privacy/\">Privacy Policy</a> | <a href=\"/student-complaint-policy/\" title=\"complaint policy\">Complaint Policy</a> | <a href=\"/codeup-news/inclusion-at-codeup-during-pride-month-and-always/\" title=\"DEI at Codeup\">Inclusion</a> | <a href=\"/accessibility/\">Accessibility</a> | <a href=\"/sitemap_index.xml\">Sitemap</a></p>,\n",
       " <p><span style=\"font-size: x-small;\">If you love researching data and reading the fine print, you’ll do well in our programs.</span></p>]"
      ]
     },
     "execution_count": 45,
     "metadata": {},
     "output_type": "execute_result"
    }
   ],
   "source": [
    "soup.select('p')"
   ]
  },
  {
   "cell_type": "code",
   "execution_count": 18,
   "id": "eb4309c5",
   "metadata": {},
   "outputs": [
    {
     "data": {
      "text/plain": [
       "'\\n\\n\\n\\n\\n\\nCoding Bootcamp or Self-Learning? Which is Best for You?\\nJan 20, 2023 | Tips for Prospective Students\\n\\n\\nIf you’re interested in embarking on a career in tech, it is likely that you have taken a look into two learning paths: self-learning vs. coding bootcamps. But what are the differences?\\nSelf-Learning\\nMany online institutions offer self-learning courses. This is becoming increasingly popular as students are becoming more aware of their individual learning styles, and value flexibility and self-paced programs.\\nAdvantages of Self-Learning\\n\\nYou can form your instruction at times that best suit your needs and lifestyle\\nYou can purse your new path from the comfort of your home if you choose!\\nThere are many self-learning courses that offer flexible payment options\\n\\nDisadvantages of Self-Learning\\n\\nWorking alone can sometimes lead to a lack of motivation, requiring a great deal of strictness to remain on track\\nThere are no peers or instructors physically present to study with or ask questions\\n\\nTraditional Coding Bootcamp\\nCoding bootcamps have a reputation for being the accelerated path to launching a career in tech. This tends to work best for students that thrive off of structured learning, with a support team to assist throughout the process.\\nAdvantages of Coding Bootcamps\\n\\nBootcamps are typically instructor-led meaning you have access to industry experts throughout your program to help you fully understand the material\\nYou and your peers will more than likely need to complete a project together before the end of your course. This will aid in forming connections with the next group of individuals to enter the tech industry (which is great for networking!)\\nTo employers, completing a program through a coding bootcamp looks phenomenal! This demonstrates your ability to commit to something complex and learn quickly.\\n\\nDisadvantages of Coding Bootcamps\\n\\nEvery piece of information covered in a coding bootcamp’s curriculum may not be imperative to your new role. A top goal of a bootcamp is to lay a good foundation for many possible careers. This means that if the curriculum covers pieces you may already know, or that do not exactly pertain to you, you will still need to be actively involved in the lessons.\\nIf you are someone who prefers to spend a lot of time absorbing information, you may not be given the opportunity to do so, given that a bootcamp has a structured curriculum with time frames for each topic.\\n\\nBoth options have their advantages and disadvantages, but selecting which path is the correct choice for you should be based on your learning style and life circumstances.\\nCodeup\\nCodeup is the first, and currently the only accredited* coding bootcamp in Texas. Our program offerings range from 15 to 20 weeks and include: Full-Stack Web Development, Data Science and Cloud Administration. These programs are open to individuals of all backgrounds and experience levels.\\nWhen you decide to transition careers with Codeup, our commitment to you goes beyond class-time. You will have direct access to a support system including:\\n\\nAdmissions and financial aid managers\\nA student experience team\\nInstructors who are subject matter experts\\nA placement team looking to help you secure a job in-field once you graduate\\n\\nWe also offer a tuition refund guarantee! We will refund your paid tuition back to you if you do not find a job in-field within six months of completing a Codeup program.\\nIf this sounds like a good fit for you, use any of the following options to launch your career in tech!\\n\\nAttend a 100% free instructor-led workshop to try your hand at coding!\\nRequest more information on one or all of our programs\\nGet started now by filling out a quick form\\nSchedule time with an admissions manager to talk through the process\\n\\n*Codeup is accredited for postsecondary, non-degree granting, career and technology programs by the Middle States Commission on Secondary Schools of the Middle States Association of Colleges and Schools, 3624 Market Street, Philadelphia, PA 19104, (267) 284-5000\\n\\n\\n\\n\\n\\n\\n\\n\\nOur ProgramsCloud Administration\\nFull Stack Web Development\\nData Science\\n\\n\\n\\n\\n\\nLatest Blog Articles\\nBlack Excellence in Tech: Panelist Spotlight – Wilmarie De La Cruz Mejia\\nBlack excellence in tech: Panelist Spotlight – Stephanie Jones\\nBlack excellence in tech: Panelist Spotlight – James Cooper\\nBlack excellence in tech: Panelist Spotlight – Jeanice Freeman\\nCoding Bootcamp or Self-Learning? Which is Best for You?\\n\\n\\n\\n\\n\\n\\n\\n\\n\\n\\n\\n\\n\\n\\n\\n\\n\\n \\n\\n\\n'"
      ]
     },
     "execution_count": 18,
     "metadata": {},
     "output_type": "execute_result"
    }
   ],
   "source": [
    "post1 = soup.find('div', id='main-content')\n",
    "post1.text"
   ]
  },
  {
   "cell_type": "code",
   "execution_count": 87,
   "id": "a8cae8ea",
   "metadata": {},
   "outputs": [],
   "source": [
    "with open('post1.txt') as f:\n",
    "    test=f.read()"
   ]
  },
  {
   "cell_type": "code",
   "execution_count": 85,
   "id": "6179729a",
   "metadata": {},
   "outputs": [],
   "source": [
    "with open('post1.txt', 'w') as f:\n",
    "    f.write(post1.text)"
   ]
  },
  {
   "cell_type": "code",
   "execution_count": 88,
   "id": "ed72d3cd",
   "metadata": {},
   "outputs": [
    {
     "data": {
      "text/plain": [
       "<div id=\"main-content\">\n",
       "<div class=\"container\">\n",
       "<div class=\"clearfix\" id=\"content-area\">\n",
       "<div id=\"left-area\">\n",
       "<article class=\"et_pb_post post-19562 post type-post status-publish format-standard has-post-thumbnail hentry category-tips-for-prospective-students\" id=\"post-19562\">\n",
       "<div class=\"et_post_meta_wrapper\">\n",
       "<h1 class=\"entry-title\">Coding Bootcamp or Self-Learning? Which is Best for You?</h1>\n",
       "<p class=\"post-meta\"><span class=\"published\">Jan 20, 2023</span> | <a href=\"https://codeup.com/category/tips-for-prospective-students/\" rel=\"category tag\">Tips for Prospective Students</a></p><img alt=\"blog featured image\" class=\"\" height=\"675\" sizes=\"(min-width: 0px) and (max-width: 480px) 480px, (min-width: 481px) and (max-width: 980px) 980px, (min-width: 981px) 1080px, 100vw\" src=\"https://tribucodeup.wpenginepowered.com/wp-content/uploads/2023/01/Copy-of-Blog-BannerFeatured-Image-7-1080x675.png\" srcset=\"https://tribucodeup.wpenginepowered.com/wp-content/uploads/2023/01/Copy-of-Blog-BannerFeatured-Image-7-980x551.png 980w, https://tribucodeup.wpenginepowered.com/wp-content/uploads/2023/01/Copy-of-Blog-BannerFeatured-Image-7-480x270.png 480w\" width=\"1080\"/>\n",
       "</div>\n",
       "<div class=\"entry-content\">\n",
       "<p>If you’re interested in embarking on a career in tech, it is likely that you have taken a look into two learning paths: self-learning vs. coding bootcamps. But what are the differences?</p>\n",
       "<h2>Self-Learning</h2>\n",
       "<p>Many online institutions offer self-learning courses. This is becoming increasingly popular as students are becoming more aware of their individual learning styles, and value flexibility and self-paced programs.</p>\n",
       "<h2>Advantages of Self-Learning</h2>\n",
       "<ul>\n",
       "<li>You can form your instruction at times that best suit your needs and lifestyle</li>\n",
       "<li>You can purse your new path from the comfort of your home if you choose!</li>\n",
       "<li>There are many self-learning courses that offer flexible payment options</li>\n",
       "</ul>\n",
       "<h2>Disadvantages of Self-Learning</h2>\n",
       "<ul>\n",
       "<li>Working alone can sometimes lead to a lack of motivation, requiring a great deal of strictness to remain on track</li>\n",
       "<li>There are no peers or instructors physically present to study with or ask questions</li>\n",
       "</ul>\n",
       "<h2>Traditional Coding Bootcamp</h2>\n",
       "<p>Coding bootcamps have a reputation for being the accelerated path to launching a career in tech. This tends to work best for students that thrive off of structured learning, with a support team to assist throughout the process.</p>\n",
       "<h2>Advantages of Coding Bootcamps</h2>\n",
       "<ul>\n",
       "<li>Bootcamps are typically instructor-led meaning you have access to industry experts throughout your program to help you fully understand the material</li>\n",
       "<li>You and your peers will more than likely need to complete a project together before the end of your course. This will aid in forming connections with the next group of individuals to enter the tech industry (which is great for networking!)</li>\n",
       "<li>To employers, completing a program through a coding bootcamp looks phenomenal! This demonstrates your ability to commit to something complex and learn quickly.</li>\n",
       "</ul>\n",
       "<h2>Disadvantages of Coding Bootcamps</h2>\n",
       "<ul>\n",
       "<li>Every piece of information covered in a coding bootcamp’s curriculum may not be imperative to your new role. A top goal of a bootcamp is to lay a good foundation for many possible careers. This means that if the curriculum covers pieces you may already know, or that do not exactly pertain to you, you will still need to be actively involved in the lessons.</li>\n",
       "<li>If you are someone who prefers to spend a lot of time absorbing information, you may not be given the opportunity to do so, given that a bootcamp has a structured curriculum with time frames for each topic.</li>\n",
       "</ul>\n",
       "<p>Both options have their advantages and disadvantages, but selecting which path is the correct choice for you should be based on your learning style and life circumstances.</p>\n",
       "<h2>Codeup</h2>\n",
       "<p>Codeup is the first, and currently the only accredited* coding bootcamp in Texas. Our program offerings range from 15 to 20 weeks and include: Full-Stack Web Development, Data Science and Cloud Administration. These programs are open to individuals of all backgrounds and experience levels.</p>\n",
       "<p>When you decide to transition careers with Codeup, our commitment to you goes beyond class-time. You will have direct access to a support system including:</p>\n",
       "<ul>\n",
       "<li><a href=\"https://www.youtube.com/watch?v=iBM3MmPlj5M\">Admissions and financial aid</a> managers</li>\n",
       "<li>A <a href=\"https://www.youtube.com/watch?v=g7oR8Tt0Kfg\">student experience team</a></li>\n",
       "<li><a href=\"https://codeup.com/tips-for-prospective-students/why-you-need-the-best-coding-bootcamp-instructors/\">Instructors</a> who are subject matter experts</li>\n",
       "<li>A placement team looking to help you secure a job in-field once you graduate</li>\n",
       "</ul>\n",
       "<p>We also offer a <a href=\"https://codeup.com/refund/\">tuition refund guarantee</a>! We will refund your paid tuition back to you if you do not find a job in-field within six months of completing a Codeup program.</p>\n",
       "<p>If this sounds like a good fit for you, use any of the following options to launch your career in tech!</p>\n",
       "<ul>\n",
       "<li>Attend a 100% free instructor-led <a href=\"https://codeup.com/events/\">workshop</a> to try your hand at coding!</li>\n",
       "<li><a href=\"https://codeup.com/moreinfo/\">Request more information</a> on one or all of our programs</li>\n",
       "<li><a href=\"https://codeup.com/apply-now/\">Get started</a> now by filling out a quick form</li>\n",
       "<li><a href=\"https://meetings.hubspot.com/sarah187/general-infoquestions-round-robin\">Schedule time</a> with an admissions manager to talk through the process</li>\n",
       "</ul>\n",
       "<p><strong>*Codeup is accredited for postsecondary, non-degree granting, career and technology programs by the Middle States Commission on Secondary Schools of the Middle States Association of Colleges and Schools, 3624 Market Street, Philadelphia, PA 19104, (267) 284-5000</strong></p>\n",
       "</div>\n",
       "<div class=\"et_post_meta_wrapper\">\n",
       "</div>\n",
       "</article>\n",
       "</div>\n",
       "<div id=\"sidebar\">\n",
       "<div class=\"et_pb_widget widget_block widget_media_image\" id=\"block-2\">\n",
       "<figure class=\"wp-block-image size-full\"><img alt=\"best bootcamp in San Antonio\" class=\"wp-image-16034\" decoding=\"async\" height=\"561\" loading=\"lazy\" sizes=\"(min-width: 0px) and (max-width: 480px) 480px, (min-width: 481px) 701px, 100vw\" src=\"https://tribucodeup.wpenginepowered.com/wp-content/uploads/2021/09/best-bootcamp-switchup.png\" srcset=\"https://tribucodeup.wpenginepowered.com/wp-content/uploads/2021/09/best-bootcamp-switchup.png 701w, https://tribucodeup.wpenginepowered.com/wp-content/uploads/2021/09/best-bootcamp-switchup-480x384.png 480w\" width=\"701\"/></figure>\n",
       "</div><div class=\"et_pb_widget widget_nav_menu\" id=\"nav_menu-3\"><h4 class=\"widgettitle\">Our Programs</h4><div class=\"menu-our-programs-container\"><ul class=\"menu\" id=\"menu-our-programs\"><li class=\"menu-item menu-item-type-post_type menu-item-object-course menu-item-18129\" id=\"menu-item-18129\"><a href=\"https://codeup.com/program/cloud-administration/\">Cloud Administration</a></li>\n",
       "<li class=\"menu-item menu-item-type-post_type menu-item-object-course menu-item-16516\" id=\"menu-item-16516\"><a href=\"https://codeup.com/program/full-stack-web-development/\">Full Stack Web Development</a></li>\n",
       "<li class=\"menu-item menu-item-type-post_type menu-item-object-course menu-item-16515\" id=\"menu-item-16515\"><a href=\"https://codeup.com/program/data-science/\">Data Science</a></li>\n",
       "</ul></div></div><div class=\"et_pb_widget widget_block\" id=\"block-10\">\n",
       "<div class=\"is-layout-flex wp-container-4 wp-block-columns are-vertically-aligned-top\">\n",
       "<div class=\"is-layout-flow wp-block-column is-vertically-aligned-top\" style=\"flex-basis:100%\">\n",
       "<div class=\"is-layout-flow wp-block-group\">\n",
       "<div class=\"is-layout-flow wp-block-group\">\n",
       "<h2>Latest Blog Articles</h2>\n",
       "<ul class=\"wp-block-latest-posts__list wp-block-latest-posts\"><li><a class=\"wp-block-latest-posts__post-title\" href=\"https://codeup.com/codeup-news/panelist-spotlight-4/\">Black Excellence in Tech: Panelist Spotlight – Wilmarie De La Cruz Mejia</a></li>\n",
       "<li><a class=\"wp-block-latest-posts__post-title\" href=\"https://codeup.com/events/black-excellence-in-tech-panelist-spotlight-stephanie-jones/\">Black excellence in tech: Panelist Spotlight – Stephanie Jones</a></li>\n",
       "<li><a class=\"wp-block-latest-posts__post-title\" href=\"https://codeup.com/events/black-excellence-in-tech-panelist-spotlight-james-cooper/\">Black excellence in tech: Panelist Spotlight – James Cooper</a></li>\n",
       "<li><a class=\"wp-block-latest-posts__post-title\" href=\"https://codeup.com/events/black-excellence-in-tech-panelist-spotlight/\">Black excellence in tech: Panelist Spotlight – Jeanice Freeman</a></li>\n",
       "<li><a class=\"wp-block-latest-posts__post-title\" href=\"https://codeup.com/tips-for-prospective-students/coding-bootcamp-or-self-learning/\">Coding Bootcamp or Self-Learning? Which is Best for You?</a></li>\n",
       "</ul>\n",
       "<p></p>\n",
       "</div>\n",
       "</div>\n",
       "</div>\n",
       "</div>\n",
       "</div><div class=\"et_pb_widget widget_block widget_text\" id=\"block-4\">\n",
       "<p></p>\n",
       "</div><div class=\"et_pb_widget widget_block\" id=\"block-11\">\n",
       "<div class=\"is-layout-flow wp-block-group\">\n",
       "<div class=\"is-layout-flex wp-container-7 wp-block-columns\">\n",
       "<div class=\"is-layout-flow wp-block-column\" style=\"flex-basis:100%\">\n",
       "<div class=\"is-layout-flow wp-block-group\"></div>\n",
       "</div>\n",
       "</div>\n",
       "<p></p>\n",
       "</div>\n",
       "</div> </div>\n",
       "</div>\n",
       "</div>\n",
       "</div>"
      ]
     },
     "execution_count": 88,
     "metadata": {},
     "output_type": "execute_result"
    }
   ],
   "source": [
    "post1"
   ]
  },
  {
   "cell_type": "code",
   "execution_count": 39,
   "id": "e1b86663",
   "metadata": {},
   "outputs": [],
   "source": [
    "my_dict={'title':[], 'text':[]}"
   ]
  },
  {
   "cell_type": "code",
   "execution_count": 40,
   "id": "c8d16ac1",
   "metadata": {},
   "outputs": [],
   "source": [
    "my_dict['title'].append(soup.h1.text)"
   ]
  },
  {
   "cell_type": "code",
   "execution_count": 46,
   "id": "efb05f35",
   "metadata": {},
   "outputs": [],
   "source": [
    "my_dict['text'].append(post1.text)"
   ]
  },
  {
   "cell_type": "code",
   "execution_count": 47,
   "id": "c340d988",
   "metadata": {},
   "outputs": [
    {
     "data": {
      "text/plain": [
       "{'title': ['Coding Bootcamp or Self-Learning? Which is Best for You?'],\n",
       " 'text': ['\\n\\n\\n\\n\\n\\nCoding Bootcamp or Self-Learning? Which is Best for You?\\nJan 20, 2023 | Tips for Prospective Students\\n\\n\\nIf you’re interested in embarking on a career in tech, it is likely that you have taken a look into two learning paths: self-learning vs. coding bootcamps. But what are the differences?\\nSelf-Learning\\nMany online institutions offer self-learning courses. This is becoming increasingly popular as students are becoming more aware of their individual learning styles, and value flexibility and self-paced programs.\\nAdvantages of Self-Learning\\n\\nYou can form your instruction at times that best suit your needs and lifestyle\\nYou can purse your new path from the comfort of your home if you choose!\\nThere are many self-learning courses that offer flexible payment options\\n\\nDisadvantages of Self-Learning\\n\\nWorking alone can sometimes lead to a lack of motivation, requiring a great deal of strictness to remain on track\\nThere are no peers or instructors physically present to study with or ask questions\\n\\nTraditional Coding Bootcamp\\nCoding bootcamps have a reputation for being the accelerated path to launching a career in tech. This tends to work best for students that thrive off of structured learning, with a support team to assist throughout the process.\\nAdvantages of Coding Bootcamps\\n\\nBootcamps are typically instructor-led meaning you have access to industry experts throughout your program to help you fully understand the material\\nYou and your peers will more than likely need to complete a project together before the end of your course. This will aid in forming connections with the next group of individuals to enter the tech industry (which is great for networking!)\\nTo employers, completing a program through a coding bootcamp looks phenomenal! This demonstrates your ability to commit to something complex and learn quickly.\\n\\nDisadvantages of Coding Bootcamps\\n\\nEvery piece of information covered in a coding bootcamp’s curriculum may not be imperative to your new role. A top goal of a bootcamp is to lay a good foundation for many possible careers. This means that if the curriculum covers pieces you may already know, or that do not exactly pertain to you, you will still need to be actively involved in the lessons.\\nIf you are someone who prefers to spend a lot of time absorbing information, you may not be given the opportunity to do so, given that a bootcamp has a structured curriculum with time frames for each topic.\\n\\nBoth options have their advantages and disadvantages, but selecting which path is the correct choice for you should be based on your learning style and life circumstances.\\nCodeup\\nCodeup is the first, and currently the only accredited* coding bootcamp in Texas. Our program offerings range from 15 to 20 weeks and include: Full-Stack Web Development, Data Science and Cloud Administration. These programs are open to individuals of all backgrounds and experience levels.\\nWhen you decide to transition careers with Codeup, our commitment to you goes beyond class-time. You will have direct access to a support system including:\\n\\nAdmissions and financial aid managers\\nA student experience team\\nInstructors who are subject matter experts\\nA placement team looking to help you secure a job in-field once you graduate\\n\\nWe also offer a tuition refund guarantee! We will refund your paid tuition back to you if you do not find a job in-field within six months of completing a Codeup program.\\nIf this sounds like a good fit for you, use any of the following options to launch your career in tech!\\n\\nAttend a 100% free instructor-led workshop to try your hand at coding!\\nRequest more information on one or all of our programs\\nGet started now by filling out a quick form\\nSchedule time with an admissions manager to talk through the process\\n\\n*Codeup is accredited for postsecondary, non-degree granting, career and technology programs by the Middle States Commission on Secondary Schools of the Middle States Association of Colleges and Schools, 3624 Market Street, Philadelphia, PA 19104, (267) 284-5000\\n\\n\\n\\n\\n\\n\\n\\n\\nOur ProgramsCloud Administration\\nFull Stack Web Development\\nData Science\\n\\n\\n\\n\\n\\nLatest Blog Articles\\nBlack Excellence in Tech: Panelist Spotlight – Wilmarie De La Cruz Mejia\\nBlack excellence in tech: Panelist Spotlight – Stephanie Jones\\nBlack excellence in tech: Panelist Spotlight – James Cooper\\nBlack excellence in tech: Panelist Spotlight – Jeanice Freeman\\nCoding Bootcamp or Self-Learning? Which is Best for You?\\n\\n\\n\\n\\n\\n\\n\\n\\n\\n\\n\\n\\n\\n\\n\\n\\n\\n \\n\\n\\n']}"
      ]
     },
     "execution_count": 47,
     "metadata": {},
     "output_type": "execute_result"
    }
   ],
   "source": [
    "my_dict"
   ]
  },
  {
   "cell_type": "code",
   "execution_count": null,
   "id": "87d16185",
   "metadata": {},
   "outputs": [],
   "source": [
    "def get_article_text():\n",
    "    # if we already have the data, read it locally\n",
    "    if path.exists('article.txt'):\n",
    "        with open('article.txt') as f:\n",
    "            return f.read()\n",
    "\n",
    "    # otherwise go fetch the data\n",
    "    url = 'https://codeup.com/data-science/math-in-data-science/'\n",
    "    headers = {'User-Agent': 'Codeup Data Science'}\n",
    "    response = get(url, headers=headers)\n",
    "    soup = BeautifulSoup(response.text)\n",
    "    article = soup.find('div', id='main-content')\n",
    "\n",
    "    # save it for next time\n",
    "    with open('article.txt', 'w') as f:\n",
    "        f.write(article.text)\n",
    "\n",
    "    return article.text"
   ]
  },
  {
   "cell_type": "code",
   "execution_count": 81,
   "id": "5a71b1f3",
   "metadata": {},
   "outputs": [],
   "source": [
    "def get_blog_articles():\n",
    "    articles=['https://codeup.com/tips-for-prospective-students/coding-bootcamp-or-self-learning/',\n",
    "              'https://codeup.com/codeup-news/codeup-best-bootcamps/',\n",
    "              'https://codeup.com/events/black-excellence-in-tech-panelist-spotlight/',\n",
    "              'https://codeup.com/events/black-excellence-in-tech-panelist-spotlight-james-cooper/',\n",
    "              'https://codeup.com/events/black-excellence-in-tech-panelist-spotlight-stephanie-jones/']\n",
    "    headers = {'User-Agent': 'Codeup Data Science'}\n",
    "    my_dict={'title':[], 'text':[]}\n",
    "    #count=0\n",
    "    for x in articles:\n",
    "        #if path.exists('article.txt'):\n",
    "            #with open('article.txt') as f:\n",
    "                #return f.read()\n",
    "        #count+=1\n",
    "        response = get(x, headers=headers)\n",
    "        #with open(f'article{count}.txt', 'w') as f:\n",
    "            #f.write(article{count}.text)\n",
    "        soup = BeautifulSoup(response.content, 'html.parser')\n",
    "    \n",
    "        my_dict['title'].append(soup.h1.text)\n",
    "        my_dict['text'].append(soup.find('div', id='main-content').text)\n",
    "    return my_dict   "
   ]
  },
  {
   "cell_type": "code",
   "execution_count": 83,
   "id": "ed44b53c",
   "metadata": {
    "scrolled": false
   },
   "outputs": [
    {
     "data": {
      "text/plain": [
       "{'title': ['Coding Bootcamp or Self-Learning? Which is Best for You?',\n",
       "  'Codeup Among Top 58 Best Coding Bootcamps of 2023',\n",
       "  'Black excellence in tech: Panelist Spotlight – Jeanice Freeman',\n",
       "  'Black excellence in tech: Panelist Spotlight – James Cooper',\n",
       "  'Black excellence in tech: Panelist Spotlight – Stephanie Jones'],\n",
       " 'text': ['\\n\\n\\n\\n\\n\\nCoding Bootcamp or Self-Learning? Which is Best for You?\\nJan 20, 2023 | Tips for Prospective Students\\n\\n\\nIf you’re interested in embarking on a career in tech, it is likely that you have taken a look into two learning paths: self-learning vs. coding bootcamps. But what are the differences?\\nSelf-Learning\\nMany online institutions offer self-learning courses. This is becoming increasingly popular as students are becoming more aware of their individual learning styles, and value flexibility and self-paced programs.\\nAdvantages of Self-Learning\\n\\nYou can form your instruction at times that best suit your needs and lifestyle\\nYou can purse your new path from the comfort of your home if you choose!\\nThere are many self-learning courses that offer flexible payment options\\n\\nDisadvantages of Self-Learning\\n\\nWorking alone can sometimes lead to a lack of motivation, requiring a great deal of strictness to remain on track\\nThere are no peers or instructors physically present to study with or ask questions\\n\\nTraditional Coding Bootcamp\\nCoding bootcamps have a reputation for being the accelerated path to launching a career in tech. This tends to work best for students that thrive off of structured learning, with a support team to assist throughout the process.\\nAdvantages of Coding Bootcamps\\n\\nBootcamps are typically instructor-led meaning you have access to industry experts throughout your program to help you fully understand the material\\nYou and your peers will more than likely need to complete a project together before the end of your course. This will aid in forming connections with the next group of individuals to enter the tech industry (which is great for networking!)\\nTo employers, completing a program through a coding bootcamp looks phenomenal! This demonstrates your ability to commit to something complex and learn quickly.\\n\\nDisadvantages of Coding Bootcamps\\n\\nEvery piece of information covered in a coding bootcamp’s curriculum may not be imperative to your new role. A top goal of a bootcamp is to lay a good foundation for many possible careers. This means that if the curriculum covers pieces you may already know, or that do not exactly pertain to you, you will still need to be actively involved in the lessons.\\nIf you are someone who prefers to spend a lot of time absorbing information, you may not be given the opportunity to do so, given that a bootcamp has a structured curriculum with time frames for each topic.\\n\\nBoth options have their advantages and disadvantages, but selecting which path is the correct choice for you should be based on your learning style and life circumstances.\\nCodeup\\nCodeup is the first, and currently the only accredited* coding bootcamp in Texas. Our program offerings range from 15 to 20 weeks and include: Full-Stack Web Development, Data Science and Cloud Administration. These programs are open to individuals of all backgrounds and experience levels.\\nWhen you decide to transition careers with Codeup, our commitment to you goes beyond class-time. You will have direct access to a support system including:\\n\\nAdmissions and financial aid managers\\nA student experience team\\nInstructors who are subject matter experts\\nA placement team looking to help you secure a job in-field once you graduate\\n\\nWe also offer a tuition refund guarantee! We will refund your paid tuition back to you if you do not find a job in-field within six months of completing a Codeup program.\\nIf this sounds like a good fit for you, use any of the following options to launch your career in tech!\\n\\nAttend a 100% free instructor-led workshop to try your hand at coding!\\nRequest more information on one or all of our programs\\nGet started now by filling out a quick form\\nSchedule time with an admissions manager to talk through the process\\n\\n*Codeup is accredited for postsecondary, non-degree granting, career and technology programs by the Middle States Commission on Secondary Schools of the Middle States Association of Colleges and Schools, 3624 Market Street, Philadelphia, PA 19104, (267) 284-5000\\n\\n\\n\\n\\n\\n\\n\\n\\nOur ProgramsCloud Administration\\nFull Stack Web Development\\nData Science\\n\\n\\n\\n\\n\\nLatest Blog Articles\\nBlack Excellence in Tech: Panelist Spotlight – Wilmarie De La Cruz Mejia\\nBlack excellence in tech: Panelist Spotlight – Stephanie Jones\\nBlack excellence in tech: Panelist Spotlight – James Cooper\\nBlack excellence in tech: Panelist Spotlight – Jeanice Freeman\\nCoding Bootcamp or Self-Learning? Which is Best for You?\\n\\n\\n\\n\\n\\n\\n\\n\\n\\n\\n\\n\\n\\n\\n\\n\\n\\n \\n\\n\\n',\n",
       "  '\\n\\n\\n\\n\\n\\nCodeup Among Top 58 Best Coding Bootcamps of 2023\\nJan 12, 2023 | Codeup News\\n\\n\\nCodeup is pleased to announce we have been ranked among the 58 best coding bootcamps of 2023 by Course Report!\\nCourse Report is a platform that has become essential in researching coding bootcamps over the last 10 years. Every year, Course Report shares a list of coding bootcamps worldwide that meet a high standard in their educational offerings. The following were factors in the decision-making process:\\n\\nAlumni and Student Reviews\\nTransparency Around Career Outcomes\\nSalary-Based Financing Options\\nSchool’s Operation Time\\nNumber of Campuses\\nSelectivity in the Application Process\\nVetted Lending Partnerships\\nThe Caliber of Career Support\\nCommitment to Diversity\\n\\nCodeup was highlighted for being an established school with transparent outcomes.\\nCourse Report is primarily utilized by previous and potential students seeking information on coding bootcamps. Our outstanding alumni have shared their genuine experiences upon completing Codeup programs; anyone seeking information on Codeup can access their reviews!\\nA huge thank you goes to our alumni for sharing your journeys, the Codeup staff for continuing to deliver excellence, and Course Report for recognizing our school in this year’s rankings.\\n\\n\\n\\n\\n\\n\\n\\n\\n\\nOur ProgramsCloud Administration\\nFull Stack Web Development\\nData Science\\n\\n\\n\\n\\n\\nLatest Blog Articles\\nBlack Excellence in Tech: Panelist Spotlight – Wilmarie De La Cruz Mejia\\nBlack excellence in tech: Panelist Spotlight – Stephanie Jones\\nBlack excellence in tech: Panelist Spotlight – James Cooper\\nBlack excellence in tech: Panelist Spotlight – Jeanice Freeman\\nCoding Bootcamp or Self-Learning? Which is Best for You?\\n\\n\\n\\n\\n\\n\\n\\n\\n\\n\\n\\n\\n\\n\\n\\n\\n\\n \\n\\n\\n',\n",
       "  '\\n\\n\\n\\n\\n\\nBlack excellence in tech: Panelist Spotlight – Jeanice Freeman\\nFeb 6, 2023 | Events, Featured\\n\\n\\nBlack excellence in tech: Panelist Spotlight – Jeanice freeman\\nCodeup is hosting our second Black Excellence in Tech Panel in honor of Black History Month on February 22, 2023! To further celebrate, we’d like to spotlight each of our panelists leading up to the discussion to learn a bit about their respective experiences as black leaders in the tech industry!\\nMeet Jeanice!\\nJeanice Freeman is the Student Experience Specialist at Codeup, where her role is to provide support, advocacy, inclusivity, growth, and resources for students. Prior to Codeup, she worked in higher education, k-12 education, community development, and human services providing support, resources, training, development, and growth opportunities. She holds a B.S and M.S degree and is currently working on her Ed. D in Executive Leadership. She plans to continue doing what she loves as an educator and provide space and opportunities for adult learners to continue to grow.\\nWe asked Jeanice about her experience with Codeup. She shared, “Codeup has allowed me to do what I love and create spaces for others to thrive and grow. I am able to work with diverse populations and provide support and development opportunities for non-traditional students. Codeup has also provided opportunities for my own growth and with that has become a special organization to be a part of.”\\nDon’t forget to tune in on February 22nd to sit in on an insightful conversation.\\n\\n\\n\\n\\n\\n\\n\\n\\nOur ProgramsCloud Administration\\nFull Stack Web Development\\nData Science\\n\\n\\n\\n\\n\\nLatest Blog Articles\\nBlack Excellence in Tech: Panelist Spotlight – Wilmarie De La Cruz Mejia\\nBlack excellence in tech: Panelist Spotlight – Stephanie Jones\\nBlack excellence in tech: Panelist Spotlight – James Cooper\\nBlack excellence in tech: Panelist Spotlight – Jeanice Freeman\\nCoding Bootcamp or Self-Learning? Which is Best for You?\\n\\n\\n\\n\\n\\n\\n\\n\\n\\n\\n\\n\\n\\n\\n\\n\\n\\n \\n\\n\\n',\n",
       "  '\\n\\n\\n\\n\\n\\nBlack excellence in tech: Panelist Spotlight – James Cooper\\nFeb 10, 2023 | Codeup News, Events, Featured\\n\\n\\nBlack excellence in tech: Panelist Spotlight – James Cooper\\nCodeup is hosting our second Black Excellence in Tech Panel in honor of Black History Month on February 22, 2023! To further celebrate, we’d like to spotlight each of our panelists leading up to the discussion to learn a bit about their respective experiences as black leaders in the tech industry! \\nMeet James!\\n\\nJames Cooper is the Senior Placement Manager at Codeup, and will also be the Moderator for the Black Excellence in Tech Panel. James previously served as an Athletic Director in higher education and in that role his responsibilities included liaison for Title IX. As Title IX liaison, James oversaw complaints of discrimination and identifying and addressing any patterns or systemic problems that arose during the review of complaints. Additionally, he spent two years assisting the Department of Justice in building college campuses’ capacity to lessen violence against women, to administer justice for victims of domestic violence, dating violence, sexual assault, and stalking, and to increase services for those victims.\\nAt Codeup, James helps students identify career opportunities and supply them with the necessary tools to ensure they are able to compete for those opportunities. We asked James about his experience at Codeup, he shared, “This is the first employer in my professional experiences that promotes true autonomy and community amongst its staff.”\\nJames believes in his ability to overcome many obstacles and challenges and utilizes his lens and social construct towards the Human-Centered Approach to Service Delivery. He serves as an infinite example of thought provoking philosopher bridging gaps between academics, athletics and prioritizing the process of transitioning community assets and values for a sustainable legacy.\\nWe hope you can join us on February 22nd to sit in on an insightful conversation with James and all of our panelists!\\n\\n\\n\\n\\n\\n\\n\\n\\nOur ProgramsCloud Administration\\nFull Stack Web Development\\nData Science\\n\\n\\n\\n\\n\\nLatest Blog Articles\\nBlack Excellence in Tech: Panelist Spotlight – Wilmarie De La Cruz Mejia\\nBlack excellence in tech: Panelist Spotlight – Stephanie Jones\\nBlack excellence in tech: Panelist Spotlight – James Cooper\\nBlack excellence in tech: Panelist Spotlight – Jeanice Freeman\\nCoding Bootcamp or Self-Learning? Which is Best for You?\\n\\n\\n\\n\\n\\n\\n\\n\\n\\n\\n\\n\\n\\n\\n\\n\\n\\n \\n\\n\\n',\n",
       "  '\\n\\n\\n\\n\\n\\nBlack excellence in tech: Panelist Spotlight – Stephanie Jones\\nFeb 13, 2023 | Codeup News, Events, Featured\\n\\n\\nBlack excellence in tech: Panelist Spotlight – Stephanie Jones\\nCodeup is hosting our second Black Excellence in Tech Panel in honor of Black History Month on February 22, 2023! To further celebrate, we’d like to spotlight each of our panelists leading up to the discussion to learn a bit about their respective experiences as black leaders in the tech industry!\\xa0\\xa0\\nMeet Stephanie!\\n\\nStephanie Jones is an Alumna of Codeup’s Data Science Program (March 2022) and currently works as a Business Intelligence Developer for Victory Capital, a global investment management firm based in San Antonio, TX.\\xa0\\nStephanie is passionate about visual storytelling and, as a late “tech bloomer,” is also an advocate for equitable access and educational opportunities in technology for underserved communities.\\nWe asked Stephanie to share more about her experience at Codeup. She shares, “I have always been a creative and Codeup opened up a world of possibilities by exposing me to advanced technical concepts and career opportunities.” Stephanie also speaks to the community of support in the program and beyond.\\xa0 “The network and support from instructors, mentors, and peers began during the application phase (which was intense), before the program even started, and has carried over even after completing the program and entering into the workforce.”\\nWe hope you can join us on February 22nd to sit in on an insightful conversation with Stephanie and all of our panelists!\\n\\n\\n\\n\\n\\n\\n\\n\\nOur ProgramsCloud Administration\\nFull Stack Web Development\\nData Science\\n\\n\\n\\n\\n\\nLatest Blog Articles\\nBlack Excellence in Tech: Panelist Spotlight – Wilmarie De La Cruz Mejia\\nBlack excellence in tech: Panelist Spotlight – Stephanie Jones\\nBlack excellence in tech: Panelist Spotlight – James Cooper\\nBlack excellence in tech: Panelist Spotlight – Jeanice Freeman\\nCoding Bootcamp or Self-Learning? Which is Best for You?\\n\\n\\n\\n\\n\\n\\n\\n\\n\\n\\n\\n\\n\\n\\n\\n\\n\\n \\n\\n\\n']}"
      ]
     },
     "execution_count": 83,
     "metadata": {},
     "output_type": "execute_result"
    }
   ],
   "source": [
    "get_blog_articles()"
   ]
  },
  {
   "cell_type": "code",
   "execution_count": 15,
   "id": "d6f05667",
   "metadata": {},
   "outputs": [],
   "source": [
    "link_list=['https://codeup.com/tips-for-prospective-students/coding-bootcamp-or-self-learning/',\n",
    "              'https://codeup.com/codeup-news/codeup-best-bootcamps/',\n",
    "              'https://codeup.com/events/black-excellence-in-tech-panelist-spotlight/',\n",
    "              'https://codeup.com/events/black-excellence-in-tech-panelist-spotlight-james-cooper/',\n",
    "              'https://codeup.com/events/black-excellence-in-tech-panelist-spotlight-stephanie-jones/']"
   ]
  },
  {
   "cell_type": "code",
   "execution_count": 26,
   "id": "034bb816",
   "metadata": {},
   "outputs": [],
   "source": [
    "def get_blog_articles():\n",
    "    link_list=['https://codeup.com/tips-for-prospective-students/coding-bootcamp-or-self-learning/',\n",
    "              'https://codeup.com/codeup-news/codeup-best-bootcamps/',\n",
    "              'https://codeup.com/events/black-excellence-in-tech-panelist-spotlight/',\n",
    "              'https://codeup.com/events/black-excellence-in-tech-panelist-spotlight-james-cooper/',\n",
    "              'https://codeup.com/events/black-excellence-in-tech-panelist-spotlight-stephanie-jones/']\n",
    "    article_info = []\n",
    "    file = 'blog_posts.json'\n",
    "    if os.path.exists(file):\n",
    "        with open(file) as f:\n",
    "            return json.load(f)\n",
    "    headers = {'User-Agent': 'Codeup Data Science'}\n",
    "    article_info = []\n",
    "    for article in article_list:\n",
    "        response = get(article, headers=headers)\n",
    "        soup = BeautifulSoup(response.content, 'html.parser')\n",
    "        info_dict = {'title': soup.find('h1').text,\n",
    "                     'date_published': soup.find('span', class_='published').text,\n",
    "                     'content': soup.find('div', class_='entry-content').text}\n",
    "        \n",
    "        article_info.append(info_dict)\n",
    "        with open(file, 'w') as f:\n",
    "            json.dump(article_info, f)\n",
    "    return article_info"
   ]
  },
  {
   "cell_type": "code",
   "execution_count": 27,
   "id": "ac60668e",
   "metadata": {},
   "outputs": [
    {
     "data": {
      "text/plain": [
       "[{'title': 'Coding Bootcamp or Self-Learning? Which is Best for You?',\n",
       "  'date_published': 'Jan 20, 2023',\n",
       "  'content': '\\nIf you’re interested in embarking on a career in tech, it is likely that you have taken a look into two learning paths: self-learning vs. coding bootcamps. But what are the differences?\\nSelf-Learning\\nMany online institutions offer self-learning courses. This is becoming increasingly popular as students are becoming more aware of their individual learning styles, and value flexibility and self-paced programs.\\nAdvantages of Self-Learning\\n\\nYou can form your instruction at times that best suit your needs and lifestyle\\nYou can purse your new path from the comfort of your home if you choose!\\nThere are many self-learning courses that offer flexible payment options\\n\\nDisadvantages of Self-Learning\\n\\nWorking alone can sometimes lead to a lack of motivation, requiring a great deal of strictness to remain on track\\nThere are no peers or instructors physically present to study with or ask questions\\n\\nTraditional Coding Bootcamp\\nCoding bootcamps have a reputation for being the accelerated path to launching a career in tech. This tends to work best for students that thrive off of structured learning, with a support team to assist throughout the process.\\nAdvantages of Coding Bootcamps\\n\\nBootcamps are typically instructor-led meaning you have access to industry experts throughout your program to help you fully understand the material\\nYou and your peers will more than likely need to complete a project together before the end of your course. This will aid in forming connections with the next group of individuals to enter the tech industry (which is great for networking!)\\nTo employers, completing a program through a coding bootcamp looks phenomenal! This demonstrates your ability to commit to something complex and learn quickly.\\n\\nDisadvantages of Coding Bootcamps\\n\\nEvery piece of information covered in a coding bootcamp’s curriculum may not be imperative to your new role. A top goal of a bootcamp is to lay a good foundation for many possible careers. This means that if the curriculum covers pieces you may already know, or that do not exactly pertain to you, you will still need to be actively involved in the lessons.\\nIf you are someone who prefers to spend a lot of time absorbing information, you may not be given the opportunity to do so, given that a bootcamp has a structured curriculum with time frames for each topic.\\n\\nBoth options have their advantages and disadvantages, but selecting which path is the correct choice for you should be based on your learning style and life circumstances.\\nCodeup\\nCodeup is the first, and currently the only accredited* coding bootcamp in Texas. Our program offerings range from 15 to 20 weeks and include: Full-Stack Web Development, Data Science and Cloud Administration. These programs are open to individuals of all backgrounds and experience levels.\\nWhen you decide to transition careers with Codeup, our commitment to you goes beyond class-time. You will have direct access to a support system including:\\n\\nAdmissions and financial aid managers\\nA student experience team\\nInstructors who are subject matter experts\\nA placement team looking to help you secure a job in-field once you graduate\\n\\nWe also offer a tuition refund guarantee! We will refund your paid tuition back to you if you do not find a job in-field within six months of completing a Codeup program.\\nIf this sounds like a good fit for you, use any of the following options to launch your career in tech!\\n\\nAttend a 100% free instructor-led workshop to try your hand at coding!\\nRequest more information on one or all of our programs\\nGet started now by filling out a quick form\\nSchedule time with an admissions manager to talk through the process\\n\\n*Codeup is accredited for postsecondary, non-degree granting, career and technology programs by the Middle States Commission on Secondary Schools of the Middle States Association of Colleges and Schools, 3624 Market Street, Philadelphia, PA 19104, (267) 284-5000\\n'},\n",
       " {'title': 'Codeup Among Top 58 Best Coding Bootcamps of 2023',\n",
       "  'date_published': 'Jan 12, 2023',\n",
       "  'content': '\\nCodeup is pleased to announce we have been ranked among the 58 best coding bootcamps of 2023 by Course Report!\\nCourse Report is a platform that has become essential in researching coding bootcamps over the last 10 years. Every year, Course Report shares a list of coding bootcamps worldwide that meet a high standard in their educational offerings. The following were factors in the decision-making process:\\n\\nAlumni and Student Reviews\\nTransparency Around Career Outcomes\\nSalary-Based Financing Options\\nSchool’s Operation Time\\nNumber of Campuses\\nSelectivity in the Application Process\\nVetted Lending Partnerships\\nThe Caliber of Career Support\\nCommitment to Diversity\\n\\nCodeup was highlighted for being an established school with transparent outcomes.\\nCourse Report is primarily utilized by previous and potential students seeking information on coding bootcamps. Our outstanding alumni have shared their genuine experiences upon completing Codeup programs; anyone seeking information on Codeup can access their reviews!\\nA huge thank you goes to our alumni for sharing your journeys, the Codeup staff for continuing to deliver excellence, and Course Report for recognizing our school in this year’s rankings.\\n\\n'},\n",
       " {'title': 'Black excellence in tech: Panelist Spotlight – Jeanice Freeman',\n",
       "  'date_published': 'Feb 6, 2023',\n",
       "  'content': '\\nBlack excellence in tech: Panelist Spotlight – Jeanice freeman\\nCodeup is hosting our second Black Excellence in Tech Panel in honor of Black History Month on February 22, 2023! To further celebrate, we’d like to spotlight each of our panelists leading up to the discussion to learn a bit about their respective experiences as black leaders in the tech industry!\\nMeet Jeanice!\\nJeanice Freeman is the Student Experience Specialist at Codeup, where her role is to provide support, advocacy, inclusivity, growth, and resources for students. Prior to Codeup, she worked in higher education, k-12 education, community development, and human services providing support, resources, training, development, and growth opportunities. She holds a B.S and M.S degree and is currently working on her Ed. D in Executive Leadership. She plans to continue doing what she loves as an educator and provide space and opportunities for adult learners to continue to grow.\\nWe asked Jeanice about her experience with Codeup. She shared, “Codeup has allowed me to do what I love and create spaces for others to thrive and grow. I am able to work with diverse populations and provide support and development opportunities for non-traditional students. Codeup has also provided opportunities for my own growth and with that has become a special organization to be a part of.”\\nDon’t forget to tune in on February 22nd to sit in on an insightful conversation.\\n'},\n",
       " {'title': 'Black excellence in tech: Panelist Spotlight – James Cooper',\n",
       "  'date_published': 'Feb 10, 2023',\n",
       "  'content': '\\nBlack excellence in tech: Panelist Spotlight – James Cooper\\nCodeup is hosting our second Black Excellence in Tech Panel in honor of Black History Month on February 22, 2023! To further celebrate, we’d like to spotlight each of our panelists leading up to the discussion to learn a bit about their respective experiences as black leaders in the tech industry! \\nMeet James!\\n\\nJames Cooper is the Senior Placement Manager at Codeup, and will also be the Moderator for the Black Excellence in Tech Panel. James previously served as an Athletic Director in higher education and in that role his responsibilities included liaison for Title IX. As Title IX liaison, James oversaw complaints of discrimination and identifying and addressing any patterns or systemic problems that arose during the review of complaints. Additionally, he spent two years assisting the Department of Justice in building college campuses’ capacity to lessen violence against women, to administer justice for victims of domestic violence, dating violence, sexual assault, and stalking, and to increase services for those victims.\\nAt Codeup, James helps students identify career opportunities and supply them with the necessary tools to ensure they are able to compete for those opportunities. We asked James about his experience at Codeup, he shared, “This is the first employer in my professional experiences that promotes true autonomy and community amongst its staff.”\\nJames believes in his ability to overcome many obstacles and challenges and utilizes his lens and social construct towards the Human-Centered Approach to Service Delivery. He serves as an infinite example of thought provoking philosopher bridging gaps between academics, athletics and prioritizing the process of transitioning community assets and values for a sustainable legacy.\\nWe hope you can join us on February 22nd to sit in on an insightful conversation with James and all of our panelists!\\n'},\n",
       " {'title': 'Black excellence in tech: Panelist Spotlight – Stephanie Jones',\n",
       "  'date_published': 'Feb 13, 2023',\n",
       "  'content': '\\nBlack excellence in tech: Panelist Spotlight – Stephanie Jones\\nCodeup is hosting our second Black Excellence in Tech Panel in honor of Black History Month on February 22, 2023! To further celebrate, we’d like to spotlight each of our panelists leading up to the discussion to learn a bit about their respective experiences as black leaders in the tech industry!\\xa0\\xa0\\nMeet Stephanie!\\n\\nStephanie Jones is an Alumna of Codeup’s Data Science Program (March 2022) and currently works as a Business Intelligence Developer for Victory Capital, a global investment management firm based in San Antonio, TX.\\xa0\\nStephanie is passionate about visual storytelling and, as a late “tech bloomer,” is also an advocate for equitable access and educational opportunities in technology for underserved communities.\\nWe asked Stephanie to share more about her experience at Codeup. She shares, “I have always been a creative and Codeup opened up a world of possibilities by exposing me to advanced technical concepts and career opportunities.” Stephanie also speaks to the community of support in the program and beyond.\\xa0 “The network and support from instructors, mentors, and peers began during the application phase (which was intense), before the program even started, and has carried over even after completing the program and entering into the workforce.”\\nWe hope you can join us on February 22nd to sit in on an insightful conversation with Stephanie and all of our panelists!\\n'}]"
      ]
     },
     "execution_count": 27,
     "metadata": {},
     "output_type": "execute_result"
    }
   ],
   "source": [
    "get_blog_articles()"
   ]
  },
  {
   "cell_type": "code",
   "execution_count": 126,
   "id": "6b7cfe73",
   "metadata": {},
   "outputs": [],
   "source": [
    "url='https://inshorts.com/en/read/business'\n",
    "response = get(url, headers=headers)"
   ]
  },
  {
   "cell_type": "code",
   "execution_count": 127,
   "id": "a5c0e3c6",
   "metadata": {},
   "outputs": [],
   "source": [
    "soup = BeautifulSoup(response.content, 'html.parser')"
   ]
  },
  {
   "cell_type": "code",
   "execution_count": 128,
   "id": "c53c9141",
   "metadata": {},
   "outputs": [
    {
     "data": {
      "text/plain": [
       "<Response [200]>"
      ]
     },
     "execution_count": 128,
     "metadata": {},
     "output_type": "execute_result"
    }
   ],
   "source": [
    "response"
   ]
  },
  {
   "cell_type": "code",
   "execution_count": 129,
   "id": "af32e829",
   "metadata": {
    "scrolled": false
   },
   "outputs": [],
   "source": [
    "links=soup.find_all('a', class_='clickable')"
   ]
  },
  {
   "cell_type": "code",
   "execution_count": 130,
   "id": "6db95804",
   "metadata": {
    "scrolled": false
   },
   "outputs": [
    {
     "data": {
      "text/plain": [
       "[<a class=\"clickable\" href=\"/en/news/sachin-tendulkar-and-his-wife-meet-bill-gates-share-pics-1677601138053\" onclick=\"track_GA_Mixpanel({'hitType': 'event', 'category': 'TitleOfNews', 'action': 'clicked', 'label': 'Sachin%20Tendulkar%20and%20his%20wife%20meet%20Bill%20Gates%3B%20share%20pics)' });\" style=\"color:#44444d!important\">\n",
       " <span itemprop=\"headline\">Sachin Tendulkar and his wife meet Bill Gates; share pics</span>\n",
       " </a>,\n",
       " <a class=\"clickable\" href=\"/en/news/best-wishes-to-my-classmate-writes-gates-in-book-gifted-to-mahindra-latter-shares-pic-1677586425667\" onclick=\"track_GA_Mixpanel({'hitType': 'event', 'category': 'TitleOfNews', 'action': 'clicked', 'label': ''Best%20wishes%20to%20my%20classmate%2C'%20writes%20Gates%20in%20book%20gifted%20to%20Mahindra%2C%20latter%20shares%20pic)' });\" style=\"color:#44444d!important\">\n",
       " <span itemprop=\"headline\">'Best wishes to my classmate,' writes Gates in book gifted to Mahindra, latter shares pic</span>\n",
       " </a>,\n",
       " <a class=\"clickable\" href=\"/en/news/people-consuming-30-gb-and-paying-almost-nothing-airtels-mittal-1677604915368\" onclick=\"track_GA_Mixpanel({'hitType': 'event', 'category': 'TitleOfNews', 'action': 'clicked', 'label': 'People%20consuming%2030%20GB%20and%20paying%20almost%20nothing%3A%20Airtel's%20Mittal)' });\" style=\"color:#44444d!important\">\n",
       " <span itemprop=\"headline\">People consuming 30 GB and paying almost nothing: Airtel's Mittal</span>\n",
       " </a>,\n",
       " <a class=\"clickable\" href=\"/en/news/apple-supplier-foxlinks-fire-safety-systems-faulty-fire-official-1677589882651\" onclick=\"track_GA_Mixpanel({'hitType': 'event', 'category': 'TitleOfNews', 'action': 'clicked', 'label': 'Apple%20supplier%20Foxlink's%20fire%20safety%20systems%20faulty%3A%20Fire%20official)' });\" style=\"color:#44444d!important\">\n",
       " <span itemprop=\"headline\">Apple supplier Foxlink's fire safety systems faulty: Fire official</span>\n",
       " </a>,\n",
       " <a class=\"clickable\" href=\"/en/news/indias-gdp-growth-slows-down-to-44-in-octdec-quarter-1677587831485\" onclick=\"track_GA_Mixpanel({'hitType': 'event', 'category': 'TitleOfNews', 'action': 'clicked', 'label': 'India's%20GDP%20growth%20slows%20down%20to%204.4%25%20in%20Oct-Dec%20quarter)' });\" style=\"color:#44444d!important\">\n",
       " <span itemprop=\"headline\">India's GDP growth slows down to 4.4% in Oct-Dec quarter</span>\n",
       " </a>,\n",
       " <a class=\"clickable\" href=\"/en/news/apple-supplier-foxlink-declares-30day-holiday-at-firehit-factory-1677602888943\" onclick=\"track_GA_Mixpanel({'hitType': 'event', 'category': 'TitleOfNews', 'action': 'clicked', 'label': 'Apple%20supplier%20Foxlink%20declares%2030-day%20holiday%20at%20fire-hit%20factory)' });\" style=\"color:#44444d!important\">\n",
       " <span itemprop=\"headline\">Apple supplier Foxlink declares 30-day holiday at fire-hit factory</span>\n",
       " </a>,\n",
       " <a class=\"clickable\" href=\"/en/news/govt-aiming-to-pass-telecom-bill-in-monsoon-session-vaishnaw-1677585338057\" onclick=\"track_GA_Mixpanel({'hitType': 'event', 'category': 'TitleOfNews', 'action': 'clicked', 'label': 'Govt%20aiming%20to%20pass%20Telecom%20Bill%20in%20Monsoon%20Session%3A%20Vaishnaw)' });\" style=\"color:#44444d!important\">\n",
       " <span itemprop=\"headline\">Govt aiming to pass Telecom Bill in Monsoon Session: Vaishnaw</span>\n",
       " </a>,\n",
       " <a class=\"clickable\" href=\"/en/news/gujarat-receives-₹40000cr-investment-for-green-energy-projects-1677586735559\" onclick=\"track_GA_Mixpanel({'hitType': 'event', 'category': 'TitleOfNews', 'action': 'clicked', 'label': 'Gujarat%20receives%20%E2%82%B940%2C000-cr%20investment%20for%20green%20energy%20projects)' });\" style=\"color:#44444d!important\">\n",
       " <span itemprop=\"headline\">Gujarat receives ₹40,000-cr investment for green energy projects</span>\n",
       " </a>,\n",
       " <a class=\"clickable\" href=\"/en/news/indias-automobile-making-sector-to-hit-₹15-lakh-cr-soon-gadkari-1677585970301\" onclick=\"track_GA_Mixpanel({'hitType': 'event', 'category': 'TitleOfNews', 'action': 'clicked', 'label': 'India's%20automobile%20making%20sector%20to%20hit%20%E2%82%B915%20lakh%20cr%20soon%3A%20Gadkari)' });\" style=\"color:#44444d!important\">\n",
       " <span itemprop=\"headline\">India's automobile making sector to hit ₹15 lakh cr soon: Gadkari</span>\n",
       " </a>,\n",
       " <a class=\"clickable\" href=\"/en/news/razorpays-revenue-rises-76-in-fy22-in-2nd-straight-profitable-yr-1677594322698\" onclick=\"track_GA_Mixpanel({'hitType': 'event', 'category': 'TitleOfNews', 'action': 'clicked', 'label': 'Razorpay's%20revenue%20rises%2076%25%20in%20FY22%20in%202nd%20straight%20profitable%20yr)' });\" style=\"color:#44444d!important\">\n",
       " <span itemprop=\"headline\">Razorpay's revenue rises 76% in FY22 in 2nd straight profitable yr</span>\n",
       " </a>,\n",
       " <a class=\"clickable\" href=\"/en/news/softbank-to-sell-₹600-cr-delhivery-stake-via-block-deals-report-1677598289516\" onclick=\"track_GA_Mixpanel({'hitType': 'event', 'category': 'TitleOfNews', 'action': 'clicked', 'label': 'SoftBank%20to%20sell%20%E2%82%B9600%20cr%20Delhivery%20stake%20via%20block%20deals%3A%20Report)' });\" style=\"color:#44444d!important\">\n",
       " <span itemprop=\"headline\">SoftBank to sell ₹600 cr Delhivery stake via block deals: Report</span>\n",
       " </a>,\n",
       " <a class=\"clickable\" href=\"/en/news/retail-inflation-for-industrial-workers-hits-616-in-january-1677603647405\" onclick=\"track_GA_Mixpanel({'hitType': 'event', 'category': 'TitleOfNews', 'action': 'clicked', 'label': 'Retail%20inflation%20for%20industrial%20workers%20hits%206.16%25%20in%20January)' });\" style=\"color:#44444d!important\">\n",
       " <span itemprop=\"headline\">Retail inflation for industrial workers hits 6.16% in January</span>\n",
       " </a>,\n",
       " <a class=\"clickable\" href=\"/en/news/turkeys-economy-grew-56-in-2022-growth-may-slow-after-quakes-1677604732045\" onclick=\"track_GA_Mixpanel({'hitType': 'event', 'category': 'TitleOfNews', 'action': 'clicked', 'label': 'Turkey's%20economy%20grows%205.6%25%20in%202022%2C%20growth%20may%20slow%20after%20quakes)' });\" style=\"color:#44444d!important\">\n",
       " <span itemprop=\"headline\">Turkey's economy grows 5.6% in 2022, growth may slow after quakes</span>\n",
       " </a>,\n",
       " <a class=\"clickable\" href=\"/en/news/in-a-first-women-make-up-40-of-boards-at-top-uk-companies-1677604228681\" onclick=\"track_GA_Mixpanel({'hitType': 'event', 'category': 'TitleOfNews', 'action': 'clicked', 'label': 'In%20a%20first%2C%20women%20make%20up%2040%25%20of%20boards%20at%20top%20UK%20companies)' });\" style=\"color:#44444d!important\">\n",
       " <span itemprop=\"headline\">In a first, women make up 40% of boards at top UK companies</span>\n",
       " </a>,\n",
       " <a class=\"clickable\" href=\"/en/news/adani-falls-from-3rd-to-33rd-spot-on-the-rich-list-within-a-month-1677594734115\" onclick=\"track_GA_Mixpanel({'hitType': 'event', 'category': 'TitleOfNews', 'action': 'clicked', 'label': 'Adani%20falls%20from%203rd%20to%2033rd%20spot%20on%20the%20rich%20list%20within%20a%20month)' });\" style=\"color:#44444d!important\">\n",
       " <span itemprop=\"headline\">Adani falls from 3rd to 33rd spot on the rich list within a month</span>\n",
       " </a>,\n",
       " <a class=\"clickable\" href=\"/en/news/ril-sets-up-subsidiary-to-develop-commercial-properties-1677602020266\" onclick=\"track_GA_Mixpanel({'hitType': 'event', 'category': 'TitleOfNews', 'action': 'clicked', 'label': 'RIL%20sets%20up%20subsidiary%20to%20develop%20commercial%20properties)' });\" style=\"color:#44444d!important\">\n",
       " <span itemprop=\"headline\">RIL sets up subsidiary to develop commercial properties</span>\n",
       " </a>,\n",
       " <a class=\"clickable\" href=\"/en/news/oil-tankers-bulk-carriers-over-25-yrs-old-banned-to-cut-emissions-1677595018513\" onclick=\"track_GA_Mixpanel({'hitType': 'event', 'category': 'TitleOfNews', 'action': 'clicked', 'label': 'Oil%20tankers%2C%20bulk%20carriers%20over%2025%20yrs%20old%20banned%20to%20cut%20emissions)' });\" style=\"color:#44444d!important\">\n",
       " <span itemprop=\"headline\">Oil tankers, bulk carriers over 25 yrs old banned to cut emissions</span>\n",
       " </a>,\n",
       " <a class=\"clickable\" href=\"/en/news/sebi-cancels-registration-of-4-brokers-in-nsel-case-1677604268011\" onclick=\"track_GA_Mixpanel({'hitType': 'event', 'category': 'TitleOfNews', 'action': 'clicked', 'label': 'SEBI%20cancels%20registration%20of%204%20brokers%20in%20NSEL%20case)' });\" style=\"color:#44444d!important\">\n",
       " <span itemprop=\"headline\">SEBI cancels registration of 4 brokers in NSEL case</span>\n",
       " </a>,\n",
       " <a class=\"clickable\" href=\"/en/news/india-kept-its-interest-at-the-top-in-importing-cheaper-fuel-fm-1677597727736\" onclick=\"track_GA_Mixpanel({'hitType': 'event', 'category': 'TitleOfNews', 'action': 'clicked', 'label': 'India%20kept%20its%20interest%20at%20the%20top%20in%20importing%20cheaper%20fuel%3A%20FM)' });\" style=\"color:#44444d!important\">\n",
       " <span itemprop=\"headline\">India kept its interest at the top in importing cheaper fuel: FM</span>\n",
       " </a>,\n",
       " <a class=\"clickable\" href=\"/en/news/gdp-to-likely-grow-7-in-fy23-second-advance-estimates-1677600657580\" onclick=\"track_GA_Mixpanel({'hitType': 'event', 'category': 'TitleOfNews', 'action': 'clicked', 'label': 'GDP%20to%20likely%20grow%207%25%20in%20FY23%3A%20Second%20advance%20estimates)' });\" style=\"color:#44444d!important\">\n",
       " <span itemprop=\"headline\">GDP to likely grow 7% in FY23: Second advance estimates</span>\n",
       " </a>,\n",
       " <a class=\"clickable\" href=\"/en/news/indias-fiscal-deficit-grows-to-₹1191-lakh-cr-in-apriljanuary-1677585219012\" onclick=\"track_GA_Mixpanel({'hitType': 'event', 'category': 'TitleOfNews', 'action': 'clicked', 'label': 'India's%20fiscal%20deficit%20grows%20to%20%E2%82%B911.91%20lakh%20cr%20in%20April-January)' });\" style=\"color:#44444d!important\">\n",
       " <span itemprop=\"headline\">India's fiscal deficit grows to ₹11.91 lakh cr in April-January</span>\n",
       " </a>,\n",
       " <a class=\"clickable\" href=\"/en/news/indias-core-sector-growth-rises-to-4month-high-at-78-in-jan-1677588968241\" onclick=\"track_GA_Mixpanel({'hitType': 'event', 'category': 'TitleOfNews', 'action': 'clicked', 'label': 'India's%20core%20sector%20growth%20rises%20to%204-month%20high%20at%207.8%25%20in%20Jan)' });\" style=\"color:#44444d!important\">\n",
       " <span itemprop=\"headline\">India's core sector growth rises to 4-month high at 7.8% in Jan</span>\n",
       " </a>,\n",
       " <a class=\"clickable\" href=\"/en/news/moodys-slashes-paks-rating-to-caa3-changes-outlook-to-stable-1677591113103\" onclick=\"track_GA_Mixpanel({'hitType': 'event', 'category': 'TitleOfNews', 'action': 'clicked', 'label': 'Moody's%20slashes%20Pak's%20rating%20to%20'Caa3'%2C%20changes%20outlook%20to%20stable)' });\" style=\"color:#44444d!important\">\n",
       " <span itemprop=\"headline\">Moody's slashes Pak's rating to 'Caa3', changes outlook to stable</span>\n",
       " </a>,\n",
       " <a class=\"clickable\" href=\"/en/news/hdfc-punjab-national-bank-hike-lending-rates-by-up-to-25-bps-1677601633036\" onclick=\"track_GA_Mixpanel({'hitType': 'event', 'category': 'TitleOfNews', 'action': 'clicked', 'label': 'HDFC%2C%20Punjab%20National%20Bank%20hike%20lending%20rates%20by%20up%20to%2025%20bps)' });\" style=\"color:#44444d!important\">\n",
       " <span itemprop=\"headline\">HDFC, Punjab National Bank hike lending rates by up to 25 bps</span>\n",
       " </a>,\n",
       " <a class=\"clickable\" href=\"/en/news/indias-manufacturing-sector-is-in-good-health-cea-nageswaran-1677604920994\" onclick=\"track_GA_Mixpanel({'hitType': 'event', 'category': 'TitleOfNews', 'action': 'clicked', 'label': 'India's%20manufacturing%20sector%20is%20in%20'good%20health'%3A%20CEA%20Nageswaran)' });\" style=\"color:#44444d!important\">\n",
       " <span itemprop=\"headline\">India's manufacturing sector is in 'good health': CEA Nageswaran</span>\n",
       " </a>]"
      ]
     },
     "execution_count": 130,
     "metadata": {},
     "output_type": "execute_result"
    }
   ],
   "source": [
    "links"
   ]
  },
  {
   "cell_type": "code",
   "execution_count": 135,
   "id": "9f161bf9",
   "metadata": {
    "scrolled": false
   },
   "outputs": [
    {
     "name": "stdout",
     "output_type": "stream",
     "text": [
      "https://inshorts.com/en/read/business/en/news/sachin-tendulkar-and-his-wife-meet-bill-gates-share-pics-1677601138053\n",
      "https://inshorts.com/en/read/business/en/news/best-wishes-to-my-classmate-writes-gates-in-book-gifted-to-mahindra-latter-shares-pic-1677586425667\n",
      "https://inshorts.com/en/read/business/en/news/people-consuming-30-gb-and-paying-almost-nothing-airtels-mittal-1677604915368\n",
      "https://inshorts.com/en/read/business/en/news/apple-supplier-foxlinks-fire-safety-systems-faulty-fire-official-1677589882651\n",
      "https://inshorts.com/en/read/business/en/news/indias-gdp-growth-slows-down-to-44-in-octdec-quarter-1677587831485\n",
      "https://inshorts.com/en/read/business/en/news/apple-supplier-foxlink-declares-30day-holiday-at-firehit-factory-1677602888943\n",
      "https://inshorts.com/en/read/business/en/news/govt-aiming-to-pass-telecom-bill-in-monsoon-session-vaishnaw-1677585338057\n",
      "https://inshorts.com/en/read/business/en/news/gujarat-receives-₹40000cr-investment-for-green-energy-projects-1677586735559\n",
      "https://inshorts.com/en/read/business/en/news/indias-automobile-making-sector-to-hit-₹15-lakh-cr-soon-gadkari-1677585970301\n",
      "https://inshorts.com/en/read/business/en/news/razorpays-revenue-rises-76-in-fy22-in-2nd-straight-profitable-yr-1677594322698\n",
      "https://inshorts.com/en/read/business/en/news/softbank-to-sell-₹600-cr-delhivery-stake-via-block-deals-report-1677598289516\n",
      "https://inshorts.com/en/read/business/en/news/retail-inflation-for-industrial-workers-hits-616-in-january-1677603647405\n",
      "https://inshorts.com/en/read/business/en/news/turkeys-economy-grew-56-in-2022-growth-may-slow-after-quakes-1677604732045\n",
      "https://inshorts.com/en/read/business/en/news/in-a-first-women-make-up-40-of-boards-at-top-uk-companies-1677604228681\n",
      "https://inshorts.com/en/read/business/en/news/adani-falls-from-3rd-to-33rd-spot-on-the-rich-list-within-a-month-1677594734115\n",
      "https://inshorts.com/en/read/business/en/news/ril-sets-up-subsidiary-to-develop-commercial-properties-1677602020266\n",
      "https://inshorts.com/en/read/business/en/news/oil-tankers-bulk-carriers-over-25-yrs-old-banned-to-cut-emissions-1677595018513\n",
      "https://inshorts.com/en/read/business/en/news/sebi-cancels-registration-of-4-brokers-in-nsel-case-1677604268011\n",
      "https://inshorts.com/en/read/business/en/news/india-kept-its-interest-at-the-top-in-importing-cheaper-fuel-fm-1677597727736\n",
      "https://inshorts.com/en/read/business/en/news/gdp-to-likely-grow-7-in-fy23-second-advance-estimates-1677600657580\n",
      "https://inshorts.com/en/read/business/en/news/indias-fiscal-deficit-grows-to-₹1191-lakh-cr-in-apriljanuary-1677585219012\n",
      "https://inshorts.com/en/read/business/en/news/indias-core-sector-growth-rises-to-4month-high-at-78-in-jan-1677588968241\n",
      "https://inshorts.com/en/read/business/en/news/moodys-slashes-paks-rating-to-caa3-changes-outlook-to-stable-1677591113103\n",
      "https://inshorts.com/en/read/business/en/news/hdfc-punjab-national-bank-hike-lending-rates-by-up-to-25-bps-1677601633036\n",
      "https://inshorts.com/en/read/business/en/news/indias-manufacturing-sector-is-in-good-health-cea-nageswaran-1677604920994\n"
     ]
    }
   ],
   "source": [
    "for a in soup.find_all('a', href=True, class_='clickable'):\n",
    "    print (\"https://inshorts.com/en/read/business\"+a['href'])"
   ]
  },
  {
   "cell_type": "code",
   "execution_count": 229,
   "id": "c1d816eb",
   "metadata": {},
   "outputs": [],
   "source": [
    "url ='https://inshorts.com/en/news/sachin-tendulkar-and-his-wife-meet-bill-gates-share-pics-1677601138053'\n",
    "response = get(url)"
   ]
  },
  {
   "cell_type": "code",
   "execution_count": 230,
   "id": "51c96598",
   "metadata": {},
   "outputs": [
    {
     "data": {
      "text/plain": [
       "<Response [200]>"
      ]
     },
     "execution_count": 230,
     "metadata": {},
     "output_type": "execute_result"
    }
   ],
   "source": [
    "response"
   ]
  },
  {
   "cell_type": "code",
   "execution_count": 231,
   "id": "e6941b3f",
   "metadata": {},
   "outputs": [],
   "source": [
    "soup = BeautifulSoup(response.content, 'html.parser')"
   ]
  },
  {
   "cell_type": "code",
   "execution_count": 233,
   "id": "17ec783f",
   "metadata": {
    "scrolled": false
   },
   "outputs": [
    {
     "data": {
      "text/plain": [
       "'Sachin Tendulkar and his wife meet Bill Gates; share pics'"
      ]
     },
     "execution_count": 233,
     "metadata": {},
     "output_type": "execute_result"
    }
   ],
   "source": [
    "soup.find('span',itemprop=\"headline\").text"
   ]
  },
  {
   "cell_type": "code",
   "execution_count": 234,
   "id": "f1376277",
   "metadata": {},
   "outputs": [
    {
     "data": {
      "text/plain": [
       "'Business'"
      ]
     },
     "execution_count": 234,
     "metadata": {},
     "output_type": "execute_result"
    }
   ],
   "source": [
    "soup.find_all('li', class_='active-category')[2].text"
   ]
  },
  {
   "cell_type": "code",
   "execution_count": 235,
   "id": "964c1805",
   "metadata": {},
   "outputs": [
    {
     "data": {
      "text/plain": [
       "'Former cricketer Sachin Tendulkar and his wife Anjali Tendulkar met with Microsoft Co-founder Bill Gates in Mumbai on Tuesday. Sharing pictures of the meeting on social media, Sachin Tendulkar wrote, \"We are all students for life. Today was a wonderful learning opportunity to gain perspectives on philanthropy - including children\\'s healthcare, which our Foundation works on.\" '"
      ]
     },
     "execution_count": 235,
     "metadata": {},
     "output_type": "execute_result"
    }
   ],
   "source": [
    "soup.find('div', itemprop='articleBody').text"
   ]
  },
  {
   "cell_type": "code",
   "execution_count": 136,
   "id": "97af6d5b",
   "metadata": {},
   "outputs": [],
   "source": [
    "articles=[]\n",
    "for a in soup.find_all('a', href=True, class_='clickable'):\n",
    "    articles.append(\"https://inshorts.com/en/read/business\"+a['href'])\n",
    "    "
   ]
  },
  {
   "cell_type": "code",
   "execution_count": 137,
   "id": "a3aad449",
   "metadata": {
    "scrolled": true
   },
   "outputs": [
    {
     "data": {
      "text/plain": [
       "['https://inshorts.com/en/read/business/en/news/sachin-tendulkar-and-his-wife-meet-bill-gates-share-pics-1677601138053',\n",
       " 'https://inshorts.com/en/read/business/en/news/best-wishes-to-my-classmate-writes-gates-in-book-gifted-to-mahindra-latter-shares-pic-1677586425667',\n",
       " 'https://inshorts.com/en/read/business/en/news/people-consuming-30-gb-and-paying-almost-nothing-airtels-mittal-1677604915368',\n",
       " 'https://inshorts.com/en/read/business/en/news/apple-supplier-foxlinks-fire-safety-systems-faulty-fire-official-1677589882651',\n",
       " 'https://inshorts.com/en/read/business/en/news/indias-gdp-growth-slows-down-to-44-in-octdec-quarter-1677587831485',\n",
       " 'https://inshorts.com/en/read/business/en/news/apple-supplier-foxlink-declares-30day-holiday-at-firehit-factory-1677602888943',\n",
       " 'https://inshorts.com/en/read/business/en/news/govt-aiming-to-pass-telecom-bill-in-monsoon-session-vaishnaw-1677585338057',\n",
       " 'https://inshorts.com/en/read/business/en/news/gujarat-receives-₹40000cr-investment-for-green-energy-projects-1677586735559',\n",
       " 'https://inshorts.com/en/read/business/en/news/indias-automobile-making-sector-to-hit-₹15-lakh-cr-soon-gadkari-1677585970301',\n",
       " 'https://inshorts.com/en/read/business/en/news/razorpays-revenue-rises-76-in-fy22-in-2nd-straight-profitable-yr-1677594322698',\n",
       " 'https://inshorts.com/en/read/business/en/news/softbank-to-sell-₹600-cr-delhivery-stake-via-block-deals-report-1677598289516',\n",
       " 'https://inshorts.com/en/read/business/en/news/retail-inflation-for-industrial-workers-hits-616-in-january-1677603647405',\n",
       " 'https://inshorts.com/en/read/business/en/news/turkeys-economy-grew-56-in-2022-growth-may-slow-after-quakes-1677604732045',\n",
       " 'https://inshorts.com/en/read/business/en/news/in-a-first-women-make-up-40-of-boards-at-top-uk-companies-1677604228681',\n",
       " 'https://inshorts.com/en/read/business/en/news/adani-falls-from-3rd-to-33rd-spot-on-the-rich-list-within-a-month-1677594734115',\n",
       " 'https://inshorts.com/en/read/business/en/news/ril-sets-up-subsidiary-to-develop-commercial-properties-1677602020266',\n",
       " 'https://inshorts.com/en/read/business/en/news/oil-tankers-bulk-carriers-over-25-yrs-old-banned-to-cut-emissions-1677595018513',\n",
       " 'https://inshorts.com/en/read/business/en/news/sebi-cancels-registration-of-4-brokers-in-nsel-case-1677604268011',\n",
       " 'https://inshorts.com/en/read/business/en/news/india-kept-its-interest-at-the-top-in-importing-cheaper-fuel-fm-1677597727736',\n",
       " 'https://inshorts.com/en/read/business/en/news/gdp-to-likely-grow-7-in-fy23-second-advance-estimates-1677600657580',\n",
       " 'https://inshorts.com/en/read/business/en/news/indias-fiscal-deficit-grows-to-₹1191-lakh-cr-in-apriljanuary-1677585219012',\n",
       " 'https://inshorts.com/en/read/business/en/news/indias-core-sector-growth-rises-to-4month-high-at-78-in-jan-1677588968241',\n",
       " 'https://inshorts.com/en/read/business/en/news/moodys-slashes-paks-rating-to-caa3-changes-outlook-to-stable-1677591113103',\n",
       " 'https://inshorts.com/en/read/business/en/news/hdfc-punjab-national-bank-hike-lending-rates-by-up-to-25-bps-1677601633036',\n",
       " 'https://inshorts.com/en/read/business/en/news/indias-manufacturing-sector-is-in-good-health-cea-nageswaran-1677604920994']"
      ]
     },
     "execution_count": 137,
     "metadata": {},
     "output_type": "execute_result"
    }
   ],
   "source": [
    "articles"
   ]
  },
  {
   "cell_type": "code",
   "execution_count": 236,
   "id": "9c0bebfa",
   "metadata": {
    "scrolled": true
   },
   "outputs": [],
   "source": [
    "def business_art():\n",
    "    articles=[]\n",
    "    url='https://inshorts.com/en/read/business'\n",
    "    response = get(url)\n",
    "    soup = BeautifulSoup(response.content, 'html.parser')\n",
    "    for a in soup.find_all('a', href=True, class_='clickable'):\n",
    "        articles.append(\"https://inshorts.com/en/read/business\"+a['href'])\n",
    "    return articles\n",
    "\n",
    "    \n",
    "def business_s(articles):\n",
    "    my_dict={'title':[], 'text':[], 'category': []}\n",
    "    for x in articles:\n",
    "        url=x\n",
    "        response = get(url)\n",
    "        soup = BeautifulSoup(response.content, 'html.parser')\n",
    "        my_dict['title'].append(soup.find('span',itemprop=\"headline\").text)\n",
    "    return my_dict"
   ]
  },
  {
   "cell_type": "code",
   "execution_count": null,
   "id": "77d2b915",
   "metadata": {},
   "outputs": [],
   "source": [
    "## put dict in the for loop and add a list outside the loop to .extend. Add print statements to figure out\n",
    "## where the second function is going wrong."
   ]
  },
  {
   "cell_type": "code",
   "execution_count": 237,
   "id": "171e8c63",
   "metadata": {},
   "outputs": [],
   "source": [
    "articles=business_art()"
   ]
  },
  {
   "cell_type": "code",
   "execution_count": 238,
   "id": "d571b8ea",
   "metadata": {},
   "outputs": [
    {
     "data": {
      "text/plain": [
       "['https://inshorts.com/en/read/business/en/news/sachin-tendulkar-and-his-wife-meet-bill-gates-share-pics-1677601138053',\n",
       " 'https://inshorts.com/en/read/business/en/news/best-wishes-to-my-classmate-writes-gates-in-book-gifted-to-mahindra-latter-shares-pic-1677586425667',\n",
       " 'https://inshorts.com/en/read/business/en/news/ambanis-should-get-z+-security-cover-across-india-abroad-cost-to-be-borne-by-them-sc-1677606648772',\n",
       " 'https://inshorts.com/en/read/business/en/news/people-consuming-30-gb-and-paying-almost-nothing-airtels-mittal-1677604915368',\n",
       " 'https://inshorts.com/en/read/business/en/news/indias-gdp-growth-slows-down-to-44-in-octdec-quarter-1677587831485',\n",
       " 'https://inshorts.com/en/read/business/en/news/apple-supplier-foxlinks-fire-safety-systems-faulty-fire-official-1677589882651',\n",
       " 'https://inshorts.com/en/read/business/en/news/gujarat-receives-₹40000cr-investment-for-green-energy-projects-1677586735559',\n",
       " 'https://inshorts.com/en/read/business/en/news/govt-aiming-to-pass-telecom-bill-in-monsoon-session-vaishnaw-1677585338057',\n",
       " 'https://inshorts.com/en/read/business/en/news/apple-supplier-foxlink-declares-30day-holiday-at-firehit-factory-1677602888943',\n",
       " 'https://inshorts.com/en/read/business/en/news/razorpays-revenue-rises-76-in-fy22-in-2nd-straight-profitable-yr-1677594322698',\n",
       " 'https://inshorts.com/en/read/business/en/news/softbank-to-sell-₹600-cr-delhivery-stake-via-block-deals-report-1677598289516',\n",
       " 'https://inshorts.com/en/read/business/en/news/indias-automobile-making-sector-to-hit-₹15-lakh-cr-soon-gadkari-1677585970301',\n",
       " 'https://inshorts.com/en/read/business/en/news/retail-inflation-for-industrial-workers-hits-616-in-january-1677603647405',\n",
       " 'https://inshorts.com/en/read/business/en/news/turkeys-economy-grew-56-in-2022-growth-may-slow-after-quakes-1677604732045',\n",
       " 'https://inshorts.com/en/read/business/en/news/adani-falls-from-3rd-to-33rd-spot-on-the-rich-list-within-a-month-1677594734115',\n",
       " 'https://inshorts.com/en/read/business/en/news/oil-tankers-bulk-carriers-over-25-yrs-old-banned-to-cut-emissions-1677595018513',\n",
       " 'https://inshorts.com/en/read/business/en/news/moodys-slashes-paks-rating-to-caa3-changes-outlook-to-stable-1677591113103',\n",
       " 'https://inshorts.com/en/read/business/en/news/in-a-first-women-make-up-40-of-boards-at-top-uk-companies-1677604228681',\n",
       " 'https://inshorts.com/en/read/business/en/news/indias-manufacturing-sector-is-in-good-health-cea-nageswaran-1677604920994',\n",
       " 'https://inshorts.com/en/read/business/en/news/gdp-to-likely-grow-7-in-fy23-second-advance-estimates-1677600657580',\n",
       " 'https://inshorts.com/en/read/business/en/news/indias-core-sector-growth-rises-to-4month-high-at-78-in-jan-1677588968241',\n",
       " 'https://inshorts.com/en/read/business/en/news/india-kept-its-interest-at-the-top-in-importing-cheaper-fuel-fm-1677597727736',\n",
       " 'https://inshorts.com/en/read/business/en/news/hdfc-punjab-national-bank-hike-lending-rates-by-up-to-25-bps-1677601633036',\n",
       " 'https://inshorts.com/en/read/business/en/news/sebi-cancels-registration-of-4-brokers-in-nsel-case-1677604268011',\n",
       " 'https://inshorts.com/en/read/business/en/news/ril-sets-up-subsidiary-to-develop-commercial-properties-1677602020266']"
      ]
     },
     "execution_count": 238,
     "metadata": {},
     "output_type": "execute_result"
    }
   ],
   "source": [
    "articles"
   ]
  },
  {
   "cell_type": "code",
   "execution_count": 239,
   "id": "d891ac59",
   "metadata": {},
   "outputs": [
    {
     "ename": "AttributeError",
     "evalue": "'NoneType' object has no attribute 'text'",
     "output_type": "error",
     "traceback": [
      "\u001b[0;31m---------------------------------------------------------------------------\u001b[0m",
      "\u001b[0;31mAttributeError\u001b[0m                            Traceback (most recent call last)",
      "Input \u001b[0;32mIn [239]\u001b[0m, in \u001b[0;36m<cell line: 1>\u001b[0;34m()\u001b[0m\n\u001b[0;32m----> 1\u001b[0m my_dict\u001b[38;5;241m=\u001b[39m\u001b[43mbusiness_s\u001b[49m\u001b[43m(\u001b[49m\u001b[43marticles\u001b[49m\u001b[43m)\u001b[49m\n",
      "Input \u001b[0;32mIn [236]\u001b[0m, in \u001b[0;36mbusiness_s\u001b[0;34m(articles)\u001b[0m\n\u001b[1;32m     15\u001b[0m     response \u001b[38;5;241m=\u001b[39m get(url)\n\u001b[1;32m     16\u001b[0m     soup \u001b[38;5;241m=\u001b[39m BeautifulSoup(response\u001b[38;5;241m.\u001b[39mcontent, \u001b[38;5;124m'\u001b[39m\u001b[38;5;124mhtml.parser\u001b[39m\u001b[38;5;124m'\u001b[39m)\n\u001b[0;32m---> 17\u001b[0m     my_dict[\u001b[38;5;124m'\u001b[39m\u001b[38;5;124mtitle\u001b[39m\u001b[38;5;124m'\u001b[39m]\u001b[38;5;241m.\u001b[39mappend(\u001b[43msoup\u001b[49m\u001b[38;5;241;43m.\u001b[39;49m\u001b[43mfind\u001b[49m\u001b[43m(\u001b[49m\u001b[38;5;124;43m'\u001b[39;49m\u001b[38;5;124;43mspan\u001b[39;49m\u001b[38;5;124;43m'\u001b[39;49m\u001b[43m,\u001b[49m\u001b[43mitemprop\u001b[49m\u001b[38;5;241;43m=\u001b[39;49m\u001b[38;5;124;43m\"\u001b[39;49m\u001b[38;5;124;43mheadline\u001b[39;49m\u001b[38;5;124;43m\"\u001b[39;49m\u001b[43m)\u001b[49m\u001b[38;5;241;43m.\u001b[39;49m\u001b[43mtext\u001b[49m)\n\u001b[1;32m     18\u001b[0m \u001b[38;5;28;01mreturn\u001b[39;00m my_dict\n",
      "\u001b[0;31mAttributeError\u001b[0m: 'NoneType' object has no attribute 'text'"
     ]
    }
   ],
   "source": [
    "my_dict=business_s(articles)"
   ]
  },
  {
   "cell_type": "code",
   "execution_count": 227,
   "id": "6ed06902",
   "metadata": {},
   "outputs": [
    {
     "data": {
      "text/plain": [
       "{'title': [None,\n",
       "  None,\n",
       "  None,\n",
       "  None,\n",
       "  None,\n",
       "  None,\n",
       "  None,\n",
       "  None,\n",
       "  None,\n",
       "  None,\n",
       "  None,\n",
       "  None,\n",
       "  None,\n",
       "  None,\n",
       "  None,\n",
       "  None,\n",
       "  None,\n",
       "  None,\n",
       "  None,\n",
       "  None,\n",
       "  None,\n",
       "  None,\n",
       "  None,\n",
       "  None,\n",
       "  None],\n",
       " 'text': [],\n",
       " 'category': []}"
      ]
     },
     "execution_count": 227,
     "metadata": {},
     "output_type": "execute_result"
    }
   ],
   "source": [
    "my_dict"
   ]
  },
  {
   "cell_type": "code",
   "execution_count": 212,
   "id": "6ed248a6",
   "metadata": {},
   "outputs": [
    {
     "ename": "AttributeError",
     "evalue": "'NoneType' object has no attribute 'text'",
     "output_type": "error",
     "traceback": [
      "\u001b[0;31m---------------------------------------------------------------------------\u001b[0m",
      "\u001b[0;31mAttributeError\u001b[0m                            Traceback (most recent call last)",
      "Input \u001b[0;32mIn [212]\u001b[0m, in \u001b[0;36m<cell line: 1>\u001b[0;34m()\u001b[0m\n\u001b[1;32m      2\u001b[0m response \u001b[38;5;241m=\u001b[39m get(x)\n\u001b[1;32m      3\u001b[0m soup \u001b[38;5;241m=\u001b[39m BeautifulSoup(response\u001b[38;5;241m.\u001b[39mcontent, \u001b[38;5;124m'\u001b[39m\u001b[38;5;124mhtml.parser\u001b[39m\u001b[38;5;124m'\u001b[39m)\n\u001b[0;32m----> 5\u001b[0m g\u001b[38;5;241m=\u001b[39m\u001b[43msoup\u001b[49m\u001b[38;5;241;43m.\u001b[39;49m\u001b[43mfind\u001b[49m\u001b[43m(\u001b[49m\u001b[38;5;124;43m'\u001b[39;49m\u001b[38;5;124;43mspan\u001b[39;49m\u001b[38;5;124;43m'\u001b[39;49m\u001b[43m,\u001b[49m\u001b[43mitemprop\u001b[49m\u001b[38;5;241;43m=\u001b[39;49m\u001b[38;5;124;43m\"\u001b[39;49m\u001b[38;5;124;43mheadline\u001b[39;49m\u001b[38;5;124;43m\"\u001b[39;49m\u001b[43m)\u001b[49m\u001b[38;5;241;43m.\u001b[39;49m\u001b[43mtext\u001b[49m\n\u001b[1;32m      6\u001b[0m h\u001b[38;5;241m=\u001b[39msoup\u001b[38;5;241m.\u001b[39mfind(\u001b[38;5;124m'\u001b[39m\u001b[38;5;124mdiv\u001b[39m\u001b[38;5;124m'\u001b[39m, itemprop\u001b[38;5;241m=\u001b[39m\u001b[38;5;124m'\u001b[39m\u001b[38;5;124marticleBody\u001b[39m\u001b[38;5;124m'\u001b[39m)\u001b[38;5;241m.\u001b[39mtext\n\u001b[1;32m      7\u001b[0m j\u001b[38;5;241m=\u001b[39msoup\u001b[38;5;241m.\u001b[39mfind_all(\u001b[38;5;124m'\u001b[39m\u001b[38;5;124mli\u001b[39m\u001b[38;5;124m'\u001b[39m, class_\u001b[38;5;241m=\u001b[39m\u001b[38;5;124m'\u001b[39m\u001b[38;5;124mactive-category\u001b[39m\u001b[38;5;124m'\u001b[39m)[\u001b[38;5;241m2\u001b[39m]\u001b[38;5;241m.\u001b[39mtext\n",
      "\u001b[0;31mAttributeError\u001b[0m: 'NoneType' object has no attribute 'text'"
     ]
    }
   ],
   "source": [
    "for x in articles:\n",
    "    response = get(x)\n",
    "    soup = BeautifulSoup(response.content, 'html.parser')\n",
    "        \n",
    "    g=soup.find('span',itemprop=\"headline\").text\n",
    "    h=soup.find('div', itemprop='articleBody').text\n",
    "    j=soup.find_all('li', class_='active-category')[2].text\n",
    "\n",
    "    my_dict['title'].append(g)\n",
    "    my_dict['text'].append(h)\n",
    "    my_dict['category'].append(j)"
   ]
  },
  {
   "cell_type": "code",
   "execution_count": 196,
   "id": "17b19ad0",
   "metadata": {},
   "outputs": [
    {
     "ename": "AttributeError",
     "evalue": "'NoneType' object has no attribute 'text'",
     "output_type": "error",
     "traceback": [
      "\u001b[0;31m---------------------------------------------------------------------------\u001b[0m",
      "\u001b[0;31mAttributeError\u001b[0m                            Traceback (most recent call last)",
      "Input \u001b[0;32mIn [196]\u001b[0m, in \u001b[0;36m<cell line: 1>\u001b[0;34m()\u001b[0m\n\u001b[0;32m----> 1\u001b[0m \u001b[43msoup\u001b[49m\u001b[38;5;241;43m.\u001b[39;49m\u001b[43mfind\u001b[49m\u001b[43m(\u001b[49m\u001b[38;5;124;43m'\u001b[39;49m\u001b[38;5;124;43mspan\u001b[39;49m\u001b[38;5;124;43m'\u001b[39;49m\u001b[43m,\u001b[49m\u001b[43mitemprop\u001b[49m\u001b[38;5;241;43m=\u001b[39;49m\u001b[38;5;124;43m\"\u001b[39;49m\u001b[38;5;124;43mheadline\u001b[39;49m\u001b[38;5;124;43m\"\u001b[39;49m\u001b[43m)\u001b[49m\u001b[38;5;241;43m.\u001b[39;49m\u001b[43mtext\u001b[49m\n",
      "\u001b[0;31mAttributeError\u001b[0m: 'NoneType' object has no attribute 'text'"
     ]
    }
   ],
   "source": [
    "soup.find('span',itemprop=\"headline\").text"
   ]
  },
  {
   "cell_type": "code",
   "execution_count": 198,
   "id": "093ea0dd",
   "metadata": {},
   "outputs": [
    {
     "data": {
      "text/plain": [
       "['https://inshorts.com/en/read/business/en/news/sachin-tendulkar-and-his-wife-meet-bill-gates-share-pics-1677601138053',\n",
       " 'https://inshorts.com/en/read/business/en/news/best-wishes-to-my-classmate-writes-gates-in-book-gifted-to-mahindra-latter-shares-pic-1677586425667',\n",
       " 'https://inshorts.com/en/read/business/en/news/ambanis-should-get-z+-security-cover-across-india-abroad-cost-to-be-borne-by-them-sc-1677606648772',\n",
       " 'https://inshorts.com/en/read/business/en/news/people-consuming-30-gb-and-paying-almost-nothing-airtels-mittal-1677604915368',\n",
       " 'https://inshorts.com/en/read/business/en/news/apple-supplier-foxlinks-fire-safety-systems-faulty-fire-official-1677589882651',\n",
       " 'https://inshorts.com/en/read/business/en/news/indias-gdp-growth-slows-down-to-44-in-octdec-quarter-1677587831485',\n",
       " 'https://inshorts.com/en/read/business/en/news/govt-aiming-to-pass-telecom-bill-in-monsoon-session-vaishnaw-1677585338057',\n",
       " 'https://inshorts.com/en/read/business/en/news/apple-supplier-foxlink-declares-30day-holiday-at-firehit-factory-1677602888943',\n",
       " 'https://inshorts.com/en/read/business/en/news/gujarat-receives-₹40000cr-investment-for-green-energy-projects-1677586735559',\n",
       " 'https://inshorts.com/en/read/business/en/news/softbank-to-sell-₹600-cr-delhivery-stake-via-block-deals-report-1677598289516',\n",
       " 'https://inshorts.com/en/read/business/en/news/indias-automobile-making-sector-to-hit-₹15-lakh-cr-soon-gadkari-1677585970301',\n",
       " 'https://inshorts.com/en/read/business/en/news/razorpays-revenue-rises-76-in-fy22-in-2nd-straight-profitable-yr-1677594322698',\n",
       " 'https://inshorts.com/en/read/business/en/news/retail-inflation-for-industrial-workers-hits-616-in-january-1677603647405',\n",
       " 'https://inshorts.com/en/read/business/en/news/turkeys-economy-grew-56-in-2022-growth-may-slow-after-quakes-1677604732045',\n",
       " 'https://inshorts.com/en/read/business/en/news/sebi-cancels-registration-of-4-brokers-in-nsel-case-1677604268011',\n",
       " 'https://inshorts.com/en/read/business/en/news/indias-manufacturing-sector-is-in-good-health-cea-nageswaran-1677604920994',\n",
       " 'https://inshorts.com/en/read/business/en/news/moodys-slashes-paks-rating-to-caa3-changes-outlook-to-stable-1677591113103',\n",
       " 'https://inshorts.com/en/read/business/en/news/oil-tankers-bulk-carriers-over-25-yrs-old-banned-to-cut-emissions-1677595018513',\n",
       " 'https://inshorts.com/en/read/business/en/news/gdp-to-likely-grow-7-in-fy23-second-advance-estimates-1677600657580',\n",
       " 'https://inshorts.com/en/read/business/en/news/adani-falls-from-3rd-to-33rd-spot-on-the-rich-list-within-a-month-1677594734115',\n",
       " 'https://inshorts.com/en/read/business/en/news/india-kept-its-interest-at-the-top-in-importing-cheaper-fuel-fm-1677597727736',\n",
       " 'https://inshorts.com/en/read/business/en/news/hdfc-punjab-national-bank-hike-lending-rates-by-up-to-25-bps-1677601633036',\n",
       " 'https://inshorts.com/en/read/business/en/news/indias-core-sector-growth-rises-to-4month-high-at-78-in-jan-1677588968241',\n",
       " 'https://inshorts.com/en/read/business/en/news/ril-sets-up-subsidiary-to-develop-commercial-properties-1677602020266',\n",
       " 'https://inshorts.com/en/read/business/en/news/in-a-first-women-make-up-40-of-boards-at-top-uk-companies-1677604228681']"
      ]
     },
     "execution_count": 198,
     "metadata": {},
     "output_type": "execute_result"
    }
   ],
   "source": [
    "articles"
   ]
  },
  {
   "cell_type": "code",
   "execution_count": 183,
   "id": "4f1486d4",
   "metadata": {},
   "outputs": [],
   "source": [
    "def get_business():\n",
    "    articles=[]\n",
    "    my_dict={'title':[], 'text':[], 'category': []}\n",
    "    url='https://inshorts.com/en/read/business'\n",
    "    response = get(url)\n",
    "    soup = BeautifulSoup(response.content, 'html.parser')\n",
    "    for a in soup.find_all('a', href=True, class_='clickable'):\n",
    "        articles.append(\"https://inshorts.com/en/read/business\"+a['href'])\n",
    "    for x in articles:\n",
    "        response = get(x)\n",
    "        soup = BeautifulSoup(response.content, 'html.parser')\n",
    "        \n",
    "        g=soup.find('span',itemprop=\"headline\").text\n",
    "        h=soup.find('div', itemprop='articleBody').text\n",
    "        j=soup.find_all('li', class_='active-category')[2].text\n",
    "\n",
    "        my_dict['title'].append(g)\n",
    "        my_dict['text'].append(h)\n",
    "        my_dict['category'].append(j)\n",
    "    return my_dict"
   ]
  },
  {
   "cell_type": "code",
   "execution_count": 182,
   "id": "e4fa6c97",
   "metadata": {},
   "outputs": [],
   "source": [
    "def get_news_articles():\n",
    "    my_dict={'title':[], 'text':[], 'category': []}\n",
    "    #articles=[]\n",
    "    for a in soup.find_all('a', href=True, class_='clickable'):\n",
    "        articles=[]\n",
    "        articles.append(\"https://inshorts.com/en/read/business\"+a['href'])\n",
    "        for x in articles:\n",
    "            response = get(x, headers=headers)\n",
    "            soup = BeautifulSoup(response.content, 'html.parser')\n",
    "\n",
    "            my_dict['title'].append(soup.find('span',itemprop=\"headline\").text)\n",
    "            my_dict['text'].append(soup.find('div', itemprop='articleBody').text)\n",
    "            my_dict['category'].append(soup.find_all('li', class_='active-category')[2].text)\n",
    "        \n",
    "        articles=[]\n",
    "        articles.append(\"https://inshorts.com/en/read/sports\"+a['href'])\n",
    "        for x in articles:\n",
    "            response = get(x, headers=headers)\n",
    "            soup = BeautifulSoup(response.content, 'html.parser')\n",
    "            \n",
    "            g=soup.find('span',itemprop=\"headline\").text\n",
    "            h=soup.find('div', itemprop='articleBody').text\n",
    "            j=soup.find_all('li', class_='active-category')[3].text\n",
    "\n",
    "            my_dict['title'].append(g)\n",
    "            my_dict['text'].append(h)\n",
    "            my_dict['category'].append(j)\n",
    "            \n",
    "        articles=[]\n",
    "        articles.append(\"https://inshorts.com/en/read/technology\"+a['href'])\n",
    "        for x in articles:\n",
    "            response = get(x, headers=headers)\n",
    "            soup = BeautifulSoup(response.content, 'html.parser')\n",
    "\n",
    "            my_dict['title'].append(soup.find('span',itemprop=\"headline\").text)\n",
    "            my_dict['text'].append(soup.find('div', itemprop='articleBody').text)\n",
    "            my_dict['category'].append(soup.find_all('li', class_='active-category')[6].text)\n",
    "        \n",
    "        \n",
    "        \n",
    "        articles=[]\n",
    "        articles.append(\"https://inshorts.com/en/read/entertainment\"+a['href'])\n",
    "        for x in articles:\n",
    "            response = get(x, headers=headers)\n",
    "            soup = BeautifulSoup(response.content, 'html.parser')\n",
    "\n",
    "            my_dict['title'].append(soup.find('span',itemprop=\"headline\").text)\n",
    "            my_dict['text'].append(soup.find('div', itemprop='articleBody').text)\n",
    "            my_dict['category'].append(soup.find_all('li', class_='active-category')[8].text)\n",
    "        \n",
    "    return my_dict  "
   ]
  },
  {
   "cell_type": "code",
   "execution_count": 184,
   "id": "f67dd077",
   "metadata": {},
   "outputs": [
    {
     "ename": "AttributeError",
     "evalue": "'NoneType' object has no attribute 'text'",
     "output_type": "error",
     "traceback": [
      "\u001b[0;31m---------------------------------------------------------------------------\u001b[0m",
      "\u001b[0;31mAttributeError\u001b[0m                            Traceback (most recent call last)",
      "Input \u001b[0;32mIn [184]\u001b[0m, in \u001b[0;36m<cell line: 1>\u001b[0;34m()\u001b[0m\n\u001b[0;32m----> 1\u001b[0m \u001b[43mget_business\u001b[49m\u001b[43m(\u001b[49m\u001b[43m)\u001b[49m\n",
      "Input \u001b[0;32mIn [183]\u001b[0m, in \u001b[0;36mget_business\u001b[0;34m()\u001b[0m\n\u001b[1;32m     10\u001b[0m response \u001b[38;5;241m=\u001b[39m get(x, headers\u001b[38;5;241m=\u001b[39mheaders)\n\u001b[1;32m     11\u001b[0m soup \u001b[38;5;241m=\u001b[39m BeautifulSoup(response\u001b[38;5;241m.\u001b[39mcontent, \u001b[38;5;124m'\u001b[39m\u001b[38;5;124mhtml.parser\u001b[39m\u001b[38;5;124m'\u001b[39m)\n\u001b[0;32m---> 13\u001b[0m g\u001b[38;5;241m=\u001b[39m\u001b[43msoup\u001b[49m\u001b[38;5;241;43m.\u001b[39;49m\u001b[43mfind\u001b[49m\u001b[43m(\u001b[49m\u001b[38;5;124;43m'\u001b[39;49m\u001b[38;5;124;43mspan\u001b[39;49m\u001b[38;5;124;43m'\u001b[39;49m\u001b[43m,\u001b[49m\u001b[43mitemprop\u001b[49m\u001b[38;5;241;43m=\u001b[39;49m\u001b[38;5;124;43m\"\u001b[39;49m\u001b[38;5;124;43mheadline\u001b[39;49m\u001b[38;5;124;43m\"\u001b[39;49m\u001b[43m)\u001b[49m\u001b[38;5;241;43m.\u001b[39;49m\u001b[43mtext\u001b[49m\n\u001b[1;32m     14\u001b[0m h\u001b[38;5;241m=\u001b[39msoup\u001b[38;5;241m.\u001b[39mfind(\u001b[38;5;124m'\u001b[39m\u001b[38;5;124mdiv\u001b[39m\u001b[38;5;124m'\u001b[39m, itemprop\u001b[38;5;241m=\u001b[39m\u001b[38;5;124m'\u001b[39m\u001b[38;5;124marticleBody\u001b[39m\u001b[38;5;124m'\u001b[39m)\u001b[38;5;241m.\u001b[39mtext\n\u001b[1;32m     15\u001b[0m j\u001b[38;5;241m=\u001b[39msoup\u001b[38;5;241m.\u001b[39mfind_all(\u001b[38;5;124m'\u001b[39m\u001b[38;5;124mli\u001b[39m\u001b[38;5;124m'\u001b[39m, class_\u001b[38;5;241m=\u001b[39m\u001b[38;5;124m'\u001b[39m\u001b[38;5;124mactive-category\u001b[39m\u001b[38;5;124m'\u001b[39m)[\u001b[38;5;241m2\u001b[39m]\u001b[38;5;241m.\u001b[39mtext\n",
      "\u001b[0;31mAttributeError\u001b[0m: 'NoneType' object has no attribute 'text'"
     ]
    }
   ],
   "source": [
    "get_business()"
   ]
  },
  {
   "cell_type": "code",
   "execution_count": 215,
   "id": "855bb599",
   "metadata": {},
   "outputs": [],
   "source": [
    "response2=get(\"https://inshorts.com/en/read/business\")\n",
    "soup2= BeautifulSoup(response2.content, 'html.parser')"
   ]
  },
  {
   "cell_type": "code",
   "execution_count": 218,
   "id": "6a374b91",
   "metadata": {},
   "outputs": [
    {
     "data": {
      "text/plain": [
       "[<span itemprop=\"headline\">Sachin Tendulkar and his wife meet Bill Gates; share pics</span>,\n",
       " <span itemprop=\"headline\">'Best wishes to my classmate,' writes Gates in book gifted to Mahindra, latter shares pic</span>,\n",
       " <span itemprop=\"headline\">Ambanis should get Z+ security cover across India, abroad; cost to be borne by them: SC</span>,\n",
       " <span itemprop=\"headline\">India's GDP growth slows down to 4.4% in Oct-Dec quarter</span>,\n",
       " <span itemprop=\"headline\">Apple supplier Foxlink's fire safety systems faulty: Fire official</span>,\n",
       " <span itemprop=\"headline\">People consuming 30 GB and paying almost nothing: Airtel's Mittal</span>,\n",
       " <span itemprop=\"headline\">Govt aiming to pass Telecom Bill in Monsoon Session: Vaishnaw</span>,\n",
       " <span itemprop=\"headline\">Gujarat receives ₹40,000-cr investment for green energy projects</span>,\n",
       " <span itemprop=\"headline\">Apple supplier Foxlink declares 30-day holiday at fire-hit factory</span>,\n",
       " <span itemprop=\"headline\">SoftBank to sell ₹600 cr Delhivery stake via block deals: Report</span>,\n",
       " <span itemprop=\"headline\">India's automobile making sector to hit ₹15 lakh cr soon: Gadkari</span>,\n",
       " <span itemprop=\"headline\">Razorpay's revenue rises 76% in FY22 in 2nd straight profitable yr</span>,\n",
       " <span itemprop=\"headline\">Retail inflation for industrial workers hits 6.16% in January</span>,\n",
       " <span itemprop=\"headline\">Turkey's economy grows 5.6% in 2022, growth may slow after quakes</span>,\n",
       " <span itemprop=\"headline\">India's core sector growth rises to 4-month high at 7.8% in Jan</span>,\n",
       " <span itemprop=\"headline\">GDP to likely grow 7% in FY23: Second advance estimates</span>,\n",
       " <span itemprop=\"headline\">RIL sets up subsidiary to develop commercial properties</span>,\n",
       " <span itemprop=\"headline\">Adani falls from 3rd to 33rd spot on the rich list within a month</span>,\n",
       " <span itemprop=\"headline\">SEBI cancels registration of 4 brokers in NSEL case</span>,\n",
       " <span itemprop=\"headline\">Moody's slashes Pak's rating to 'Caa3', changes outlook to stable</span>,\n",
       " <span itemprop=\"headline\">India's manufacturing sector is in 'good health': CEA Nageswaran</span>,\n",
       " <span itemprop=\"headline\">India kept its interest at the top in importing cheaper fuel: FM</span>,\n",
       " <span itemprop=\"headline\">In a first, women make up 40% of boards at top UK companies</span>,\n",
       " <span itemprop=\"headline\">HDFC, Punjab National Bank hike lending rates by up to 25 bps</span>,\n",
       " <span itemprop=\"headline\">Oil tankers, bulk carriers over 25 yrs old banned to cut emissions</span>]"
      ]
     },
     "execution_count": 218,
     "metadata": {},
     "output_type": "execute_result"
    }
   ],
   "source": [
    "titles=soup2.find_all('span', itemprop='headline')\n",
    "titles"
   ]
  },
  {
   "cell_type": "code",
   "execution_count": 2,
   "id": "bcff9a3e",
   "metadata": {},
   "outputs": [],
   "source": [
    "def scrape_one_page(topic):\n",
    "    base_url=\"https://inshorts.com/en/read/\"\n",
    "    response=get(\"https://inshorts.com/en/read/\"+topic)\n",
    "    soup= BeautifulSoup(response.content, 'html.parser')\n",
    "    titles=soup.find_all('span', itemprop='headline')\n",
    "    summaries=soup.find_all('div', itemprop='articleBody')\n",
    "    summary_list=[]\n",
    "    \n",
    "    for i in range(len(titles)):\n",
    "        temp_dict={'title':titles[i].text, 'text':summaries[i].text, 'category': topic}\n",
    "        summary_list.append(temp_dict)\n",
    "    return summary_list"
   ]
  },
  {
   "cell_type": "code",
   "execution_count": 3,
   "id": "3fe067d0",
   "metadata": {},
   "outputs": [
    {
     "data": {
      "text/plain": [
       "[{'title': 'All Adani stocks end higher for the first time since Hindenburg report',\n",
       "  'text': 'All 10 Adani Group stocks closed higher on Wednesday, the first such occurrence since the report by US short-seller Hindenburg Research in late January that accused the group of fraud. Adani Enterprises led the rally, advancing almost 15% as the group conducted investor meetings in Singapore and Hong Kong. Adani Transmission and Adani Power rose by the 5% daily limit.',\n",
       "  'category': 'business'},\n",
       " {'title': \"Smriti Irani's 2011 tweet on LPG price hike resurfaces after rise in LPG cylinder prices\",\n",
       "  'text': 'Hours after the central government raised the price of commercial LPG cylinders by ₹350.50 per unit and domestic LPG cylinders by ₹50 per unit, Union Minister Smriti Irani\\'s old tweet from 2011 resurfaced on social media. Her tweet read, \"50 rupee hike in LPG!!!!! [And] they call themselves Aam Aadmi ki Sarkar. What a shame!\"\\n\\n',\n",
       "  'category': 'business'},\n",
       " {'title': 'Indian-Americans Renjen, Subramaniam to be members of US Export Council',\n",
       "  'text': \"Indian-Americans Punit Renjen and Rajesh Subramaniam will be members of US President Joe Biden's Export Council. While Renjen serves as Deloitte Global's CEO Emeritus, Subramaniam is President & CEO and a board member at FedEx Corporation. In 2023, he received the Pravasi Bharatiya Samman Award the highest civilian award presented by the President of India to the Indian diaspora.\",\n",
       "  'category': 'business'},\n",
       " {'title': 'Adani secures $3 bn credit from a sovereign wealth fund: Report',\n",
       "  'text': 'Adani Group has reportedly told creditors it has secured a $3 billion loan from a sovereign wealth fund. The credit line from the sovereign wealth fund could be increased to $5 billion. The reports cited a memo that was circulated to participants as highlights of a three-day investor roadshow that ended on Wednesday.',\n",
       "  'category': 'business'},\n",
       " {'title': 'We can score a century for progress: Gates on meeting Tendulkar',\n",
       "  'text': 'Microsoft Co-founder Bill Gates shared a message on Twitter after meeting former cricketer Sachin Tendulkar and his wife Anjali Tendulkar in Mumbai on Tuesday. \"I had a great time learning more about your work in children\\'s healthcare,\" Gates said. \"I\\'m optimistic that, working together, we can score a century for progress!\" he added.',\n",
       "  'category': 'business'},\n",
       " {'title': 'Foxconn Chairman meets PM Modi for 2nd time in 8 months',\n",
       "  'text': 'Apple supplier Foxconn\\'s Chairman Young Liu on Tuesday met Prime Minister Narendra Modi for the second time in eight months. In June 2022, PM met Young and welcomed Foxconn\\'s plans for expanding its electronics manufacturing capacity in India. The company tweeted, \"Foxconn will continue to build an ecosystem in India allowing all our stakeholders to share, collaborate and thrive.\"',\n",
       "  'category': 'business'},\n",
       " {'title': \"India to be world's cheapest 5G market: Bill Gates\",\n",
       "  'text': 'At a session with Telecom Minister Ashwini Vaishnaw, Microsoft Co-founder Bill Gates praised India\\'s digital infrastructure and said that India has been a leader in providing access to digital banking. Stating that India has \"very good\" connectivity, Gates added that India will be the cheapest 5G market. Gates added that no country built a more comprehensive digital infrastructure than India.',\n",
       "  'category': 'business'},\n",
       " {'title': 'Mandaviya shows Bill Gates COVID-19 war room which used AI',\n",
       "  'text': \"Health Minister Mansukh Mandaviya showed Microsoft Co-founder Bill Gates India's COVID-19 war room, the National Public Health Observatory. The room, shaped during the pandemic, used AI to track cases, vaccination efficiency, progress of health programmes and health initiatives. Bill Gates appreciated India's COVID-19 vaccination and health initiatives like Ayushman Bharat, Mandaviya tweeted.\",\n",
       "  'category': 'business'},\n",
       " {'title': 'No nation built more comprehensive digital infra than India: Gates',\n",
       "  'text': 'Microsoft Co-founder Bill Gates said that no country has built a more comprehensive digital infrastructure than India. Gates noted that prior to digital infrastructure, achieving the number of bank accounts that India has today would have taken 50 years. He added the infrastructure allows the Gates Foundation to make payments to workers in the field.',\n",
       "  'category': 'business'},\n",
       " {'title': 'Days of authoritarian leadership diminishing: Rishad Premji',\n",
       "  'text': 'Wipro Chairman Rishad Premji said that the days of the authoritarian leader \"are more and more diminishing\". \"The space for authentic, empathetic, vulnerable leadership where I can say \\'I need help, I don\\'t know\\', is very much becoming pervasive,\" Premji said. Premji also said that it is important to encourage an environment of risk-taking and celebrate failures.',\n",
       "  'category': 'business'},\n",
       " {'title': 'Blinkit to launch Urban Company-like home services: Report',\n",
       "  'text': 'Zomato-owned Blinkit is planning to launch a new vertical to offer Urban Company-like services, Entrackr reported citing sources. \"Blinkit is set to offer handyman services such as plumbing, electrician, beautician and air conditioner repairing etc on its platform in coming weeks,\" said a source. Zomato CEO Deepinder Goyal has resigned as an independent director in Urban Company\\'s board.',\n",
       "  'category': 'business'},\n",
       " {'title': 'SaaS startup Yellow.ai lays off around 250 employees since August',\n",
       "  'text': 'SaaS startup Yellow.ai\\ufeff has laid off around 250 employees since August 2022, with majority of workers from India, YourStory reported citing sources. It has reduced the jobs over four rounds in August, November, December and January-February, the sources said. The sources alleged that Yellow.ai forced the employees to sign non-disclosure agreements, preventing them from speaking about the job cuts.',\n",
       "  'category': 'business'},\n",
       " {'title': 'Swiggy, Zomato delivery agents wrongly issued challans in Delhi',\n",
       "  'text': \"Swiggy and Zomato said their delivery agents are wrongly being issued challans in Delhi, meant for bike taxi services, after a regulation change. A Swiggy spokesperson said challans worth over ₹15,000 were issued which created panic among delivery agents. Recently, Delhi government's Transport Department cautioned bike taxis against plying in the national capital and said this could attract fines.\",\n",
       "  'category': 'business'},\n",
       " {'title': 'Pak due to repay foreign debt, interest of $22 bn in 1 yr: Report',\n",
       "  'text': \"Pakistan is due to repay foreign debt and interest worth almost $22 billion over next 12 months, The Express Tribune reported. As of December 2022, Pakistan's external debt stood at PKR 17.87 trillion, down from PKR 18 trillion in September, according to State Bank of Pakistan's data. Meanwhile, Pakistan's net foreign exchange reserves were around $3.2 billion on February 17.\",\n",
       "  'category': 'business'},\n",
       " {'title': 'Eli Lilly to cut insulin price by 70% for Americans from Q4 ',\n",
       "  'text': 'Eli Lilly on Wednesday said it will reduce prices for its most commonly prescribed forms of insulin, Humalog and Humulin, by 70% effective from the fourth quarter. Lilly will reduce the price of its non-branded, fast-acting insulin to $25 a vial from May 1. \"Aggressive price cuts...should make a real difference for Americans with diabetes,\" Lilly\\'s CEO David Ricks said. \\n\\n\\n\\n\\n',\n",
       "  'category': 'business'},\n",
       " {'title': 'India Inc to roll out 9-9.5% salary hike in 2023: Report',\n",
       "  'text': \"India Inc will roll out pre-pandemic levels of salary hikes with a projected increase of 9-9.5% across industries in 2023, Mercer's Total Remuneration Survey said. Hi-tech and shared services and outsourcing industries will register highest salary hikes of 9.5% and 9.1%, respectively. Consumer and retail, auto, agriculture and chemicals are likely to give an average hike of 9%, it noted.\\n\",\n",
       "  'category': 'business'},\n",
       " {'title': 'Offered 3,600 Citibank staff to join us, 400 denied: Axis Bank CEO',\n",
       "  'text': 'Axis Bank CEO Amitabh Chaudhry said the bank offered all 3,600 employees of Citibank to join Axis Bank post the acquisition but 400 employees didn\\'t accept the offer. \"We\\'ve kept the same representatives from Citibank on board to Axis Bank to keep the comfort level with the customers,\" said Axis Bank Group Executive Subrat Mohanty. ',\n",
       "  'category': 'business'},\n",
       " {'title': \"India's growth cycle has peaked, is headed downward: Nomura \",\n",
       "  'text': 'Nomura anticipates a slowdown in growth in FY24 with chances of further downside in the following year. \"India\\'s Q4 2022 GDP growth was disappointing, moderating to 4.4% on-year from 6.3% in Q3. This is partly due to base effects and past revisions,\" it said, adding, \"We believe India\\'s growth cycle has peaked and is headed significantly lower than consensus expectations.\" \\n',\n",
       "  'category': 'business'},\n",
       " {'title': 'Mumbai jumps to 37th rank in global luxury home price rise: Report',\n",
       "  'text': \"Mumbai's rank climbed to 37th from 92nd in a global list of movement in luxury home prices as it saw an appreciation of 6.4% during 2022, according to Knight Frank India. Mumbai is the 18th most expensive prime residential market in the world, the report said. Prime properties in Mumbai are expected to witness an appreciation of 3% in 2023.\\n\",\n",
       "  'category': 'business'},\n",
       " {'title': 'Venus Williams joins private equity firm Topspin',\n",
       "  'text': 'Seven-time Grand Slam champion Venus Williams is joining private equity firm Topspin Consumer Partners as its newest Operating Partner to invest in health and wellness businesses. Williams is a \"terrific addition to the team\", Topspin Managing Partner Leigh Randall said. \"We wanted someone who could really help us on the health and wellness front,\" Randall added.',\n",
       "  'category': 'business'},\n",
       " {'title': 'GST collection in Feb at ₹1.49 lakh crore, up 12% YoY',\n",
       "  'text': 'The government collected over ₹1.49 lakh crore as goods and services tax (GST) in February 2023, 12% higher than GST collected in February 2022, Ministry of Finance said. GST collections have exceeded the ₹1.4-lakh crore mark for 12 months in a row. February saw the highest cess collection of ₹11,931 crore since implementation of GST.',\n",
       "  'category': 'business'},\n",
       " {'title': 'Hinduja Global Solutions buys 100% stake in TekLink for $58.8 mn',\n",
       "  'text': 'Hinduja Global Solutions (HGS) announced that it has completed the acquisition of a 100% stake in TekLink International for $58.8 million. The US-based TekLink has delivery centres in Hyderabad and Indore in India. \"The acquisition will strengthen HGS\\' digital solutions business by adding enhanced expertise in building data platforms, analytics and financial planning,\" the company said.',\n",
       "  'category': 'business'},\n",
       " {'title': 'Plea to reinstate pilot part of Air India peeing incident rejected',\n",
       "  'text': \"Directorate General of Civil Aviation on Wednesday rejected an appeal to revoke the suspension of an Air India pilot who was flying the plane when a man urinated on his co-passenger in November. The pilot was suspended for failing to perform his duties as per rules in connection to the incident. The pilot's license was also suspended for three months.\",\n",
       "  'category': 'business'},\n",
       " {'title': \"Nilekani's trust sells Bengaluru property for ₹54.70 crore: Report\",\n",
       "  'text': 'NRJN Family Trust set up by Infosys Co-founder and Chairman Nandan Nilekani has sold a property in Bengaluru’s Billionaire Street in Koramangala area for ₹54.70 crore, documents accessed by Zapkey.com showed. The buyer of the 9,488 sqft plot is the wife of C Valliappa, the Founder of Sona Valliappa Group. The trust bought the property for ₹39.85 crore in 2019.',\n",
       "  'category': 'business'},\n",
       " {'title': \"World's richest people lost total of $10 trillion in 2022: Report\",\n",
       "  'text': \"The combined wealth of the 2.18 lakh people classed as 'ultra-high net worth individuals' (UHNWIs) fell by 10% from $101.5 trillion in 2021 to $91.4 trillion in 2022, according to Knight Frank's wealth report. The biggest fall in net worth was seen among Europeans with an average decline of 17%, while in the Americas the fall was at 10%.\",\n",
       "  'category': 'business'}]"
      ]
     },
     "execution_count": 3,
     "metadata": {},
     "output_type": "execute_result"
    }
   ],
   "source": [
    "scrape_one_page('business')"
   ]
  },
  {
   "cell_type": "code",
   "execution_count": 8,
   "id": "8e20a6a8",
   "metadata": {},
   "outputs": [],
   "source": [
    "def get_news_articles(topic_list):\n",
    "    file='news_articles.json'\n",
    "    if os.path.exists(file):\n",
    "        with open(file) as f:\n",
    "            return json.load(f)\n",
    "    final_list=[]\n",
    "    for topic in topic_list:\n",
    "        final_list.extend(scrape_one_page(topic))\n",
    "    with open(file, 'w') as f:\n",
    "        json.dump(final_list, f)\n",
    "    return final_list\n",
    "    "
   ]
  },
  {
   "cell_type": "code",
   "execution_count": 14,
   "id": "367b92c4",
   "metadata": {},
   "outputs": [
    {
     "data": {
      "text/plain": [
       "[{'title': 'All Adani stocks end higher for the first time since Hindenburg report',\n",
       "  'text': 'All 10 Adani Group stocks closed higher on Wednesday, the first such occurrence since the report by US short-seller Hindenburg Research in late January that accused the group of fraud. Adani Enterprises led the rally, advancing almost 15% as the group conducted investor meetings in Singapore and Hong Kong. Adani Transmission and Adani Power rose by the 5% daily limit.',\n",
       "  'category': 'business'},\n",
       " {'title': \"Smriti Irani's 2011 tweet on LPG price hike resurfaces after rise in LPG cylinder prices\",\n",
       "  'text': 'Hours after the central government raised the price of commercial LPG cylinders by ₹350.50 per unit and domestic LPG cylinders by ₹50 per unit, Union Minister Smriti Irani\\'s old tweet from 2011 resurfaced on social media. Her tweet read, \"50 rupee hike in LPG!!!!! [And] they call themselves Aam Aadmi ki Sarkar. What a shame!\"\\n\\n',\n",
       "  'category': 'business'},\n",
       " {'title': 'Indian-Americans Renjen, Subramaniam to be members of US Export Council',\n",
       "  'text': \"Indian-Americans Punit Renjen and Rajesh Subramaniam will be members of US President Joe Biden's Export Council. While Renjen serves as Deloitte Global's CEO Emeritus, Subramaniam is President & CEO and a board member at FedEx Corporation. In 2023, he received the Pravasi Bharatiya Samman Award the highest civilian award presented by the President of India to the Indian diaspora.\",\n",
       "  'category': 'business'},\n",
       " {'title': 'Adani secures $3 bn credit from a sovereign wealth fund: Report',\n",
       "  'text': 'Adani Group has reportedly told creditors it has secured a $3 billion loan from a sovereign wealth fund. The credit line from the sovereign wealth fund could be increased to $5 billion. The reports cited a memo that was circulated to participants as highlights of a three-day investor roadshow that ended on Wednesday.',\n",
       "  'category': 'business'},\n",
       " {'title': 'We can score a century for progress: Gates on meeting Tendulkar',\n",
       "  'text': 'Microsoft Co-founder Bill Gates shared a message on Twitter after meeting former cricketer Sachin Tendulkar and his wife Anjali Tendulkar in Mumbai on Tuesday. \"I had a great time learning more about your work in children\\'s healthcare,\" Gates said. \"I\\'m optimistic that, working together, we can score a century for progress!\" he added.',\n",
       "  'category': 'business'},\n",
       " {'title': \"India to be world's cheapest 5G market: Bill Gates\",\n",
       "  'text': 'At a session with Telecom Minister Ashwini Vaishnaw, Microsoft Co-founder Bill Gates praised India\\'s digital infrastructure and said that India has been a leader in providing access to digital banking. Stating that India has \"very good\" connectivity, Gates added that India will be the cheapest 5G market. Gates added that no country built a more comprehensive digital infrastructure than India.',\n",
       "  'category': 'business'},\n",
       " {'title': 'Foxconn Chairman meets PM Modi for 2nd time in 8 months',\n",
       "  'text': 'Apple supplier Foxconn\\'s Chairman Young Liu on Tuesday met Prime Minister Narendra Modi for the second time in eight months. In June 2022, PM met Young and welcomed Foxconn\\'s plans for expanding its electronics manufacturing capacity in India. The company tweeted, \"Foxconn will continue to build an ecosystem in India allowing all our stakeholders to share, collaborate and thrive.\"',\n",
       "  'category': 'business'},\n",
       " {'title': 'Mandaviya shows Bill Gates COVID-19 war room which used AI',\n",
       "  'text': \"Health Minister Mansukh Mandaviya showed Microsoft Co-founder Bill Gates India's COVID-19 war room, the National Public Health Observatory. The room, shaped during the pandemic, used AI to track cases, vaccination efficiency, progress of health programmes and health initiatives. Bill Gates appreciated India's COVID-19 vaccination and health initiatives like Ayushman Bharat, Mandaviya tweeted.\",\n",
       "  'category': 'business'},\n",
       " {'title': 'No nation built more comprehensive digital infra than India: Gates',\n",
       "  'text': 'Microsoft Co-founder Bill Gates said that no country has built a more comprehensive digital infrastructure than India. Gates noted that prior to digital infrastructure, achieving the number of bank accounts that India has today would have taken 50 years. He added the infrastructure allows the Gates Foundation to make payments to workers in the field.',\n",
       "  'category': 'business'},\n",
       " {'title': 'Days of authoritarian leadership diminishing: Rishad Premji',\n",
       "  'text': 'Wipro Chairman Rishad Premji said that the days of the authoritarian leader \"are more and more diminishing\". \"The space for authentic, empathetic, vulnerable leadership where I can say \\'I need help, I don\\'t know\\', is very much becoming pervasive,\" Premji said. Premji also said that it is important to encourage an environment of risk-taking and celebrate failures.',\n",
       "  'category': 'business'},\n",
       " {'title': 'Swiggy, Zomato delivery agents wrongly issued challans in Delhi',\n",
       "  'text': \"Swiggy and Zomato said their delivery agents are wrongly being issued challans in Delhi, meant for bike taxi services, after a regulation change. A Swiggy spokesperson said challans worth over ₹15,000 were issued which created panic among delivery agents. Recently, Delhi government's Transport Department cautioned bike taxis against plying in the national capital and said this could attract fines.\",\n",
       "  'category': 'business'},\n",
       " {'title': 'SaaS startup Yellow.ai lays off around 250 employees since August',\n",
       "  'text': 'SaaS startup Yellow.ai\\ufeff has laid off around 250 employees since August 2022, with majority of workers from India, YourStory reported citing sources. It has reduced the jobs over four rounds in August, November, December and January-February, the sources said. The sources alleged that Yellow.ai forced the employees to sign non-disclosure agreements, preventing them from speaking about the job cuts.',\n",
       "  'category': 'business'},\n",
       " {'title': 'Blinkit to launch Urban Company-like home services: Report',\n",
       "  'text': 'Zomato-owned Blinkit is planning to launch a new vertical to offer Urban Company-like services, Entrackr reported citing sources. \"Blinkit is set to offer handyman services such as plumbing, electrician, beautician and air conditioner repairing etc on its platform in coming weeks,\" said a source. Zomato CEO Deepinder Goyal has resigned as an independent director in Urban Company\\'s board.',\n",
       "  'category': 'business'},\n",
       " {'title': 'Pak due to repay foreign debt, interest of $22 bn in 1 yr: Report',\n",
       "  'text': \"Pakistan is due to repay foreign debt and interest worth almost $22 billion over next 12 months, The Express Tribune reported. As of December 2022, Pakistan's external debt stood at PKR 17.87 trillion, down from PKR 18 trillion in September, according to State Bank of Pakistan's data. Meanwhile, Pakistan's net foreign exchange reserves were around $3.2 billion on February 17.\",\n",
       "  'category': 'business'},\n",
       " {'title': 'Mumbai jumps to 37th rank in global luxury home price rise: Report',\n",
       "  'text': \"Mumbai's rank climbed to 37th from 92nd in a global list of movement in luxury home prices as it saw an appreciation of 6.4% during 2022, according to Knight Frank India. Mumbai is the 18th most expensive prime residential market in the world, the report said. Prime properties in Mumbai are expected to witness an appreciation of 3% in 2023.\\n\",\n",
       "  'category': 'business'},\n",
       " {'title': 'GST collection in Feb at ₹1.49 lakh crore, up 12% YoY',\n",
       "  'text': 'The government collected over ₹1.49 lakh crore as goods and services tax (GST) in February 2023, 12% higher than GST collected in February 2022, Ministry of Finance said. GST collections have exceeded the ₹1.4-lakh crore mark for 12 months in a row. February saw the highest cess collection of ₹11,931 crore since implementation of GST.',\n",
       "  'category': 'business'},\n",
       " {'title': 'Venus Williams joins private equity firm Topspin',\n",
       "  'text': 'Seven-time Grand Slam champion Venus Williams is joining private equity firm Topspin Consumer Partners as its newest Operating Partner to invest in health and wellness businesses. Williams is a \"terrific addition to the team\", Topspin Managing Partner Leigh Randall said. \"We wanted someone who could really help us on the health and wellness front,\" Randall added.',\n",
       "  'category': 'business'},\n",
       " {'title': 'Plea to reinstate pilot part of Air India peeing incident rejected',\n",
       "  'text': \"Directorate General of Civil Aviation on Wednesday rejected an appeal to revoke the suspension of an Air India pilot who was flying the plane when a man urinated on his co-passenger in November. The pilot was suspended for failing to perform his duties as per rules in connection to the incident. The pilot's license was also suspended for three months.\",\n",
       "  'category': 'business'},\n",
       " {'title': \"Nilekani's trust sells Bengaluru property for ₹54.70 crore: Report\",\n",
       "  'text': 'NRJN Family Trust set up by Infosys Co-founder and Chairman Nandan Nilekani has sold a property in Bengaluru’s Billionaire Street in Koramangala area for ₹54.70 crore, documents accessed by Zapkey.com showed. The buyer of the 9,488 sqft plot is the wife of C Valliappa, the Founder of Sona Valliappa Group. The trust bought the property for ₹39.85 crore in 2019.',\n",
       "  'category': 'business'},\n",
       " {'title': \"World's richest people lost total of $10 trillion in 2022: Report\",\n",
       "  'text': \"The combined wealth of the 2.18 lakh people classed as 'ultra-high net worth individuals' (UHNWIs) fell by 10% from $101.5 trillion in 2021 to $91.4 trillion in 2022, according to Knight Frank's wealth report. The biggest fall in net worth was seen among Europeans with an average decline of 17%, while in the Americas the fall was at 10%.\",\n",
       "  'category': 'business'},\n",
       " {'title': 'Offered 3,600 Citibank staff to join us, 400 denied: Axis Bank CEO',\n",
       "  'text': 'Axis Bank CEO Amitabh Chaudhry said the bank offered all 3,600 employees of Citibank to join Axis Bank post the acquisition but 400 employees didn\\'t accept the offer. \"We\\'ve kept the same representatives from Citibank on board to Axis Bank to keep the comfort level with the customers,\" said Axis Bank Group Executive Subrat Mohanty. ',\n",
       "  'category': 'business'},\n",
       " {'title': 'Hinduja Global Solutions buys 100% stake in TekLink for $58.8 mn',\n",
       "  'text': 'Hinduja Global Solutions (HGS) announced that it has completed the acquisition of a 100% stake in TekLink International for $58.8 million. The US-based TekLink has delivery centres in Hyderabad and Indore in India. \"The acquisition will strengthen HGS\\' digital solutions business by adding enhanced expertise in building data platforms, analytics and financial planning,\" the company said.',\n",
       "  'category': 'business'},\n",
       " {'title': 'India Inc to roll out 9-9.5% salary hike in 2023: Report',\n",
       "  'text': \"India Inc will roll out pre-pandemic levels of salary hikes with a projected increase of 9-9.5% across industries in 2023, Mercer's Total Remuneration Survey said. Hi-tech and shared services and outsourcing industries will register highest salary hikes of 9.5% and 9.1%, respectively. Consumer and retail, auto, agriculture and chemicals are likely to give an average hike of 9%, it noted.\\n\",\n",
       "  'category': 'business'},\n",
       " {'title': \"India's growth cycle has peaked, is headed downward: Nomura \",\n",
       "  'text': 'Nomura anticipates a slowdown in growth in FY24 with chances of further downside in the following year. \"India\\'s Q4 2022 GDP growth was disappointing, moderating to 4.4% on-year from 6.3% in Q3. This is partly due to base effects and past revisions,\" it said, adding, \"We believe India\\'s growth cycle has peaked and is headed significantly lower than consensus expectations.\" \\n',\n",
       "  'category': 'business'},\n",
       " {'title': 'Eli Lilly to cut insulin price by 70% for Americans from Q4 ',\n",
       "  'text': 'Eli Lilly on Wednesday said it will reduce prices for its most commonly prescribed forms of insulin, Humalog and Humulin, by 70% effective from the fourth quarter. Lilly will reduce the price of its non-branded, fast-acting insulin to $25 a vial from May 1. \"Aggressive price cuts...should make a real difference for Americans with diabetes,\" Lilly\\'s CEO David Ricks said. \\n\\n\\n\\n\\n',\n",
       "  'category': 'business'},\n",
       " {'title': \"India's Ravichandran Ashwin becomes world number one Test bowler\",\n",
       "  'text': \"Team India all-rounder Ravichandran Ashwin has become the world number one Test bowler, replacing England fast bowler James Anderson. The 36-year-old claimed the top spot after taking six wickets in India's victory over Australia in the second Test in Delhi. Ashwin is also the world number two Test all-rounder currently.\",\n",
       "  'category': 'sports'},\n",
       " {'title': \"I just didn't agree with a lot of his opinions: Mark Waugh on commentating with Karthik\",\n",
       "  'text': 'Ex-Australia batter Mark Waugh, who commentated in first two India-Australia Test matches, stated he \"just didn\\'t\" agree with a lot of Dinesh Karthik\\'s opinions. \"He couldn\\'t work out my field settings etc,\" Waugh added. He further stated, \"I think Mitchell Johnson\\'s taken over my role in next two Tests with Matthew Hayden...just to give some balance to...commentary box in India.\"',\n",
       "  'category': 'sports'},\n",
       " {'title': 'Mumbai Indians officially name Harmanpreet Kaur as their captain for WPL',\n",
       "  'text': \"Mumbai Indians on Wednesday officially named Harmanpreet Kaur as their captain for the first-ever Women's Premier League. Harmanpreet had recently become the first-ever cricketer to play 150 T20Is. Mumbai Indians will play the season opener of WPL 2023 on March 4, 2023, at DY Patil Stadium against Gujarat Giants.\",\n",
       "  'category': 'sports'},\n",
       " {'title': \"Virat Kohli's reaction to Umesh Yadav equalling his tally of sixes in Tests goes viral\",\n",
       "  'text': \"A video has gone viral on social media showing Virat Kohli's reaction to Umesh Yadav equalling his tally of sixes in Test cricket during the first innings of the Indore Test against Australia. Kohli was seen laughing and clapping for Yadav. Kohli and Yadav have hit 24 sixes each in their Test careers.\",\n",
       "  'category': 'sports'},\n",
       " {'title': '14 wickets fall on Day 1 of Indore Test as Australia lead India by 47 runs',\n",
       "  'text': 'As many as 14 wickets fell on first day of the Indore Test as Australia ended the day at 156/4 in their first innings, leading India by 47 runs. Ravindra Jadeja took all four wickets for India. India were bowled out for 109 runs in 33.2 overs in their first innings, with Australia spinner Matthew Kuhnemann taking a five-wicket haul.',\n",
       "  'category': 'sports'},\n",
       " {'title': \"You are a harsh man: Hayden to Gavaskar over remark on Shubman's injury\",\n",
       "  'text': 'Former Australia opener Matthew Hayden called Sunil Gavaskar a \"harsh man\" after the latter\\'s remark on Shubman Gill\\'s injury in the third Test against Australia in Indore. Talking about Gill taking treatment in between an over, Gavaskar had said, \"This could have waited. This could have waited till the end of the over.\"',\n",
       "  'category': 'sports'},\n",
       " {'title': \"Australia's Peter Handscomb caught sleeping during Indore Test, pic surfaces\",\n",
       "  'text': 'Australia batter Peter Handscomb was spotted seemingly sleeping in the dressing room during his team\\'s first innings in the Indore Test against India. Reacting to a picture that surfaced online, an Indian fan wrote, \"Allan Border has definitely booked himself a flight to India in response to footage of Handscomb taking a nap during a Test.\"',\n",
       "  'category': 'sports'},\n",
       " {'title': \"France's Just Fontaine, who scored most goals in a single FIFA WC edition, dies at 89\",\n",
       "  'text': 'French forward Just Fontaine, who scored most goals in a single FIFA World Cup edition (13 in 1958 edition), passed away aged 89. Fontaine is joint-fourth on the list of leading goalscorers in FIFA World Cup alongside Lionel Messi with 13 goals. Fontaine scored 30 goals from 21 international matches for France between 1953 and 1960.',\n",
       "  'category': 'sports'},\n",
       " {'title': 'National record holder triple jumper Aishwarya Babu banned for 4 years for doping',\n",
       "  'text': \"India's national record holder triple jumper Aishwarya Babu has been banned by NADA for four years for using a prohibited anabolic steroid. She has until March 6 to file an appeal against the ban after receiving the ban notice from NADA's Appeal Panel on February 13. She was provisionally suspended in July last year.\",\n",
       "  'category': 'sports'},\n",
       " {'title': \"Umesh Yadav equals Kohli's tally of sixes in Test cricket; overtakes Yuvraj, Shastri\",\n",
       "  'text': \"Team India fast bowler Umesh Yadav on Wednesday equalled Virat Kohli's tally of sixes in Test cricket. The 35-year-old smashed two sixes in India's first innings in the Indore Test against Australia to take his tally of sixes in Test cricket to 24. Umesh overtook Yuvraj Singh and Ravi Shastri, who hit 22 sixes each in their Test careers.\",\n",
       "  'category': 'sports'},\n",
       " {'title': 'Family of Kobe Bryant awarded around ₹240 crore over crash scene photos',\n",
       "  'text': 'Los Angeles County will pay Kobe Bryant\\'s family nearly $29 million (around ₹240 crore) to settle lawsuit over allegations that officials shared photos of crash that killed Kobe in a bar. Kobe\\'s wife Vanessa had sued the County, alleging invasion of privacy. \"Today marks...successful culmination of Vanessa\\'s...battle to hold accountable those who engaged in...grotesque conduct,\" her lawyer said.',\n",
       "  'category': 'sports'},\n",
       " {'title': \"Kohli doesn't give rest in nets, don't get time to settle: Siraj\",\n",
       "  'text': 'Discussing Team India\\'s net sessions, Team India pacer Mohammed Siraj said, \"Virat Kohli...does not give rest to...[pacers].\" \"After hitting the shot...[a batter] looks here and there, but Kohli gets ready immediately...I don\\'t even get time to settle,\" added Siraj. Former India bowling coach Bharat Arun earlier stated that Siraj told him he\\'ll do whatever it takes to emulate Kohli.',\n",
       "  'category': 'sports'},\n",
       " {'title': \"Bowling coach should sit with him: Gavaskar on Jadeja's no-ball\",\n",
       "  'text': 'Sunil Gavaskar said India bowling coach Paras Mhambrey should sit with Ravindra Jadeja and make him bowl from behind, following Jadeja\\'s no-ball in Australia\\'s first innings of third Test, which resulted in Marnus Labuschagne\\'s dismissal being overturned. Gavaskar added that a spinner bowling a no-ball is not acceptable. \"This could [go on to] cost India,\" he stated.',\n",
       "  'category': 'sports'},\n",
       " {'title': \"It's more special after tough year: Djokovic on being world no. 1\",\n",
       "  'text': 'Tennis player Novak Djokovic said his return to the top of the world rankings felt like a big achievement after a tough 2022, where he had to skip two Grand Slams. \"I\\'m overwhelmed with pride,\" Djokovic added. The Serbian is now into his 378th week as world number one, surpassing Steffi Graf\\'s record for the most weeks at the top.',\n",
       "  'category': 'sports'},\n",
       " {'title': \"Babar isn't threat for bowlers even if he's set: Pak's Imam Ul Haq\",\n",
       "  'text': 'Reacting to former Pakistan captain Shahid Afridi\\'s statement that Babar Azam hasn\\'t proved himself as a match-winner yet, Pakistan opener Imam Ul Haq said, \"Babar...[is] not a threat for bowlers even if he is set.\" \"After he reaches 50, Babar really needs to express himself,\" added Imam. \"Babar has to work on his strike rate as well,\" he stated.',\n",
       "  'category': 'sports'},\n",
       " {'title': 'Babar has not yet proved himself as a match-winner: Shahid Afridi',\n",
       "  'text': 'Former Pakistan captain Shahid Afridi said Babar Azam hasn\\'t proved himself as a match-winner yet. \"No doubt, Babar is the number one player in the world...However, one thing that stops him from being named along with...AB de Villiers and Virat Kohli is finishing games,\" Afridi added. Azam had won the ICC Men\\'s Cricketer of the Year Award 2022.',\n",
       "  'category': 'sports'},\n",
       " {'title': 'Unacceptable: Harsha Bhogle on Ravindra Jadeja bowling no-ball',\n",
       "  'text': 'Reacting to Australia batter Marnus Labuschagne\\'s dismissal being overturned following a no-ball by Ravindra Jadeja in Australia\\'s first innings of third Test, commentator Harsha Bhogle tweeted, \"No-ball for anyone, especially a spinner, has to be unacceptable.\" \"Jadeja\\'s...exceptional...but this is an infection that\\'s taking time to go,\" added Harsha. Labuschagne would\\'ve been out for a duck.',\n",
       "  'category': 'sports'},\n",
       " {'title': 'I was fighting the tears: SA batter Markram after Test ton vs WI',\n",
       "  'text': 'South African opener Aiden Markram, who scored a century in a Test match against West Indies on Tuesday, said he was \"fighting the tears a bit\". \"It meant quite a lot to me, it\\'s been a strange journey, so I\\'m just grateful that it worked out,\" he added. This was Markram\\'s sixth Test century.',\n",
       "  'category': 'sports'},\n",
       " {'title': 'We can score a century for progress: Gates on meeting Tendulkar',\n",
       "  'text': 'Microsoft Co-founder Bill Gates shared a message on Twitter after meeting former cricketer Sachin Tendulkar and his wife Anjali Tendulkar in Mumbai on Tuesday. \"I had a great time learning more about your work in children\\'s healthcare,\" Gates said. \"I\\'m optimistic that, working together, we can score a century for progress!\" he added.',\n",
       "  'category': 'sports'},\n",
       " {'title': \"You've married most stubborn man I've met: Nayar to Shardul's wife\",\n",
       "  'text': 'Reacting to cricketer Shardul Thakur marrying his longtime girlfriend Mittali Parulkar, KKR assistant coach Abhishek Nayar said Mittali has married the most stubborn man he\\'s met. \"I\\'m hoping to wait for that day when Shardul bows his head down and says, \\'Mittali, you are right and whatever you say is right\\',\" added Nayar. \"Shardul always believes he\\'s right,\" he stated.',\n",
       "  'category': 'sports'},\n",
       " {'title': 'Break after 2nd Test vs India was forced, had no facilities: Starc',\n",
       "  'text': 'Australia pacer Mitchell Starc termed the break after the second Test against India, which took place in Delhi, as \"forced\". \"With no facilities for training, it was a forced break for a lot of people [who] might have wanted to get out there,\" added Starc. \"There [are] personal adaptations [that one has to make] in these conditions,\" he stated.',\n",
       "  'category': 'sports'},\n",
       " {'title': 'Have problem with conditions, sorry for fans: Hayden on 3rd Test',\n",
       "  'text': 'Talking about the ongoing third Test between India and Australia, ex-Australia opener Matthew Hayden said, \"The average turn is 4.8 degrees. That\\'s...massive...This is why I have a problem with these conditions.\" \"It doesn\\'t matter whether Australia win this Test or India...At this pace, I feel sorry for...fans, I don\\'t think this Test will [last till] Day 4,\" added Hayden.',\n",
       "  'category': 'sports'},\n",
       " {'title': 'Good template for Test cricket: Ex-Aus spinner Beer on Indore Test',\n",
       "  'text': 'Former Australia spinner Michael Beer took to Twitter to state that Day 1 of the ongoing third Test between India and Australia, which is being held in Indore, witnessed \"very entertaining\" cricket. \"This pitch would be a good template for all red ball cricket!\" added Beer. \"I have a problem with these conditions,\" ex-Australia opener Matthew Hayden had earlier stated.',\n",
       "  'category': 'sports'},\n",
       " {'title': 'Ex-world no. 1 Angelique Kerber welcomes baby girl; shares pic',\n",
       "  'text': 'Former world number one Angelique Kerber revealed that she has welcomed her first child, a baby daughter, with partner Franco Bianco. Kerber shared a black and white photo of the baby\\'s hand resting on her parents\\' fingers on social media. \"Having you with us is the most beautiful & overwhelming feeling we could have ever imagined,\" Kerber captioned the photo.',\n",
       "  'category': 'sports'},\n",
       " {'title': 'Graeme Smith dominated the room while speaking as captain: Plessis',\n",
       "  'text': 'Hailing Graeme Smith when he was South Africa captain, Proteas cricketer Faf du Plessis said he \"dominated the room while speaking\". \"I was like, \\'Wow, this guy\\'s got an amazing presence when he speaks, like this big, blinding roar at you\\',\" he added. Du Plessis, who\\'ll lead RCB in IPL 2023, said he always wanted to learn from \"great leaders\".',\n",
       "  'category': 'sports'},\n",
       " {'title': 'Twitter down for thousands of users worldwide',\n",
       "  'text': 'Microblogging platform Twitter suffered an outage on Wednesday, leaving thousands of users unable to refresh their feeds. Reports of the outage began to emerge with users from various countries, including the United States, the United Kingdom, Japan, and India. This comes after reports said that Elon Musk-led Twitter recently laid off up to 200 employees.',\n",
       "  'category': 'technology'},\n",
       " {'title': 'Twitter employee seen sleeping on office floor shares meme after getting fired',\n",
       "  'text': 'Esther Crawford, whose picture of sleeping on the floor at Twitter\\'s San Francisco headquarters after Elon Musk\\'s takeover of the company went viral, was recently fired from Twitter. She took to the platform to share a meme on herself about sleeping in a sleeping bag. \"If you can\\'t take being publicly dunked on then avoid taking any risks,\" she tweeted.',\n",
       "  'category': 'technology'},\n",
       " {'title': 'Thought it was spam, ignored it: Indian-American fired by Google over e-mail',\n",
       "  'text': 'Vishal Arora, the former Head of Engineering of Platform Services at Google Ads, was one of the 12,000 employees laid off by Google. The Indian-American received an e-mail with the subject: \"Notice regarding your employment\" on his personal Gmail. Arora assumed it to be spam and ignored it only to open it minutes later and find that he was fired.',\n",
       "  'category': 'technology'},\n",
       " {'title': 'We can score a century for progress: Gates on meeting Tendulkar',\n",
       "  'text': 'Microsoft Co-founder Bill Gates shared a message on Twitter after meeting former cricketer Sachin Tendulkar and his wife Anjali Tendulkar in Mumbai on Tuesday. \"I had a great time learning more about your work in children\\'s healthcare,\" Gates said. \"I\\'m optimistic that, working together, we can score a century for progress!\" he added.',\n",
       "  'category': 'technology'},\n",
       " {'title': \"CCI's ruling contradicting itself, plagiarised: Google to NCLAT\",\n",
       "  'text': \"The Competition Commission of India's (CCI) android antitrust ruling contradicted itself and was plagiarised from a 2018 order issued by the European Commission, Google told NCLAT. Promoting its own apps was just a marketing tactic and not a method of foreclosing the market for competitors, it added. Google further argued that CCI is yet to identify any harm to users.\",\n",
       "  'category': 'technology'},\n",
       " {'title': 'Elon Musk plays fart sounds in 2 am Twitter Space livestream',\n",
       "  'text': 'Twitter chief Elon Musk co-hosted a Twitter Space livestream with podcaster Jason Calacanis on Tuesday at 2 am. During the 10-minute-long livestream, Musk tested a \"new mic\" and used a sound board to play a range of sounds including fart noises and flushing of a toilet. He later logged off the livestream, saying, \"I\\'ve gotta go to bed.\" ',\n",
       "  'category': 'technology'},\n",
       " {'title': 'Woman loses ₹8 lakh after being locked out of Apple account in US',\n",
       "  'text': 'A woman in the US has said she was locked out of her Apple account by a thief who stole her iPhone last year and ultimately lost ₹8 lakh. Reyhan Ayas said even the Apple support team \"was not helpful at all\". Ayas said she has now been told there is no way to regain access to her iCloud account.',\n",
       "  'category': 'technology'},\n",
       " {'title': 'Bing sentient but more unstable as a persona: Ex-Google techie',\n",
       "  'text': 'Ex-Google engineer, Blake Lemoine, who claimed the company\\'s artificial intelligence (AI) LaMDA had become sentient has now said the same about Microsoft\\'s Bing. Lemoine said he hasn\\'t been able to test Microsoft\\'s Bing yet but added, \"Based on the various things that I\\'ve seen online, it looks like it might be sentient. However, it seems more unstable as a persona.\"\\n',\n",
       "  'category': 'technology'},\n",
       " {'title': 'Days of authoritarian leadership diminishing: Rishad Premji',\n",
       "  'text': 'Wipro Chairman Rishad Premji said that the days of the authoritarian leader \"are more and more diminishing\". \"The space for authentic, empathetic, vulnerable leadership where I can say \\'I need help, I don\\'t know\\', is very much becoming pervasive,\" Premji said. Premji also said that it is important to encourage an environment of risk-taking and celebrate failures.',\n",
       "  'category': 'technology'},\n",
       " {'title': '90% of ideas coming out of India are copycat: Hotmail Co-founder',\n",
       "  'text': 'Hotmail Co-founder Sabeer Bhatia said 90% business ideas coming out of India are \"copycat ideas\". India is unprepared for next wave of creative economy and needs to upgrade its education system to create the next set of jobs, he said. \"Even if we\\'re successful in attracting world\\'s manufacturing in India, we\\'ll only have around one lakh new jobs,\" he added.',\n",
       "  'category': 'technology'},\n",
       " {'title': 'India to achieve 100% 5G coverage by December 2024: Vaishnaw',\n",
       "  'text': 'There will be 100% coverage of 5G in India by December 2024, Communications Minister Ashwini Vaishnaw said. \"We had promised India will achieve 5G coverage across 200 cities and districts by March 31 in phase one. As of today, India has covered 387 districts with 5G and 1,00,000 sites,\" Vaishnaw said, adding India\\'s 5G roll-out is among the world\\'s fastest.\\n',\n",
       "  'category': 'technology'},\n",
       " {'title': 'Google Pixel Watch to call for help if a user takes a hard fall',\n",
       "  'text': \"Google has rolled out fall detection feature for its Pixel Watch. The feature will use in-built motion sensors to detect if a user has taken a hard fall and will call emergency services if the user doesn't respond within a certain timeframe. The watch can differentiate between taking a hard fall and performing a vigorous physical activity, the company said. \",\n",
       "  'category': 'technology'},\n",
       " {'title': \"Andhra Pradesh launches probe into fire at Apple supplier's plant\",\n",
       "  'text': \"The Andhra Pradesh government has launched a probe into the fire at Apple supplier Foxlink's facility. The factories department, which is responsible for ensuring the safety and welfare of workers in the state, is looking to probe how the fire happened, Deputy Chief Inspector of Factories Ramakrishna Reddy said. Foxlink is also investigating the cause of the fire.\",\n",
       "  'category': 'technology'},\n",
       " {'title': 'Secret bitcoin mining operation found under school in US',\n",
       "  'text': 'A man has been charged with stealing thousands of dollars worth of electricity after local authorities discovered an illegal cryptocurrency mining operation underneath a school in the US. Nadeam Nahas has been accused of setting up 11 machines in the crawl space beneath the school. Prosecutors estimate the operation cost the school around $17,500 in electricity during an eight-month period.',\n",
       "  'category': 'technology'},\n",
       " {'title': \"India to be world's cheapest 5G market: Bill Gates\",\n",
       "  'text': 'At a session with Telecom Minister Ashwini Vaishnaw, Microsoft Co-founder Bill Gates praised India\\'s digital infrastructure and said that India has been a leader in providing access to digital banking. Stating that India has \"very good\" connectivity, Gates added that India will be the cheapest 5G market. Gates added that no country built a more comprehensive digital infrastructure than India.',\n",
       "  'category': 'technology'},\n",
       " {'title': 'No nation built more comprehensive digital infra than India: Gates',\n",
       "  'text': 'Microsoft Co-founder Bill Gates said that no country has built a more comprehensive digital infrastructure than India. Gates noted that prior to digital infrastructure, achieving the number of bank accounts that India has today would have taken 50 years. He added the infrastructure allows the Gates Foundation to make payments to workers in the field.',\n",
       "  'category': 'technology'},\n",
       " {'title': 'Clients ask regularly of plans to expand in India: AirPods maker',\n",
       "  'text': 'AirPods maker Goertek\\'s Deputy Chairman Kazuyoshi Yoshinaga said the firm gets client requests \"almost every month\", asking of plans to expand to India. People from client side have been pushing for tech manufacturers to move out of China, he added. \"If [clients] decide to build up production lines in India, we may have to think about it seriously,\" Yoshinaga said.',\n",
       "  'category': 'technology'},\n",
       " {'title': 'Telecos cross 3-year 5G rollout target in 6 months: Govt official',\n",
       "  'text': 'Department of Telecom Additional Secretary VL Kantha Rao said Indian telecom service providers surpassed 5G rollout targets projected for three years in the first six months. He added that rapid rollout of 5G in India showed telecom providers the opportunity of 5G in India. Telecom Minister Ashwini Vaishnaw said that BSNL will start 5G services by April 2024. ',\n",
       "  'category': 'technology'},\n",
       " {'title': 'Mobile download speeds in India up by 115% since 5G launch: Report',\n",
       "  'text': 'The median download speeds across India increased by 115% since the launch of 5G in October last year, network intelligence platform Ookla reported. The speed increased from 13.87 Mbps in September 2022 to 29.85 Mbps in January 2023, the report noted. This resulted in India jumping from 118th position on the Speedtest Global Index in September to 69th in January.',\n",
       "  'category': 'technology'},\n",
       " {'title': 'Indian tech sector set to grow 8.4% in FY23 to $245 bn: NASSCOM',\n",
       "  'text': 'The Indian technology industry is set to grow by 8.4% in FY23 to become a $245-billion sector, NASSCOM said. The sector added 2.90 lakh new jobs to take the overall number to 54 lakh employees, NASSCOM President Debjani Ghosh said. The industry is on its way to become a $500-billion sector by 2030, she added.',\n",
       "  'category': 'technology'},\n",
       " {'title': 'Google updates Chrome to increase battery life on MacBooks',\n",
       "  'text': 'Google has announced several changes to its Chrome web browser that can boost the battery life on MacBooks. By optimising systems like memory compression and JavaScript timers, MacBook users can now browse the web via Chrome and watch YouTube videos for longer, The Verge reported. Notably, Google started testing memory and energy saver modes last year.',\n",
       "  'category': 'technology'},\n",
       " {'title': 'Foxconn Chairman meets PM Modi for 2nd time in 8 months',\n",
       "  'text': 'Apple supplier Foxconn\\'s Chairman Young Liu on Tuesday met Prime Minister Narendra Modi for the second time in eight months. In June 2022, PM met Young and welcomed Foxconn\\'s plans for expanding its electronics manufacturing capacity in India. The company tweeted, \"Foxconn will continue to build an ecosystem in India allowing all our stakeholders to share, collaborate and thrive.\"',\n",
       "  'category': 'technology'},\n",
       " {'title': 'Mandaviya shows Bill Gates COVID-19 war room which used AI',\n",
       "  'text': \"Health Minister Mansukh Mandaviya showed Microsoft Co-founder Bill Gates India's COVID-19 war room, the National Public Health Observatory. The room, shaped during the pandemic, used AI to track cases, vaccination efficiency, progress of health programmes and health initiatives. Bill Gates appreciated India's COVID-19 vaccination and health initiatives like Ayushman Bharat, Mandaviya tweeted.\",\n",
       "  'category': 'technology'},\n",
       " {'title': 'Meta trying to extinguish Cambridge Analytica claims: US attorneys',\n",
       "  'text': 'New Mexico state attorneys have accused Meta of wrongfully claiming that its last year settlement of a case over Cambridge Analytica scandal protects it from a similar lawsuit that the state has filed. The settlement, worth $725 million, was reached at a San Francisco court. It extinguishes claims filed by New Mexico, Meta said on Tuesday.',\n",
       "  'category': 'technology'},\n",
       " {'title': \"AI could replace journalists: Germany's largest publisher\",\n",
       "  'text': 'Germany\\'s largest publisher Axel Springer\\'s CEO Mathias Döpfner told employees in an internal letter that AI could replace journalists. \"Artificial intelligence has the potential to make independent journalism better than it ever was, or simply replace it,\" Döpfner said. He also stated that Axel Springer aims to become \"digital only\" and would cut an undisclosed number of jobs.',\n",
       "  'category': 'technology'},\n",
       " {'title': \"No producer bigger than actor: Shailesh Lodha on quitting 'Taarak Mehta...'\",\n",
       "  'text': 'Actor Shailesh Lodha, who quit the sitcom \\'Taarak Mehta Ka Ooltah Chashmah\\' after a years-long stint, was recently asked at an event about his reason behind leaving the sitcom. \"Maybe I am one of those talented people who has raised his voice,\" said Lodha. \"Any producer cannot be bigger than the actor. He is a businessman,\" he added.',\n",
       "  'category': 'entertainment'},\n",
       " {'title': 'Actor Naga Shaurya asks man to apologise to girlfriend for slapping her on busy road',\n",
       "  'text': 'Telugu actor Naga Shaurya was seen getting into an argument with a man and asking him to apologise after the actor saw him slap his girlfriend on a busy road in Hyderabad. \"She could be your lover, it doesn\\'t mean you can misbehave like this,\" the actor said. Onlookers could also be heard telling the man to apologise.',\n",
       "  'category': 'entertainment'},\n",
       " {'title': \"Police warned of bombs at Ambani, Amitabh's Mumbai homes in anonymous call: Reports\",\n",
       "  'text': 'Nagpur Police on Tuesday reportedly received an anonymous call that warned of bombs planted at the houses of Mukesh Ambani, Amitabh Bachchan and Dharmendra in Mumbai. As per reports, the information was relayed to Mumbai Police who are searching their residences. The caller also claimed that 25 people were in Mumbai to carry out the attacks.',\n",
       "  'category': 'entertainment'},\n",
       " {'title': 'Stop calling him Armaan, his name is Sandeep: Armaan on YouTuber with 2 pregnant wives',\n",
       "  'text': 'Singer Armaan Malik took to Twitter and expressed his displeasure with a YouTuber for calling himself \\'Armaan Malik\\' in public. The YouTuber is known for having two wives, both of whom are pregnant. \"Stop calling him Armaan Malik in...media. His real name is...Sandeep!!...Hate waking up and reading articles like this...and the news makes me even more disgusted,\" he tweeted.',\n",
       "  'category': 'entertainment'},\n",
       " {'title': 'Mika Singh gifts Mercedes to his friend, pic surfaces',\n",
       "  'text': 'Singer Mika Singh recently gifted a Mercedes car to his friend. The singer\\'s friend Kanwaljeet Singh shared a picture of himself along with Mika and the car and wrote in his caption, \"It\\'s been 30 years that we are together. He is not just my friend or boss, but...we are brothers for life.\" \"You have the biggest heart,\" he added.',\n",
       "  'category': 'entertainment'},\n",
       " {'title': \"I like Brad Pitt: Ram Charan as US reporter asks if he liked 'Brad Pitt of India' title\",\n",
       "  'text': 'An American talk show host said \\'RRR\\' actor Ram Charan is being called the \\'Brad Pitt of India\\' and asked the latter, \"Do you like that designation?\" Charan replied, \"I like Brad Pitt for sure.\" A video of Charan\\'s reaction, which came during an interview with a news channel in LA, has been shared widely online.',\n",
       "  'category': 'entertainment'},\n",
       " {'title': 'My wife had tumour while she was pregnant with our 2nd child: Ed Sheeran',\n",
       "  'text': 'Singer Ed Sheeran has revealed that his wife, Cherry Seaborn, was diagnosed with a tumour while she was pregnant with their second child. He shared the news while announcing his forthcoming album, Subtract. \"There was no route to treatment until after the birth,\" he said. The pair announced the birth of their second child in May 2022.',\n",
       "  'category': 'entertainment'},\n",
       " {'title': \"I want my character in 'Zwigato' to be appreciated: Kapil Sharma\",\n",
       "  'text': 'Actor-comedian Kapil Sharma, speaking about his character in \\'Zwigato\\' at the film\\'s trailer launch, has said, \"I feel even if I don\\'t get any appreciation that\\'s ok, but I want my character to be appreciated.\" He added that the film will bring out all the emotions in the audience. \\'Zwigato\\' is directed by Nandita Das.',\n",
       "  'category': 'entertainment'},\n",
       " {'title': 'It takes guts: Rajatava on Akshay accepting failure of his films',\n",
       "  'text': 'Bengali actor Rajatava Dutta praised Akshay Kumar for \"acknowledging...failure of his recent films\". \"You\\'ve to have the guts to take...onus of your films not working. What he said is so true. You can\\'t...blame the audience for every film\\'s failure,\" he shared. Referring to Akshay\\'s Aaj Tak interview, Dutta said, \"I loved the part where Akshay...said, \\'You need to dismantle yourself\\'.\"',\n",
       "  'category': 'entertainment'},\n",
       " {'title': \"Didn't take leave for my wedding: 'Taarak Mehta…' actor Sacchin\",\n",
       "  'text': '\\'Taarak Mehta Ka Ooltah Chashmah\\' actor Sacchin Shrof said he didn\\'t take any leave for his wedding. \"My producer Asit Kumarr Modi…[was] kind enough to give me a three-day holiday…I will resume work immediately…because we have to deliver the episode,\" he shared. Sacchin got married to Chandani Kothi, who is reportedly an event organiser and interior designer.',\n",
       "  'category': 'entertainment'},\n",
       " {'title': \"Shoojit Sircar shot ad with me, said 'You've acting bug': Kriti\",\n",
       "  'text': 'Speaking about the time when she was pursuing B Tech, actress Kriti Sanon revealed that someone told her she should get into modelling as she has the height and face for it. \"I remember Shoojit Sircar...shot an ad with me! He told me, \\'You\\'ve got that acting bug in you\\'...That\\'s when I started dreaming about being an actor,\" she recalled.',\n",
       "  'category': 'entertainment'},\n",
       " {'title': \"I relived my battle: Sagarika on Rani's 'Mrs Chatterjee…' trailer\",\n",
       "  'text': 'Sagarika Chatterjee, whose life inspired Rani Mukerji\\'s \\'Mrs. Chatterjee Vs Norway\\', said she \"broke down\" after watching the film\\'s trailer. \"I felt...I was reliving my battle,\" she said. Chatterjee added, \"I want to thank Rani...for channeling...grief...struggles that I went through to win back my children...I thank her for bringing...mother\\'s painful journey on screen with so much dignity.\"',\n",
       "  'category': 'entertainment'},\n",
       " {'title': \"Amitabh Bachchan to play lead role in Ribhu Dasgupta's Section 84\",\n",
       "  'text': 'Actor Amitabh Bachchan will play the lead role in filmmaker Ribhu Dasgupta\\'s courtroom drama thriller \\'Section 84\\'. This will be Amitabh\\'s third collaboration with Dasgupta after working with him in \\'Te3n\\' and \\'Yudh\\'. \"I feel happy, blessed, and honoured to collaborate with sir [Amitabh] again. Looking forward to it,\" Dasgupta said. He is also the writer of the film.',\n",
       "  'category': 'entertainment'},\n",
       " {'title': 'I was PDA-starved: Kashmera on kissing video with husband Krushna',\n",
       "  'text': 'Kashmera Shah was seen kissing her husband Krushna Abhishek while the two were posing for the paparazzi present at the location. The actress has now shared that she wasn\\'t drunk but jet-lagged as she had \"just returned\" from Los Angeles. Defending her act of public display of affection (PDA), Kashmera said she hadn\\'t met Krushna for weeks and was \"PDA-starved\".',\n",
       "  'category': 'entertainment'},\n",
       " {'title': 'Not solo anymore: Sidharth as paparazzi ask him to pose alone',\n",
       "  'text': 'Sidharth Malhotra was recently asked to pose solo for pictures. In response to paparazzi\\'s request, Sidharth smiled and said he\\'s \"not solo anymore\". The actor got married to Kiara Advani. Earlier, talking about her, Sidharth said that their marriage was \"meant to be\" and he feels fortunate that they were loved on-screen in \\'Shershaah\\' and are loved off-screen as well.',\n",
       "  'category': 'entertainment'},\n",
       " {'title': \"There's a plan to make a spy film with the women: 'Pathaan' writer\",\n",
       "  'text': '\\'Pathaan\\' writer Shridhar Raghavan has said that there is a plan to make a women-led spy film in Yash Raj Films\\' spy universe. \"There\\'s no limitation here and we don\\'t just plan on working with Hrithik Roshan, Shah Rukh Khan and Salman Khan. There are two other crucial characters in the universe - Rubai and Zoya,\" he added.',\n",
       "  'category': 'entertainment'},\n",
       " {'title': \"Grateful to Mohit for letting me record 'Galliyan': Shraddha\",\n",
       "  'text': 'Actress Shraddha Kapoor said that she is \"grateful\" to filmmaker Mohit Suri for letting her record the unplugged version of the song \\'Galliyan\\' from her film \\'Ek Villain\\'. \"One day during the filming of \\'Ek Villian\\'...Mohit [called me and said], \\'Come to the studio, let\\'s record the song \\'Galliyan\\'\\',\" she added. Shraddha said she was terrified as she wasn\\'t prepared.',\n",
       "  'category': 'entertainment'},\n",
       " {'title': 'Diagnosed with Influenza B, staying away from my babies: Debina',\n",
       "  'text': 'Actress Debina Bonnerjee took to Instagram Stories and revealed that she has been diagnosed with Influenza B. The actress shared a picture of test results and wrote, \"So got Influenza B Virus. Well, hang on Mamma! Staying away from my babies now...Motherhood is anything but easy.\" Debina also shared that she had a fever and cough.',\n",
       "  'category': 'entertainment'},\n",
       " {'title': \"Broke my heart, we didn't do justice: Shahid on Jersey's failure\",\n",
       "  'text': 'Actor Shahid Kapoor said the failure of his film \\'Jersey\\' broke his heart, adding that they didn\\'t do justice to the movie. \"We could have made better choices...With \\'Jersey\\', I realised that films are like fast food, one has to consume it at that moment,\" he stated. \"Everybody...told me I should not do \\'Jersey\\',\" Shahid had earlier said.',\n",
       "  'category': 'entertainment'},\n",
       " {'title': 'Actors today focus on gym and social media more: Govind Namdev',\n",
       "  'text': 'Actor Govind Namdev has said that the current actors are more focused on the gym and social media. \"When we would get a role, we would be dedicated to it wholly. That would be our focus...Today, that focus is gone,\" he added. Govind stated there used to be connections \"between actors or actors...directors, actors...writers [and] their work\" earlier.',\n",
       "  'category': 'entertainment'},\n",
       " {'title': \"Nandita said she won't make Zwigato with a star like SRK: Kapil\",\n",
       "  'text': 'Comedian-actor Kapil Sharma said that when Nandita Das narrated the story of \\'Zwigato\\' to him, he asked her, \"Why me?\" In response, Kapil shared that Nandita told him, \"Even if...global star like Shah Rukh Khan says yes, I\\'ll...not make it with him. Your face is like...common man [it\\'s perfect for the character].\" Kapil called himself a fan of Das\\' work.',\n",
       "  'category': 'entertainment'},\n",
       " {'title': 'His wife Aaliya has tolerated a lot: Shamas on Nawazuddin',\n",
       "  'text': 'Actor Nawazuddin Siddiqui\\'s brother Shamas Nawab Siddiqui shared that there were problems in the actor and his wife Aaliya\\'s marriage since the beginning. \"As a woman, she has taken a lot. She has tolerated a lot,\" Shamas told ETimes. He also spoke about how Nawazuddin refused to complete his film \\'Bole Chudiyan\\' until the producers paid all his dues.',\n",
       "  'category': 'entertainment'},\n",
       " {'title': \"We'd end up matching clothes without planning: Amrita on husband\",\n",
       "  'text': 'Speaking about the similarities that she found with her husband RJ Anmol after they met for the first time, actress Amrita Rao said, \"We clicked together like anything!\" \"We would end up matching clothes without even planning it!\" added Amrita. The couple, who met for the first time during Amrita\\'s movie promotion at a radio station, got married in 2014.',\n",
       "  'category': 'entertainment'},\n",
       " {'title': \"Kartik Aaryan announces 'Bhool Bhulaiyaa 3', to release in 2024\",\n",
       "  'text': 'Actor Kartik Aaryan took to Instagram and announced the third instalment of the \\'Bhool Bhulaiyaa\\' franchise. \"Rooh Baba Returns, Diwali 2024,\" the actor captioned his post. This comes after Kartik\\'s \\'Bhool Bhulaiyaa 2\\', which was directed by Anees Bazmee, collected over ₹260 crore worldwide. The first instalment, which was directed by Priyadarshan, featured Akshay Kumar and Vidya Balan.',\n",
       "  'category': 'entertainment'},\n",
       " {'title': \"I won't pay the bill on a date, says Nora Fatehi\",\n",
       "  'text': 'Kapil Sharma, in a recent episode of \\'The Kapil Sharma Show\\', quoted Nora Fatehi\\'s earlier statement about how she expects men to pay the bill on dates. When Archana Puran Singh said that in today\\'s time, even women pay on dates, Nora stuck to her old opinion and said, \"You can pay but I\\'m not paying [on dates].\"',\n",
       "  'category': 'entertainment'}]"
      ]
     },
     "execution_count": 14,
     "metadata": {},
     "output_type": "execute_result"
    }
   ],
   "source": [
    "get_news_articles(['business','sports','technology','entertainment'])"
   ]
  },
  {
   "cell_type": "code",
   "execution_count": null,
   "id": "6b8717a9",
   "metadata": {},
   "outputs": [],
   "source": []
  },
  {
   "cell_type": "code",
   "execution_count": null,
   "id": "39178cf9",
   "metadata": {},
   "outputs": [],
   "source": []
  }
 ],
 "metadata": {
  "kernelspec": {
   "display_name": "Python 3 (ipykernel)",
   "language": "python",
   "name": "python3"
  },
  "language_info": {
   "codemirror_mode": {
    "name": "ipython",
    "version": 3
   },
   "file_extension": ".py",
   "mimetype": "text/x-python",
   "name": "python",
   "nbconvert_exporter": "python",
   "pygments_lexer": "ipython3",
   "version": "3.9.13"
  }
 },
 "nbformat": 4,
 "nbformat_minor": 5
}
